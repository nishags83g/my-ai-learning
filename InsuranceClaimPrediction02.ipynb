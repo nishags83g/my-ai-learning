{
 "cells": [
  {
   "cell_type": "markdown",
   "metadata": {},
   "source": [
    "**Independent variables**\n",
    "\n",
    "1. age : age of policyholder\n",
    "2. sex: gender of policy holder (female=0, male=1)\n",
    "3. bmi: Body mass index, ideally 18.5 to 25\n",
    "4. children: number of children / dependents of policyholder\n",
    "5. smoker: smoking state of policyholder (non-smoke=0;smoker=1) \n",
    "6. region: the residential area of policyholder in the US (northeast=0, northwest=1, southeast=2, southwest=3)\n",
    "7. charges: individual medical costs billed by health insurance\n",
    "\n",
    "**Target variable**\n",
    "\n",
    "1. insuranceclaim - categorical variable (0,1)"
   ]
  },
  {
   "cell_type": "code",
   "execution_count": null,
   "metadata": {},
   "outputs": [],
   "source": [
    "import pandas as pd\n",
    "import numpy as np\n",
    "import seaborn as sns\n",
    "import matplotlib.pyplot as plt\n",
    "%matplotlib inline\n",
    " \n",
    "from sklearn.linear_model import LogisticRegression\n",
    "\n",
    "import warnings\n",
    "warnings.filterwarnings('ignore')\n"
   ]
  },
  {
   "cell_type": "code",
   "execution_count": null,
   "metadata": {},
   "outputs": [],
   "source": [
    "insuranceDF = pd.read_csv('insurance2.csv')\n",
    "print(insuranceDF.head())"
   ]
  },
  {
   "cell_type": "code",
   "execution_count": null,
   "metadata": {
    "scrolled": true
   },
   "outputs": [],
   "source": [
    "insuranceDF.info()"
   ]
  },
  {
   "cell_type": "markdown",
   "metadata": {},
   "source": [
    "Let's start by finding correlation of every pair of features (and the outcome variable), and visualizing the correlations using a heatmap."
   ]
  },
  {
   "cell_type": "code",
   "execution_count": null,
   "metadata": {},
   "outputs": [],
   "source": [
    "corr = insuranceDF.corr()\n",
    "print(corr)\n",
    "sns.heatmap(corr, \n",
    "        xticklabels=corr.columns,\n",
    "        yticklabels=corr.columns)"
   ]
  },
  {
   "cell_type": "markdown",
   "metadata": {},
   "source": [
    "The dataset consists the records of 1338 patients in total. Using 1000 records for training and 300 records for testing, and the last 38 records to cross check your model."
   ]
  },
  {
   "cell_type": "code",
   "execution_count": null,
   "metadata": {},
   "outputs": [],
   "source": [
    "dfTrain = insuranceDF[:1000]\n",
    "dfTest = insuranceDF[1000:1300]\n",
    "dfCheck = insuranceDF[1300:] "
   ]
  },
  {
   "cell_type": "code",
   "execution_count": null,
   "metadata": {},
   "outputs": [],
   "source": [
    "print(dfTrain.head())\n",
    "print(dfTest.head())\n",
    "print(dfCheck.head())"
   ]
  },
  {
   "cell_type": "code",
   "execution_count": null,
   "metadata": {},
   "outputs": [],
   "source": [
    "trainLabel = np.asarray(dfTrain['insuranceclaim'])\n",
    "trainData = np.asarray(dfTrain.drop('insuranceclaim', axis=1))\n",
    "testLabel = np.asarray(dfTest['insuranceclaim'])\n",
    "testData = np.asarray(dfTest.drop('insuranceclaim', axis=1))"
   ]
  },
  {
   "cell_type": "code",
   "execution_count": null,
   "metadata": {},
   "outputs": [],
   "source": [
    "print(trainData[:5])\n",
    "print(trainLabel[:5])\n",
    "print(testData[:5])\n",
    "print(testLabel[:5])"
   ]
  },
  {
   "cell_type": "markdown",
   "metadata": {},
   "source": [
    "Before using machine learning,normalize your inputs. Machine Learning models often benefit substantially from input normalization. It also makes it easier to understand the importance of each feature later, when looking at the model weights. Normalize the data such that each variable has 0 mean and standard deviation of 1."
   ]
  },
  {
   "cell_type": "code",
   "execution_count": null,
   "metadata": {},
   "outputs": [],
   "source": [
    "means = np.mean(trainData, axis=0)\n",
    "stds = np.std(trainData, axis=0)\n",
    " \n",
    "trainData = (trainData - means)/stds\n",
    "testData = (testData - means)/stds"
   ]
  },
  {
   "cell_type": "code",
   "execution_count": null,
   "metadata": {},
   "outputs": [],
   "source": [
    "insuranceCheck = LogisticRegression()\n",
    "insuranceCheck.fit(trainData, trainLabel)"
   ]
  },
  {
   "cell_type": "code",
   "execution_count": null,
   "metadata": {},
   "outputs": [],
   "source": [
    "from sklearn.metrics import confusion_matrix\n",
    "y_pred = insuranceCheck.predict(testData)\n",
    "cm_lr = confusion_matrix(testLabel,y_pred)\n",
    "\n",
    "print(cm_lr)"
   ]
  },
  {
   "cell_type": "markdown",
   "metadata": {},
   "source": [
    "Now, use test data to find out accuracy of the model."
   ]
  },
  {
   "cell_type": "code",
   "execution_count": null,
   "metadata": {},
   "outputs": [],
   "source": [
    "accuracy = insuranceCheck.score(testData, testLabel)\n",
    "print(\"accuracy = \", accuracy * 100, \"%\")"
   ]
  },
  {
   "cell_type": "markdown",
   "metadata": {},
   "source": [
    "To get a better sense of what is going on inside the logistic regression model, visualize how your model uses the different features and which features have greater effect."
   ]
  },
  {
   "cell_type": "code",
   "execution_count": null,
   "metadata": {},
   "outputs": [],
   "source": [
    "coeff = list(insuranceCheck.coef_[0])\n",
    "labels = list(dfTrain.drop(columns='insuranceclaim').columns)\n",
    "features = pd.DataFrame()\n",
    "features['Features'] = labels\n",
    "features['importance'] = coeff\n",
    "features.sort_values(by=['importance'], ascending=True, inplace=True)\n",
    "features['positive'] = features['importance'] > 0\n",
    "features.set_index('Features', inplace=True)\n",
    "features.importance.plot(kind='barh', figsize=(11, 6), color=features.positive.map({True: 'blue', False: 'red'}))\n",
    "plt.xlabel('Importance')"
   ]
  },
  {
   "cell_type": "markdown",
   "metadata": {},
   "source": [
    "From the above figure, \n",
    "\n",
    "1. BMI and Smoker category have significant influence on the model, especially BMI. \n",
    "\n",
    "2. Children have a negative influence on the prediction, i.e. the number of children  are highly correlated with a policy holder who has not claimed insurance amount.\n",
    "\n",
    "3. Although age was better correlated than BMI to the target variable of Insurance Claim, the model relies more on BMI. This can happen for several reasons, including the fact that the correlation captured by age is also captured by some other variable, whereas the information captured by BMI is not captured by other variables.\n",
    "\n"
   ]
  }
 ],
 "metadata": {
  "kernelspec": {
   "display_name": "Python 3 (ipykernel)",
   "language": "python",
   "name": "python3"
  },
  "language_info": {
   "codemirror_mode": {
    "name": "ipython",
    "version": 3
   },
   "file_extension": ".py",
   "mimetype": "text/x-python",
   "name": "python",
   "nbconvert_exporter": "python",
   "pygments_lexer": "ipython3",
   "version": "3.12.4"
  }
 },
 "nbformat": 4,
 "nbformat_minor": 4
}
