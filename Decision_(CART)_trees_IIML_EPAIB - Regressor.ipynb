{
 "cells": [
  {
   "cell_type": "markdown",
   "metadata": {
    "colab_type": "text",
    "id": "cv_Hgy1Qkx-Q"
   },
   "source": [
    "Decision Trees in Python with Scikit-Learn\n",
    "-------------------------------------------------------------"
   ]
  },
  {
   "cell_type": "markdown",
   "metadata": {
    "colab_type": "text",
    "id": "6UawJQMEkx-t"
   },
   "source": [
    "# 2. Decision Tree for Regression\n",
    "------------------------------------------------------\n",
    "<b><font color='green'>( We will be using DecisionTreeRegressor from sklearn.tree.</b> It is fast, simple and takes care of all the Math part. We will concentrate only on Coding and solving the Real time problem. )</font><br><br>\n",
    "<font color='red'>\n",
    "We will use petrol_consumption.csv dataset and <b>try to predict gas consumptions</b> (in millions of gallons) in 48 US states <u>based upon</u> gas tax (in cents), per capita income (dollars), paved highways (in miles) and the proportion of population with a drivers license. </font>\n",
    "\n",
    "**Note :** In the dataset **Petrol_Consumption** is the target variable. \n",
    "ile is available in the path:\n",
    "https://drive.google.com/file/d/12mzwM_KgRb7T9GydP9NCWk92se50mh77/view?usp=drive_link"
   ]
  },
  {
   "cell_type": "code",
   "execution_count": 2,
   "metadata": {
    "colab": {
     "base_uri": "https://localhost:8080/",
     "height": 202
    },
    "colab_type": "code",
    "id": "ll3ehD5ckx-v",
    "outputId": "1af6e748-2721-4260-dde9-43acb9a19e71"
   },
   "outputs": [
    {
     "data": {
      "text/html": [
       "<div>\n",
       "<style scoped>\n",
       "    .dataframe tbody tr th:only-of-type {\n",
       "        vertical-align: middle;\n",
       "    }\n",
       "\n",
       "    .dataframe tbody tr th {\n",
       "        vertical-align: top;\n",
       "    }\n",
       "\n",
       "    .dataframe thead th {\n",
       "        text-align: right;\n",
       "    }\n",
       "</style>\n",
       "<table border=\"1\" class=\"dataframe\">\n",
       "  <thead>\n",
       "    <tr style=\"text-align: right;\">\n",
       "      <th></th>\n",
       "      <th>Petrol_tax</th>\n",
       "      <th>Average_income</th>\n",
       "      <th>Paved_Highways</th>\n",
       "      <th>Population_Driver_licence(%)</th>\n",
       "      <th>Petrol_Consumption</th>\n",
       "    </tr>\n",
       "  </thead>\n",
       "  <tbody>\n",
       "    <tr>\n",
       "      <th>0</th>\n",
       "      <td>9.0</td>\n",
       "      <td>3571</td>\n",
       "      <td>1976</td>\n",
       "      <td>0.525</td>\n",
       "      <td>541</td>\n",
       "    </tr>\n",
       "    <tr>\n",
       "      <th>1</th>\n",
       "      <td>9.0</td>\n",
       "      <td>4092</td>\n",
       "      <td>1250</td>\n",
       "      <td>0.572</td>\n",
       "      <td>524</td>\n",
       "    </tr>\n",
       "    <tr>\n",
       "      <th>2</th>\n",
       "      <td>9.0</td>\n",
       "      <td>3865</td>\n",
       "      <td>1586</td>\n",
       "      <td>0.580</td>\n",
       "      <td>561</td>\n",
       "    </tr>\n",
       "    <tr>\n",
       "      <th>3</th>\n",
       "      <td>7.5</td>\n",
       "      <td>4870</td>\n",
       "      <td>2351</td>\n",
       "      <td>0.529</td>\n",
       "      <td>414</td>\n",
       "    </tr>\n",
       "    <tr>\n",
       "      <th>4</th>\n",
       "      <td>8.0</td>\n",
       "      <td>4399</td>\n",
       "      <td>431</td>\n",
       "      <td>0.544</td>\n",
       "      <td>410</td>\n",
       "    </tr>\n",
       "  </tbody>\n",
       "</table>\n",
       "</div>"
      ],
      "text/plain": [
       "   Petrol_tax  Average_income  Paved_Highways  Population_Driver_licence(%)  \\\n",
       "0         9.0            3571            1976                         0.525   \n",
       "1         9.0            4092            1250                         0.572   \n",
       "2         9.0            3865            1586                         0.580   \n",
       "3         7.5            4870            2351                         0.529   \n",
       "4         8.0            4399             431                         0.544   \n",
       "\n",
       "   Petrol_Consumption  \n",
       "0                 541  \n",
       "1                 524  \n",
       "2                 561  \n",
       "3                 414  \n",
       "4                 410  "
      ]
     },
     "execution_count": 2,
     "metadata": {},
     "output_type": "execute_result"
    }
   ],
   "source": [
    "# Importing Libraries\n",
    "import pandas as pd  \n",
    "import numpy as np  \n",
    "import matplotlib.pyplot as plt  \n",
    "%matplotlib inline\n",
    "\n",
    "# Importing the Dataset\n",
    "dataset = pd.read_csv('petrol_consumption.csv')\n",
    "\n",
    "dataset.head()  "
   ]
  },
  {
   "cell_type": "code",
   "execution_count": 4,
   "metadata": {
    "colab": {
     "base_uri": "https://localhost:8080/",
     "height": 294
    },
    "colab_type": "code",
    "id": "gIUQEWChkx-1",
    "outputId": "7f9cd588-94d1-4205-eb0f-aba2203b410a"
   },
   "outputs": [
    {
     "data": {
      "text/html": [
       "<div>\n",
       "<style scoped>\n",
       "    .dataframe tbody tr th:only-of-type {\n",
       "        vertical-align: middle;\n",
       "    }\n",
       "\n",
       "    .dataframe tbody tr th {\n",
       "        vertical-align: top;\n",
       "    }\n",
       "\n",
       "    .dataframe thead th {\n",
       "        text-align: right;\n",
       "    }\n",
       "</style>\n",
       "<table border=\"1\" class=\"dataframe\">\n",
       "  <thead>\n",
       "    <tr style=\"text-align: right;\">\n",
       "      <th></th>\n",
       "      <th>Petrol_tax</th>\n",
       "      <th>Average_income</th>\n",
       "      <th>Paved_Highways</th>\n",
       "      <th>Population_Driver_licence(%)</th>\n",
       "      <th>Petrol_Consumption</th>\n",
       "    </tr>\n",
       "  </thead>\n",
       "  <tbody>\n",
       "    <tr>\n",
       "      <th>count</th>\n",
       "      <td>48.000000</td>\n",
       "      <td>48.000000</td>\n",
       "      <td>48.000000</td>\n",
       "      <td>48.000000</td>\n",
       "      <td>48.000000</td>\n",
       "    </tr>\n",
       "    <tr>\n",
       "      <th>mean</th>\n",
       "      <td>7.668333</td>\n",
       "      <td>4241.833333</td>\n",
       "      <td>5565.416667</td>\n",
       "      <td>0.570333</td>\n",
       "      <td>576.770833</td>\n",
       "    </tr>\n",
       "    <tr>\n",
       "      <th>std</th>\n",
       "      <td>0.950770</td>\n",
       "      <td>573.623768</td>\n",
       "      <td>3491.507166</td>\n",
       "      <td>0.055470</td>\n",
       "      <td>111.885816</td>\n",
       "    </tr>\n",
       "    <tr>\n",
       "      <th>min</th>\n",
       "      <td>5.000000</td>\n",
       "      <td>3063.000000</td>\n",
       "      <td>431.000000</td>\n",
       "      <td>0.451000</td>\n",
       "      <td>344.000000</td>\n",
       "    </tr>\n",
       "    <tr>\n",
       "      <th>25%</th>\n",
       "      <td>7.000000</td>\n",
       "      <td>3739.000000</td>\n",
       "      <td>3110.250000</td>\n",
       "      <td>0.529750</td>\n",
       "      <td>509.500000</td>\n",
       "    </tr>\n",
       "    <tr>\n",
       "      <th>50%</th>\n",
       "      <td>7.500000</td>\n",
       "      <td>4298.000000</td>\n",
       "      <td>4735.500000</td>\n",
       "      <td>0.564500</td>\n",
       "      <td>568.500000</td>\n",
       "    </tr>\n",
       "    <tr>\n",
       "      <th>75%</th>\n",
       "      <td>8.125000</td>\n",
       "      <td>4578.750000</td>\n",
       "      <td>7156.000000</td>\n",
       "      <td>0.595250</td>\n",
       "      <td>632.750000</td>\n",
       "    </tr>\n",
       "    <tr>\n",
       "      <th>max</th>\n",
       "      <td>10.000000</td>\n",
       "      <td>5342.000000</td>\n",
       "      <td>17782.000000</td>\n",
       "      <td>0.724000</td>\n",
       "      <td>968.000000</td>\n",
       "    </tr>\n",
       "  </tbody>\n",
       "</table>\n",
       "</div>"
      ],
      "text/plain": [
       "       Petrol_tax  Average_income  Paved_Highways  \\\n",
       "count   48.000000       48.000000       48.000000   \n",
       "mean     7.668333     4241.833333     5565.416667   \n",
       "std      0.950770      573.623768     3491.507166   \n",
       "min      5.000000     3063.000000      431.000000   \n",
       "25%      7.000000     3739.000000     3110.250000   \n",
       "50%      7.500000     4298.000000     4735.500000   \n",
       "75%      8.125000     4578.750000     7156.000000   \n",
       "max     10.000000     5342.000000    17782.000000   \n",
       "\n",
       "       Population_Driver_licence(%)  Petrol_Consumption  \n",
       "count                     48.000000           48.000000  \n",
       "mean                       0.570333          576.770833  \n",
       "std                        0.055470          111.885816  \n",
       "min                        0.451000          344.000000  \n",
       "25%                        0.529750          509.500000  \n",
       "50%                        0.564500          568.500000  \n",
       "75%                        0.595250          632.750000  \n",
       "max                        0.724000          968.000000  "
      ]
     },
     "execution_count": 4,
     "metadata": {},
     "output_type": "execute_result"
    }
   ],
   "source": [
    "# To see statistical details of the dataset, execute the following command:\n",
    "\n",
    "dataset.describe()\n"
   ]
  },
  {
   "cell_type": "code",
   "execution_count": 6,
   "metadata": {
    "colab": {
     "base_uri": "https://localhost:8080/",
     "height": 355
    },
    "colab_type": "code",
    "id": "g07wwXIJkx-7",
    "outputId": "48eda98f-55ae-470f-bc13-6390aab12085"
   },
   "outputs": [
    {
     "name": "stdout",
     "output_type": "stream",
     "text": [
      "(48, 4)\n",
      "(48,)\n"
     ]
    }
   ],
   "source": [
    "# Preparing the Data\n",
    "# divide the data into attributes and labels\n",
    "X = dataset.drop('Petrol_Consumption', axis=1)  \n",
    "y = dataset['Petrol_Consumption']  \n",
    "print(X.shape)\n",
    "print(y.shape)"
   ]
  },
  {
   "cell_type": "code",
   "execution_count": 8,
   "metadata": {},
   "outputs": [
    {
     "name": "stdout",
     "output_type": "stream",
     "text": [
      "(38, 4)\n",
      "(10, 4)\n",
      "(38,)\n",
      "(10,)\n"
     ]
    }
   ],
   "source": [
    "# dividing data into training and testing set\n",
    "from sklearn.model_selection import train_test_split  \n",
    "X_train, X_test, y_train, y_test = train_test_split(X, y, test_size=0.2, random_state=0)\n",
    "print(X_train.shape)\n",
    "print(X_test.shape)\n",
    "print(y_train.shape)\n",
    "print(y_test.shape)"
   ]
  },
  {
   "cell_type": "code",
   "execution_count": 10,
   "metadata": {},
   "outputs": [
    {
     "name": "stdout",
     "output_type": "stream",
     "text": [
      "DecisionTreeRegressor()\n"
     ]
    }
   ],
   "source": [
    "# Training and Making Predictions\n",
    "# Note : we will using DecisionTreeRegressor class, not DecisionTreeClassifier\n",
    "\n",
    "from sklearn.tree import DecisionTreeRegressor\n",
    "\n",
    "regressor = DecisionTreeRegressor()\n",
    "regressor.fit(X_train, y_train)\n",
    "print(regressor)"
   ]
  },
  {
   "cell_type": "code",
   "execution_count": 22,
   "metadata": {},
   "outputs": [
    {
     "data": {
      "text/plain": [
       "[Text(0.7760416666666666, 0.95, 'x[3] <= 0.667\\nsquared_error = 13692.341\\nsamples = 38\\nvalue = 583.974'),\n",
       " Text(0.59375, 0.85, 'x[1] <= 4389.5\\nsquared_error = 6666.408\\nsamples = 34\\nvalue = 556.941'),\n",
       " Text(0.390625, 0.75, 'x[0] <= 8.75\\nsquared_error = 2855.42\\nsamples = 21\\nvalue = 600.762'),\n",
       " Text(0.2604166666666667, 0.65, 'x[2] <= 5350.0\\nsquared_error = 2527.34\\nsamples = 16\\nvalue = 617.312'),\n",
       " Text(0.15625, 0.55, 'x[1] <= 3731.5\\nsquared_error = 1754.0\\nsamples = 7\\nvalue = 646.0'),\n",
       " Text(0.08333333333333333, 0.45, 'x[1] <= 3645.5\\nsquared_error = 1251.188\\nsamples = 4\\nvalue = 672.25'),\n",
       " Text(0.041666666666666664, 0.35, 'x[2] <= 3697.5\\nsquared_error = 100.0\\nsamples = 2\\nvalue = 638.0'),\n",
       " Text(0.020833333333333332, 0.25, 'squared_error = 0.0\\nsamples = 1\\nvalue = 648.0'),\n",
       " Text(0.0625, 0.25, 'squared_error = 0.0\\nsamples = 1\\nvalue = 628.0'),\n",
       " Text(0.125, 0.35, 'x[1] <= 3687.0\\nsquared_error = 56.25\\nsamples = 2\\nvalue = 706.5'),\n",
       " Text(0.10416666666666667, 0.25, 'squared_error = 0.0\\nsamples = 1\\nvalue = 699.0'),\n",
       " Text(0.14583333333333334, 0.25, 'squared_error = 0.0\\nsamples = 1\\nvalue = 714.0'),\n",
       " Text(0.22916666666666666, 0.45, 'x[1] <= 4298.0\\nsquared_error = 280.667\\nsamples = 3\\nvalue = 611.0'),\n",
       " Text(0.20833333333333334, 0.35, 'x[1] <= 4020.5\\nsquared_error = 90.25\\nsamples = 2\\nvalue = 600.5'),\n",
       " Text(0.1875, 0.25, 'squared_error = 0.0\\nsamples = 1\\nvalue = 591.0'),\n",
       " Text(0.22916666666666666, 0.25, 'squared_error = 0.0\\nsamples = 1\\nvalue = 610.0'),\n",
       " Text(0.25, 0.35, 'squared_error = 0.0\\nsamples = 1\\nvalue = 632.0'),\n",
       " Text(0.3645833333333333, 0.55, 'x[2] <= 7214.0\\nsquared_error = 1990.889\\nsamples = 9\\nvalue = 595.0'),\n",
       " Text(0.3125, 0.45, 'x[1] <= 4197.5\\nsquared_error = 763.556\\nsamples = 3\\nvalue = 545.333'),\n",
       " Text(0.2916666666666667, 0.35, 'x[3] <= 0.538\\nsquared_error = 100.0\\nsamples = 2\\nvalue = 564.0'),\n",
       " Text(0.2708333333333333, 0.25, 'squared_error = 0.0\\nsamples = 1\\nvalue = 554.0'),\n",
       " Text(0.3125, 0.25, 'squared_error = 0.0\\nsamples = 1\\nvalue = 574.0'),\n",
       " Text(0.3333333333333333, 0.35, 'squared_error = 0.0\\nsamples = 1\\nvalue = 508.0'),\n",
       " Text(0.4166666666666667, 0.45, 'x[1] <= 4325.0\\nsquared_error = 754.472\\nsamples = 6\\nvalue = 619.833'),\n",
       " Text(0.3958333333333333, 0.35, 'x[1] <= 4125.5\\nsquared_error = 209.84\\nsamples = 5\\nvalue = 630.6'),\n",
       " Text(0.3541666666666667, 0.25, 'x[0] <= 7.04\\nsquared_error = 29.556\\nsamples = 3\\nvalue = 638.333'),\n",
       " Text(0.3333333333333333, 0.15, 'x[0] <= 5.79\\nsquared_error = 4.0\\nsamples = 2\\nvalue = 642.0'),\n",
       " Text(0.3125, 0.05, 'squared_error = 0.0\\nsamples = 1\\nvalue = 640.0'),\n",
       " Text(0.3541666666666667, 0.05, 'squared_error = 0.0\\nsamples = 1\\nvalue = 644.0'),\n",
       " Text(0.375, 0.15, 'squared_error = 0.0\\nsamples = 1\\nvalue = 631.0'),\n",
       " Text(0.4375, 0.25, 'x[1] <= 4262.0\\nsquared_error = 256.0\\nsamples = 2\\nvalue = 619.0'),\n",
       " Text(0.4166666666666667, 0.15, 'squared_error = 0.0\\nsamples = 1\\nvalue = 603.0'),\n",
       " Text(0.4583333333333333, 0.15, 'squared_error = 0.0\\nsamples = 1\\nvalue = 635.0'),\n",
       " Text(0.4375, 0.35, 'squared_error = 0.0\\nsamples = 1\\nvalue = 566.0'),\n",
       " Text(0.5208333333333334, 0.65, 'x[2] <= 1418.0\\nsquared_error = 223.76\\nsamples = 5\\nvalue = 547.8'),\n",
       " Text(0.5, 0.55, 'squared_error = 0.0\\nsamples = 1\\nvalue = 524.0'),\n",
       " Text(0.5416666666666666, 0.55, 'x[3] <= 0.535\\nsquared_error = 102.688\\nsamples = 4\\nvalue = 553.75'),\n",
       " Text(0.5, 0.45, 'x[3] <= 0.521\\nsquared_error = 9.0\\nsamples = 2\\nvalue = 544.0'),\n",
       " Text(0.4791666666666667, 0.35, 'squared_error = 0.0\\nsamples = 1\\nvalue = 547.0'),\n",
       " Text(0.5208333333333334, 0.35, 'squared_error = 0.0\\nsamples = 1\\nvalue = 541.0'),\n",
       " Text(0.5833333333333334, 0.45, 'x[2] <= 3166.0\\nsquared_error = 6.25\\nsamples = 2\\nvalue = 563.5'),\n",
       " Text(0.5625, 0.35, 'squared_error = 0.0\\nsamples = 1\\nvalue = 561.0'),\n",
       " Text(0.6041666666666666, 0.35, 'squared_error = 0.0\\nsamples = 1\\nvalue = 566.0'),\n",
       " Text(0.796875, 0.75, 'x[3] <= 0.572\\nsquared_error = 4709.822\\nsamples = 13\\nvalue = 486.154'),\n",
       " Text(0.71875, 0.65, 'x[3] <= 0.481\\nsquared_error = 2144.914\\nsamples = 9\\nvalue = 453.556'),\n",
       " Text(0.6979166666666666, 0.55, 'squared_error = 0.0\\nsamples = 1\\nvalue = 344.0'),\n",
       " Text(0.7395833333333334, 0.55, 'x[2] <= 3280.5\\nsquared_error = 725.188\\nsamples = 8\\nvalue = 467.25'),\n",
       " Text(0.6666666666666666, 0.45, 'x[0] <= 8.0\\nsquared_error = 408.688\\nsamples = 4\\nvalue = 448.75'),\n",
       " Text(0.6458333333333334, 0.35, 'squared_error = 0.0\\nsamples = 1\\nvalue = 414.0'),\n",
       " Text(0.6875, 0.35, 'x[3] <= 0.531\\nsquared_error = 8.222\\nsamples = 3\\nvalue = 460.333'),\n",
       " Text(0.6666666666666666, 0.25, 'squared_error = 0.0\\nsamples = 1\\nvalue = 464.0'),\n",
       " Text(0.7083333333333334, 0.25, 'x[1] <= 4958.0\\nsquared_error = 2.25\\nsamples = 2\\nvalue = 458.5'),\n",
       " Text(0.6875, 0.15, 'squared_error = 0.0\\nsamples = 1\\nvalue = 460.0'),\n",
       " Text(0.7291666666666666, 0.15, 'squared_error = 0.0\\nsamples = 1\\nvalue = 457.0'),\n",
       " Text(0.8125, 0.45, 'x[2] <= 8542.0\\nsquared_error = 357.188\\nsamples = 4\\nvalue = 485.75'),\n",
       " Text(0.7708333333333334, 0.35, 'x[2] <= 6224.5\\nsquared_error = 36.0\\nsamples = 2\\nvalue = 504.0'),\n",
       " Text(0.75, 0.25, 'squared_error = 0.0\\nsamples = 1\\nvalue = 510.0'),\n",
       " Text(0.7916666666666666, 0.25, 'squared_error = 0.0\\nsamples = 1\\nvalue = 498.0'),\n",
       " Text(0.8541666666666666, 0.35, 'x[3] <= 0.527\\nsquared_error = 12.25\\nsamples = 2\\nvalue = 467.5'),\n",
       " Text(0.8333333333333334, 0.25, 'squared_error = 0.0\\nsamples = 1\\nvalue = 471.0'),\n",
       " Text(0.875, 0.25, 'squared_error = 0.0\\nsamples = 1\\nvalue = 464.0'),\n",
       " Text(0.875, 0.65, 'x[1] <= 4705.0\\nsquared_error = 2710.25\\nsamples = 4\\nvalue = 559.5'),\n",
       " Text(0.8541666666666666, 0.55, 'squared_error = 0.0\\nsamples = 1\\nvalue = 649.0'),\n",
       " Text(0.8958333333333334, 0.55, 'x[2] <= 3766.0\\nsquared_error = 53.556\\nsamples = 3\\nvalue = 529.667'),\n",
       " Text(0.875, 0.45, 'squared_error = 0.0\\nsamples = 1\\nvalue = 540.0'),\n",
       " Text(0.9166666666666666, 0.45, 'x[2] <= 8362.0\\nsquared_error = 0.25\\nsamples = 2\\nvalue = 524.5'),\n",
       " Text(0.8958333333333334, 0.35, 'squared_error = 0.0\\nsamples = 1\\nvalue = 525.0'),\n",
       " Text(0.9375, 0.35, 'squared_error = 0.0\\nsamples = 1\\nvalue = 524.0'),\n",
       " Text(0.9583333333333334, 0.85, 'x[0] <= 7.75\\nsquared_error = 14404.188\\nsamples = 4\\nvalue = 813.75'),\n",
       " Text(0.9375, 0.75, 'x[1] <= 4530.5\\nsquared_error = 5788.222\\nsamples = 3\\nvalue = 871.667'),\n",
       " Text(0.9166666666666666, 0.65, 'squared_error = 0.0\\nsamples = 1\\nvalue = 968.0'),\n",
       " Text(0.9583333333333334, 0.65, 'x[2] <= 4108.5\\nsquared_error = 1722.25\\nsamples = 2\\nvalue = 823.5'),\n",
       " Text(0.9375, 0.55, 'squared_error = 0.0\\nsamples = 1\\nvalue = 782.0'),\n",
       " Text(0.9791666666666666, 0.55, 'squared_error = 0.0\\nsamples = 1\\nvalue = 865.0'),\n",
       " Text(0.9791666666666666, 0.75, 'squared_error = 0.0\\nsamples = 1\\nvalue = 640.0')]"
      ]
     },
     "execution_count": 22,
     "metadata": {},
     "output_type": "execute_result"
    },
    {
     "data": {
      "image/png": "[encoded data removed]",
      "text/plain": [
       "<Figure size 640x480 with 1 Axes>"
      ]
     },
     "metadata": {},
     "output_type": "display_data"
    }
   ],
   "source": [
    "from sklearn import tree\n",
    "tree.plot_tree(regressor)"
   ]
  },
  {
   "cell_type": "code",
   "execution_count": 12,
   "metadata": {},
   "outputs": [],
   "source": [
    "# To make predictions on the test set\n",
    "y_pred = regressor.predict(X_test)"
   ]
  },
  {
   "cell_type": "code",
   "execution_count": 20,
   "metadata": {},
   "outputs": [
    {
     "data": {
      "text/plain": [
       "(10,)"
      ]
     },
     "execution_count": 20,
     "metadata": {},
     "output_type": "execute_result"
    }
   ],
   "source": [
    "y_pred.shape\n",
    "\n"
   ]
  },
  {
   "cell_type": "code",
   "execution_count": 14,
   "metadata": {},
   "outputs": [
    {
     "name": "stdout",
     "output_type": "stream",
     "text": [
      "    Actual  Predicted\n",
      "29     534      547.0\n",
      "4      410      414.0\n",
      "26     577      574.0\n",
      "30     571      554.0\n",
      "32     577      574.0\n",
      "37     704      574.0\n",
      "34     487      648.0\n",
      "40     587      649.0\n",
      "7      467      414.0\n",
      "10     580      510.0\n"
     ]
    }
   ],
   "source": [
    "# Now let's compare the predicted values with the actual values and see how accurate we are:\n",
    "df = pd.DataFrame({'Actual': y_test, 'Predicted': y_pred})\n",
    "print(df)"
   ]
  },
  {
   "cell_type": "markdown",
   "metadata": {
    "colab_type": "text",
    "id": "R7Qb5-wHkx_E"
   },
   "source": [
    "**Note** : \n",
    "\n",
    "In each case the records compared may be different depending upon the train and test split of the data. Since the train_test_split method randomly splits the data we likely won't have the same training and test sets. For train_test_split with random_state=0 , you would get the same results."
   ]
  },
  {
   "cell_type": "code",
   "execution_count": 16,
   "metadata": {
    "colab": {
     "base_uri": "https://localhost:8080/",
     "height": 69
    },
    "colab_type": "code",
    "id": "de1cezwZkx_G",
    "outputId": "f343068b-8295-425f-ead9-d7b165df0158"
   },
   "outputs": [
    {
     "name": "stdout",
     "output_type": "stream",
     "text": [
      "Mean Absolute Error: 51.6\n",
      "Mean Squared Error: 5486.6\n",
      "Root Mean Squared Error: 74.0715869952845\n"
     ]
    }
   ],
   "source": [
    "# Evaluating the Algorithm\n",
    "from sklearn import metrics  \n",
    "print('Mean Absolute Error:', metrics.mean_absolute_error(y_test, y_pred))  \n",
    "print('Mean Squared Error:', metrics.mean_squared_error(y_test, y_pred))  \n",
    "print('Root Mean Squared Error:', np.sqrt(metrics.mean_squared_error(y_test, y_pred)))  "
   ]
  },
  {
   "cell_type": "markdown",
   "metadata": {
    "colab_type": "text",
    "id": "ETW50UXNkx_L"
   },
   "source": [
    "The root mean squared error for our algorithm is ------ , which is more than *10 percent of the mean* of all the values in the '**Petrol_Consumption**' column ( i.e **57.6** ). This means that our algorithm did not do a fine prediction job. Although getting a value **less than 10%** <u>would have been better</u>.\n",
    "\n",
    "There could many reasons for a Regression Algo to not perform that well, some reasons are : \n",
    "\n",
    "**`IMP`** The data sample is too less for training the Model. So instead of testing the model on just 20% of data and judging it , we can do a better job by applying  **CROSS VALIDATION** on our Model. \n"
   ]
  }
 ],
 "metadata": {
  "colab": {
   "collapsed_sections": [],
   "name": "7_Decision_(CART)_trees",
   "provenance": []
  },
  "kernelspec": {
   "display_name": "Python 3 (ipykernel)",
   "language": "python",
   "name": "python3"
  },
  "language_info": {
   "codemirror_mode": {
    "name": "ipython",
    "version": 3
   },
   "file_extension": ".py",
   "mimetype": "text/x-python",
   "name": "python",
   "nbconvert_exporter": "python",
   "pygments_lexer": "ipython3",
   "version": "3.12.4"
  }
 },
 "nbformat": 4,
 "nbformat_minor": 4
}
