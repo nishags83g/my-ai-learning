{
 "cells": [
  {
   "cell_type": "code",
   "execution_count": 1,
   "id": "664af65a-0ca1-49e8-92cc-6a8b8fcfba8e",
   "metadata": {},
   "outputs": [],
   "source": [
    "#Auomotive service industry: Personalised service recommendations for customers. \n",
    "#Can be used to drive up revenue. Can be used or cold calling, to provide tailored offers or to improve conversion rates  "
   ]
  },
  {
   "cell_type": "code",
   "execution_count": 3,
   "id": "5a9af37c-a226-4923-a192-c80b73d605c3",
   "metadata": {},
   "outputs": [],
   "source": [
    "#Datafiles used\n",
    "#Raw Files\n",
    "#MM_Amberpet_Aug24_Raw.csv, MM_Attapur_Aug24_Raw.csv, MM_Menacheril_Aug24_Raw.csv, MM_Ramanathapuram_Aug24_Raw.csv, VW_Kukatpally_Aug24_Raw.csv\n",
    "#VW_Guahati_Aug24_Raw.csv\n"
   ]
  },
  {
   "cell_type": "code",
   "execution_count": null,
   "id": "7f5338d5-7024-4dfe-bc12-b47a43cebebf",
   "metadata": {},
   "outputs": [],
   "source": [
    "#Define the problem\n",
    "#Provide service recommendations to walk-in customers based on their vehicle they own,vehicle age,past service history,\n",
    "#proactive maintenance (common problems?)"
   ]
  },
  {
   "cell_type": "code",
   "execution_count": 1,
   "id": "f561431b-9403-4220-b58d-eecccc1202f6",
   "metadata": {},
   "outputs": [],
   "source": [
    "import pandas as pd\n",
    "import seaborn as sns \n",
    "\n",
    "import matplotlib.pyplot as plt\n",
    "%matplotlib inline\n",
    "\n",
    "import numpy as np\n",
    "import missingno as msno"
   ]
  },
  {
   "cell_type": "code",
   "execution_count": 3,
   "id": "e74c79f3-1696-4490-9f6b-32ce87c3c4ed",
   "metadata": {},
   "outputs": [],
   "source": [
    "amberpet_df = pd.read_csv(\"MM_Amberpet_Aug24_Raw.csv\")\n",
    "attapur_df = pd.read_csv(\"MM_Attapur_Aug24_Raw.csv\")\n",
    "menacheril_df = pd.read_csv(\"MM_Menacheril_Aug24_Raw.csv\")\n",
    "ramanathapuram_df = pd.read_csv(\"MM_Ramanathapuram_Aug24_Raw.csv\")"
   ]
  },
  {
   "cell_type": "code",
   "execution_count": 47,
   "id": "e5d6686f-4ccd-4843-87a4-ca28a39dad66",
   "metadata": {},
   "outputs": [],
   "source": [
    "needed_columns=['Registration No','Vehicle Model','Sale Date','Kilometer','Service Type','Labour Code','Labour Basic Amount','Discount Amount','Tax Amount','Labour Total Amount','Billable Type','Bill Date']"
   ]
  },
  {
   "cell_type": "code",
   "execution_count": 53,
   "id": "f2dc4ea6-915d-4a7f-8508-acd7dcb7158a",
   "metadata": {},
   "outputs": [],
   "source": [
    "mm_consolidated_df = pd.concat([amberpet_df[needed_columns], attapur_df[needed_columns], menacheril_df[needed_columns],ramanathapuram_df[needed_columns]])"
   ]
  },
  {
   "cell_type": "code",
   "execution_count": 59,
   "id": "cf67be55-90e2-4d01-94ea-f2b50bd514a5",
   "metadata": {},
   "outputs": [],
   "source": [
    "def clncolnames(mindx):\n",
    "    mylist =[]\n",
    "    for i in mm_consolidated_df.columns: \n",
    "#string functions used\n",
    "        j=i.lower().replace(' ', '_').replace('<', '_')\n",
    "        mylist.append(j)\n",
    "    return mylist"
   ]
  },
  {
   "cell_type": "code",
   "execution_count": 61,
   "id": "aa55b1be-63aa-4925-90c0-37da74cf4079",
   "metadata": {},
   "outputs": [],
   "source": [
    "mm_consolidated_df.columns = clncolnames(mm_consolidated_df.columns)"
   ]
  },
  {
   "cell_type": "code",
   "execution_count": 63,
   "id": "75e0d603-4caf-48b6-a147-af162f92bd1e",
   "metadata": {},
   "outputs": [
    {
     "data": {
      "text/html": [
       "<div>\n",
       "<style scoped>\n",
       "    .dataframe tbody tr th:only-of-type {\n",
       "        vertical-align: middle;\n",
       "    }\n",
       "\n",
       "    .dataframe tbody tr th {\n",
       "        vertical-align: top;\n",
       "    }\n",
       "\n",
       "    .dataframe thead th {\n",
       "        text-align: right;\n",
       "    }\n",
       "</style>\n",
       "<table border=\"1\" class=\"dataframe\">\n",
       "  <thead>\n",
       "    <tr style=\"text-align: right;\">\n",
       "      <th></th>\n",
       "      <th>registration_no</th>\n",
       "      <th>vehicle_model</th>\n",
       "      <th>sale_date</th>\n",
       "      <th>kilometer</th>\n",
       "      <th>service_type</th>\n",
       "      <th>labour_code</th>\n",
       "      <th>labour_basic_amount</th>\n",
       "      <th>discount_amount</th>\n",
       "      <th>tax_amount</th>\n",
       "      <th>labour_total_amount</th>\n",
       "      <th>billable_type</th>\n",
       "      <th>bill_date</th>\n",
       "    </tr>\n",
       "  </thead>\n",
       "  <tbody>\n",
       "    <tr>\n",
       "      <th>0</th>\n",
       "      <td>TS08GP5755</td>\n",
       "      <td>MAHINDRA XUV500 FWD W9 WTH0 XH</td>\n",
       "      <td>31-07-2019</td>\n",
       "      <td>63540</td>\n",
       "      <td>RUNNING REPAIR</td>\n",
       "      <td>MCT-MC063ML</td>\n",
       "      <td>2965.25</td>\n",
       "      <td>0.0</td>\n",
       "      <td>533.74</td>\n",
       "      <td>3498.99</td>\n",
       "      <td>Customer Paid</td>\n",
       "      <td>01-08-2024</td>\n",
       "    </tr>\n",
       "    <tr>\n",
       "      <th>1</th>\n",
       "      <td>TS08GP5755</td>\n",
       "      <td>MAHINDRA XUV500 FWD W9 WTH0 XH</td>\n",
       "      <td>31-07-2019</td>\n",
       "      <td>63540</td>\n",
       "      <td>RUNNING REPAIR</td>\n",
       "      <td>MCT-MC123ML</td>\n",
       "      <td>1905.93</td>\n",
       "      <td>0.0</td>\n",
       "      <td>343.06</td>\n",
       "      <td>2248.99</td>\n",
       "      <td>Customer Paid</td>\n",
       "      <td>01-08-2024</td>\n",
       "    </tr>\n",
       "    <tr>\n",
       "      <th>2</th>\n",
       "      <td>TS07JL2542</td>\n",
       "      <td>MAHINDRA XUV300 W8 O PM BS6 AS WP</td>\n",
       "      <td>22-08-2022</td>\n",
       "      <td>19031</td>\n",
       "      <td>3RD FREE SERVICE</td>\n",
       "      <td>MCT-MC133ML</td>\n",
       "      <td>1007.63</td>\n",
       "      <td>0.0</td>\n",
       "      <td>181.38</td>\n",
       "      <td>1189.01</td>\n",
       "      <td>Customer Paid</td>\n",
       "      <td>01-08-2024</td>\n",
       "    </tr>\n",
       "    <tr>\n",
       "      <th>3</th>\n",
       "      <td>TS07JL2542</td>\n",
       "      <td>MAHINDRA XUV300 W8 O PM BS6 AS WP</td>\n",
       "      <td>22-08-2022</td>\n",
       "      <td>19031</td>\n",
       "      <td>3RD FREE SERVICE</td>\n",
       "      <td>MCT-MC123ML</td>\n",
       "      <td>1905.93</td>\n",
       "      <td>0.0</td>\n",
       "      <td>343.06</td>\n",
       "      <td>2248.99</td>\n",
       "      <td>Customer Paid</td>\n",
       "      <td>01-08-2024</td>\n",
       "    </tr>\n",
       "    <tr>\n",
       "      <th>4</th>\n",
       "      <td>TS07JL2542</td>\n",
       "      <td>MAHINDRA XUV300 W8 O PM BS6 AS WP</td>\n",
       "      <td>22-08-2022</td>\n",
       "      <td>19031</td>\n",
       "      <td>3RD FREE SERVICE</td>\n",
       "      <td>MCT-MC163ML</td>\n",
       "      <td>275.42</td>\n",
       "      <td>0.0</td>\n",
       "      <td>49.58</td>\n",
       "      <td>325.00</td>\n",
       "      <td>Customer Paid</td>\n",
       "      <td>01-08-2024</td>\n",
       "    </tr>\n",
       "  </tbody>\n",
       "</table>\n",
       "</div>"
      ],
      "text/plain": [
       "  registration_no                      vehicle_model   sale_date  kilometer  \\\n",
       "0      TS08GP5755     MAHINDRA XUV500 FWD W9 WTH0 XH  31-07-2019      63540   \n",
       "1      TS08GP5755     MAHINDRA XUV500 FWD W9 WTH0 XH  31-07-2019      63540   \n",
       "2      TS07JL2542  MAHINDRA XUV300 W8 O PM BS6 AS WP  22-08-2022      19031   \n",
       "3      TS07JL2542  MAHINDRA XUV300 W8 O PM BS6 AS WP  22-08-2022      19031   \n",
       "4      TS07JL2542  MAHINDRA XUV300 W8 O PM BS6 AS WP  22-08-2022      19031   \n",
       "\n",
       "       service_type  labour_code  labour_basic_amount  discount_amount  \\\n",
       "0    RUNNING REPAIR  MCT-MC063ML              2965.25              0.0   \n",
       "1    RUNNING REPAIR  MCT-MC123ML              1905.93              0.0   \n",
       "2  3RD FREE SERVICE  MCT-MC133ML              1007.63              0.0   \n",
       "3  3RD FREE SERVICE  MCT-MC123ML              1905.93              0.0   \n",
       "4  3RD FREE SERVICE  MCT-MC163ML               275.42              0.0   \n",
       "\n",
       "   tax_amount  labour_total_amount  billable_type   bill_date  \n",
       "0      533.74              3498.99  Customer Paid  01-08-2024  \n",
       "1      343.06              2248.99  Customer Paid  01-08-2024  \n",
       "2      181.38              1189.01  Customer Paid  01-08-2024  \n",
       "3      343.06              2248.99  Customer Paid  01-08-2024  \n",
       "4       49.58               325.00  Customer Paid  01-08-2024  "
      ]
     },
     "execution_count": 63,
     "metadata": {},
     "output_type": "execute_result"
    }
   ],
   "source": [
    "mm_consolidated_df.head()"
   ]
  },
  {
   "cell_type": "code",
   "execution_count": 67,
   "id": "6606fa8f-2142-4166-9770-8e231b338271",
   "metadata": {},
   "outputs": [
    {
     "data": {
      "text/plain": [
       "registration_no         object\n",
       "vehicle_model           object\n",
       "sale_date               object\n",
       "kilometer                int64\n",
       "service_type            object\n",
       "labour_code             object\n",
       "labour_basic_amount    float64\n",
       "discount_amount        float64\n",
       "tax_amount             float64\n",
       "labour_total_amount    float64\n",
       "billable_type           object\n",
       "bill_date               object\n",
       "dtype: object"
      ]
     },
     "execution_count": 67,
     "metadata": {},
     "output_type": "execute_result"
    }
   ],
   "source": [
    "mm_consolidated_df.dtypes"
   ]
  },
  {
   "cell_type": "code",
   "execution_count": 71,
   "id": "13268195-3141-432a-86f0-998930810982",
   "metadata": {},
   "outputs": [
    {
     "data": {
      "text/plain": [
       "registration_no        0\n",
       "vehicle_model          0\n",
       "sale_date              0\n",
       "kilometer              0\n",
       "service_type           0\n",
       "labour_code            0\n",
       "labour_basic_amount    0\n",
       "discount_amount        0\n",
       "tax_amount             0\n",
       "labour_total_amount    0\n",
       "billable_type          0\n",
       "bill_date              0\n",
       "dtype: int64"
      ]
     },
     "execution_count": 71,
     "metadata": {},
     "output_type": "execute_result"
    }
   ],
   "source": [
    "mm_consolidated_df.isnull().sum()"
   ]
  },
  {
   "cell_type": "code",
   "execution_count": 107,
   "id": "9b91e9f8-56a3-4cc2-a970-ae4047927ad1",
   "metadata": {},
   "outputs": [],
   "source": [
    "#mm_consolidated_df.to_csv('mm_consolidated_aug24.csv')"
   ]
  },
  {
   "cell_type": "code",
   "execution_count": null,
   "id": "41caf7d3-cfaf-4935-a52e-1ab908473d47",
   "metadata": {},
   "outputs": [],
   "source": []
  }
 ],
 "metadata": {
  "kernelspec": {
   "display_name": "Python 3 (ipykernel)",
   "language": "python",
   "name": "python3"
  },
  "language_info": {
   "codemirror_mode": {
    "name": "ipython",
    "version": 3
   },
   "file_extension": ".py",
   "mimetype": "text/x-python",
   "name": "python",
   "nbconvert_exporter": "python",
   "pygments_lexer": "ipython3",
   "version": "3.12.4"
  }
 },
 "nbformat": 4,
 "nbformat_minor": 5
}
