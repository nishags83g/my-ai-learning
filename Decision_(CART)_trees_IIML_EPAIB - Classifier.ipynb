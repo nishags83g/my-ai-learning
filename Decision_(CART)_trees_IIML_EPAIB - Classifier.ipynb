{
 "cells": [
  {
   "cell_type": "markdown",
   "metadata": {
    "colab_type": "text",
    "id": "cv_Hgy1Qkx-Q"
   },
   "source": [
    "Decision Trees in Python with Scikit-Learn\n",
    "-------------------------------------------------------------"
   ]
  },
  {
   "cell_type": "markdown",
   "metadata": {
    "colab_type": "text",
    "id": "1KaJTSb3kx-W"
   },
   "source": [
    "Introduction\n",
    "-----------------\n",
    "A decision tree is one of most frequently and widely **used supervised machine learning algorithms that can perform both regression and classification tasks**. Hence called <font color='green'><b>CART</b> - <u>C</u>lassification <u>A</u>nd <u>R</u>egression <u>T</u>rees.</font>\n",
    "\n",
    "For each attribute in the dataset, the decision tree algorithm forms a node, where the most important attribute is placed at the root node. For evaluation we start at the root node and work our way down the tree by following the corresponding node that meets our condition or \"decision\". This process continues until a leaf node is reached, which contains the prediction or the outcome of the decision tree.\n",
    "\n"
   ]
  },
  {
   "cell_type": "markdown",
   "metadata": {
    "colab_type": "text",
    "id": "vQZQZTEvkx-Y"
   },
   "source": [
    ">**Advantages of Decision Trees**\n",
    "------------------------------\n",
    "\n",
    "There are several advantages of using decision trees for predictive analysis:\n",
    "\n",
    "1> Decision trees can be used to predict both continuous and discrete values i.e. they work well for both regression and classification tasks.\n",
    "\n",
    "2> They require relatively less effort for training the algorithm.\n",
    "\n",
    "3> They can be used to classify non-linearly separable data.\n",
    "\n",
    "4> They're very fast and efficient compared to KNN and other classification algorithms.\n"
   ]
  },
  {
   "cell_type": "markdown",
   "metadata": {
    "colab_type": "text",
    "id": "yf0e33p2kx-a"
   },
   "source": [
    "# 1. Decision Tree for Classification\n",
    "---------------------------------------------------------\n",
    "<b><font color='green'>( We will be using DecisionTreeClassifier from sklearn.tree.</b> It is fast, simple and takes care of all the Math part. We will concentrate only on Coding and solving the Real time problem. )</font><br><br>\n",
    "<font color='red'>\n",
    "Here, we will predict whether a <b>bank note is authentic or fake</b> depending upon the four different attributes of the image of the note. The <u>attributes</u> are Variance of wavelet transformed image, curtosis of the image, entropy, and skewness of the image.</font>\n",
    "\n",
    "**Note :** In the dataset the **class** variable can be **0 or 1**. **0 indicates authentic BankNote and 1 indicates fake BankNote.**\n",
    "Path of the data file: https://drive.google.com/file/d/1ktbD0OlFwjBwlGoanUrYVtwRILSvleNd/view?usp=drive_link"
   ]
  },
  {
   "cell_type": "code",
   "execution_count": 1,
   "metadata": {
    "colab": {
     "base_uri": "https://localhost:8080/",
     "height": 156
    },
    "colab_type": "code",
    "id": "O6tRpZ9Ekx-c",
    "outputId": "351e329d-c19d-4dfe-8195-d85c9ee7b6bc"
   },
   "outputs": [
    {
     "name": "stdout",
     "output_type": "stream",
     "text": [
      "(1372, 5)\n",
      "------------\n",
      "   Variance  Skewness  Curtosis  Entropy  Class\n",
      "0   3.62160    8.6661   -2.8073 -0.44699      0\n",
      "1   4.54590    8.1674   -2.4586 -1.46210      0\n",
      "2   3.86600   -2.6383    1.9242  0.10645      0\n",
      "3   3.45660    9.5228   -4.0112 -3.59440      0\n",
      "4   0.32924   -4.4552    4.5718 -0.98880      0\n"
     ]
    }
   ],
   "source": [
    "# doing the minimum necessary imports\n",
    "# more modules would be imported as and when needed\n",
    "\n",
    "import pandas as pd  \n",
    "import numpy as np  \n",
    "import matplotlib.pyplot as plt  \n",
    "%matplotlib inline\n",
    "\n",
    "# reading data from CSV file. \n",
    "# reading bank currency note data into pandas dataframe.\n",
    "bankdata = pd.read_csv(\"bill_authentication.csv\")  \n",
    "\n",
    "# Exploratory Data Analysis\n",
    "print(bankdata.shape)  \n",
    "print(\"------------\")\n",
    "\n",
    "# printing the first 5 records of the dataset\n",
    "print(bankdata.head()) "
   ]
  },
  {
   "cell_type": "code",
   "execution_count": 3,
   "metadata": {},
   "outputs": [
    {
     "name": "stdout",
     "output_type": "stream",
     "text": [
      "<class 'pandas.core.frame.DataFrame'>\n",
      "RangeIndex: 1372 entries, 0 to 1371\n",
      "Data columns (total 5 columns):\n",
      " #   Column    Non-Null Count  Dtype  \n",
      "---  ------    --------------  -----  \n",
      " 0   Variance  1372 non-null   float64\n",
      " 1   Skewness  1372 non-null   float64\n",
      " 2   Curtosis  1372 non-null   float64\n",
      " 3   Entropy   1372 non-null   float64\n",
      " 4   Class     1372 non-null   int64  \n",
      "dtypes: float64(4), int64(1)\n",
      "memory usage: 53.7 KB\n"
     ]
    }
   ],
   "source": [
    "bankdata.info()  # this helps in finding any missing values"
   ]
  },
  {
   "cell_type": "markdown",
   "metadata": {},
   "source": [
    "<b> Analysis : </b> There is no missing data. This data is clean."
   ]
  },
  {
   "cell_type": "code",
   "execution_count": 5,
   "metadata": {
    "colab": {
     "base_uri": "https://localhost:8080/",
     "height": 208
    },
    "colab_type": "code",
    "id": "Y6GpyoWbkx-l",
    "outputId": "2e333fdf-68b0-43c0-e792-f7e47b086483"
   },
   "outputs": [
    {
     "name": "stdout",
     "output_type": "stream",
     "text": [
      "(1372, 4)\n",
      "(1372,)\n"
     ]
    }
   ],
   "source": [
    "# Data Preprocessing\n",
    "# Data preprocessing involves \n",
    "# (1) Dividing the data into attributes and labels and \n",
    "# (2) dividing the data into training and testing sets.\n",
    "\n",
    "# To divide the data into attributes and labels, do :\n",
    "X = bankdata.drop('Class', axis=1)  \n",
    "y = bankdata['Class'] \n",
    "print(X.shape)\n",
    "print(y.shape)"
   ]
  },
  {
   "cell_type": "code",
   "execution_count": 7,
   "metadata": {},
   "outputs": [
    {
     "name": "stdout",
     "output_type": "stream",
     "text": [
      "(1029, 4)\n",
      "(343, 4)\n",
      "(1029,)\n",
      "(343,)\n"
     ]
    }
   ],
   "source": [
    "# the final preprocessing step is to divide data into training and test sets\n",
    "from sklearn.model_selection import train_test_split  \n",
    "X_train, X_test, y_train, y_test = train_test_split(X,y,random_state=100)\n",
    "# default test_size parameter value is 0.25\n",
    "\n",
    "print(X_train.shape)\n",
    "print(X_test.shape)\n",
    "print(y_train.shape)\n",
    "print(y_test.shape)"
   ]
  },
  {
   "cell_type": "code",
   "execution_count": 9,
   "metadata": {},
   "outputs": [
    {
     "name": "stdout",
     "output_type": "stream",
     "text": [
      "DecisionTreeClassifier()\n"
     ]
    }
   ],
   "source": [
    "# Training the Algorithm. Here we would use DecisionTreeClassifier\n",
    "from sklearn.tree import DecisionTreeClassifier  \n",
    "classifier = DecisionTreeClassifier()  \n",
    "classifier.fit(X_train, y_train)\n",
    "print(classifier)"
   ]
  },
  {
   "cell_type": "code",
   "execution_count": 17,
   "metadata": {},
   "outputs": [],
   "source": []
  },
  {
   "cell_type": "code",
   "execution_count": 19,
   "metadata": {
    "scrolled": true
   },
   "outputs": [
    {
     "data": {
      "text/plain": [
       "[Text(0.5057692307692307, 0.9444444444444444, 'x[0] <= 0.32\\ngini = 0.495\\nsamples = 1029\\nvalue = [564, 465]'),\n",
       " Text(0.3153846153846154, 0.8333333333333334, 'x[1] <= 5.865\\ngini = 0.308\\nsamples = 500\\nvalue = [95, 405]'),\n",
       " Text(0.16923076923076924, 0.7222222222222222, 'x[2] <= 6.219\\ngini = 0.104\\nsamples = 398\\nvalue = [22, 376]'),\n",
       " Text(0.06153846153846154, 0.6111111111111112, 'x[1] <= 4.085\\ngini = 0.007\\nsamples = 276\\nvalue = [1, 275]'),\n",
       " Text(0.03076923076923077, 0.5, 'gini = 0.0\\nsamples = 264\\nvalue = [0, 264]'),\n",
       " Text(0.09230769230769231, 0.5, 'x[2] <= 1.831\\ngini = 0.153\\nsamples = 12\\nvalue = [1, 11]'),\n",
       " Text(0.06153846153846154, 0.3888888888888889, 'gini = 0.0\\nsamples = 11\\nvalue = [0, 11]'),\n",
       " Text(0.12307692307692308, 0.3888888888888889, 'gini = 0.0\\nsamples = 1\\nvalue = [1, 0]'),\n",
       " Text(0.27692307692307694, 0.6111111111111112, 'x[1] <= -4.675\\ngini = 0.285\\nsamples = 122\\nvalue = [21, 101]'),\n",
       " Text(0.2153846153846154, 0.5, 'x[0] <= -0.357\\ngini = 0.02\\nsamples = 101\\nvalue = [1, 100]'),\n",
       " Text(0.18461538461538463, 0.3888888888888889, 'gini = 0.0\\nsamples = 100\\nvalue = [0, 100]'),\n",
       " Text(0.24615384615384617, 0.3888888888888889, 'gini = 0.0\\nsamples = 1\\nvalue = [1, 0]'),\n",
       " Text(0.3384615384615385, 0.5, 'x[0] <= -2.117\\ngini = 0.091\\nsamples = 21\\nvalue = [20, 1]'),\n",
       " Text(0.3076923076923077, 0.3888888888888889, 'x[2] <= 6.615\\ngini = 0.5\\nsamples = 2\\nvalue = [1, 1]'),\n",
       " Text(0.27692307692307694, 0.2777777777777778, 'gini = 0.0\\nsamples = 1\\nvalue = [0, 1]'),\n",
       " Text(0.3384615384615385, 0.2777777777777778, 'gini = 0.0\\nsamples = 1\\nvalue = [1, 0]'),\n",
       " Text(0.36923076923076925, 0.3888888888888889, 'gini = 0.0\\nsamples = 19\\nvalue = [19, 0]'),\n",
       " Text(0.46153846153846156, 0.7222222222222222, 'x[0] <= -3.445\\ngini = 0.407\\nsamples = 102\\nvalue = [73, 29]'),\n",
       " Text(0.4307692307692308, 0.6111111111111112, 'x[3] <= -1.916\\ngini = 0.064\\nsamples = 30\\nvalue = [1, 29]'),\n",
       " Text(0.4, 0.5, 'gini = 0.0\\nsamples = 29\\nvalue = [0, 29]'),\n",
       " Text(0.46153846153846156, 0.5, 'gini = 0.0\\nsamples = 1\\nvalue = [1, 0]'),\n",
       " Text(0.49230769230769234, 0.6111111111111112, 'gini = 0.0\\nsamples = 72\\nvalue = [72, 0]'),\n",
       " Text(0.6961538461538461, 0.8333333333333334, 'x[2] <= -4.443\\ngini = 0.201\\nsamples = 529\\nvalue = [469, 60]'),\n",
       " Text(0.5846153846153846, 0.7222222222222222, 'x[1] <= 7.331\\ngini = 0.312\\nsamples = 31\\nvalue = [6, 25]'),\n",
       " Text(0.5538461538461539, 0.6111111111111112, 'gini = 0.0\\nsamples = 25\\nvalue = [0, 25]'),\n",
       " Text(0.6153846153846154, 0.6111111111111112, 'gini = 0.0\\nsamples = 6\\nvalue = [6, 0]'),\n",
       " Text(0.8076923076923077, 0.7222222222222222, 'x[0] <= 1.592\\ngini = 0.131\\nsamples = 498\\nvalue = [463, 35]'),\n",
       " Text(0.676923076923077, 0.6111111111111112, 'x[2] <= -2.293\\ngini = 0.375\\nsamples = 136\\nvalue = [102, 34]'),\n",
       " Text(0.6, 0.5, 'x[1] <= 5.667\\ngini = 0.236\\nsamples = 22\\nvalue = [3, 19]'),\n",
       " Text(0.5692307692307692, 0.3888888888888889, 'gini = 0.0\\nsamples = 19\\nvalue = [0, 19]'),\n",
       " Text(0.6307692307692307, 0.3888888888888889, 'gini = 0.0\\nsamples = 3\\nvalue = [3, 0]'),\n",
       " Text(0.7538461538461538, 0.5, 'x[3] <= 0.035\\ngini = 0.229\\nsamples = 114\\nvalue = [99, 15]'),\n",
       " Text(0.6923076923076923, 0.3888888888888889, 'x[0] <= 0.42\\ngini = 0.022\\nsamples = 88\\nvalue = [87, 1]'),\n",
       " Text(0.6615384615384615, 0.2777777777777778, 'x[2] <= -1.324\\ngini = 0.133\\nsamples = 14\\nvalue = [13, 1]'),\n",
       " Text(0.6307692307692307, 0.16666666666666666, 'gini = 0.0\\nsamples = 1\\nvalue = [0, 1]'),\n",
       " Text(0.6923076923076923, 0.16666666666666666, 'gini = 0.0\\nsamples = 13\\nvalue = [13, 0]'),\n",
       " Text(0.7230769230769231, 0.2777777777777778, 'gini = 0.0\\nsamples = 74\\nvalue = [74, 0]'),\n",
       " Text(0.8153846153846154, 0.3888888888888889, 'x[2] <= 0.324\\ngini = 0.497\\nsamples = 26\\nvalue = [12, 14]'),\n",
       " Text(0.7846153846153846, 0.2777777777777778, 'gini = 0.0\\nsamples = 12\\nvalue = [0, 12]'),\n",
       " Text(0.8461538461538461, 0.2777777777777778, 'x[1] <= -0.728\\ngini = 0.245\\nsamples = 14\\nvalue = [12, 2]'),\n",
       " Text(0.8153846153846154, 0.16666666666666666, 'x[3] <= 0.719\\ngini = 0.444\\nsamples = 3\\nvalue = [1, 2]'),\n",
       " Text(0.7846153846153846, 0.05555555555555555, 'gini = 0.0\\nsamples = 1\\nvalue = [1, 0]'),\n",
       " Text(0.8461538461538461, 0.05555555555555555, 'gini = 0.0\\nsamples = 2\\nvalue = [0, 2]'),\n",
       " Text(0.8769230769230769, 0.16666666666666666, 'gini = 0.0\\nsamples = 11\\nvalue = [11, 0]'),\n",
       " Text(0.9384615384615385, 0.6111111111111112, 'x[0] <= 2.018\\ngini = 0.006\\nsamples = 362\\nvalue = [361, 1]'),\n",
       " Text(0.9076923076923077, 0.5, 'x[0] <= 2.017\\ngini = 0.046\\nsamples = 42\\nvalue = [41, 1]'),\n",
       " Text(0.8769230769230769, 0.3888888888888889, 'gini = 0.0\\nsamples = 41\\nvalue = [41, 0]'),\n",
       " Text(0.9384615384615385, 0.3888888888888889, 'gini = 0.0\\nsamples = 1\\nvalue = [0, 1]'),\n",
       " Text(0.9692307692307692, 0.5, 'gini = 0.0\\nsamples = 320\\nvalue = [320, 0]')]"
      ]
     },
     "execution_count": 19,
     "metadata": {},
     "output_type": "execute_result"
    },
    {
     "data": {
      "image/png": "[encoded data removed]",
      "text/plain": [
       "<Figure size 640x480 with 1 Axes>"
      ]
     },
     "metadata": {},
     "output_type": "display_data"
    }
   ],
   "source": [
    "from sklearn import tree\n",
    "tree.plot_tree(classifier)"
   ]
  },
  {
   "cell_type": "code",
   "execution_count": 23,
   "metadata": {},
   "outputs": [
    {
     "data": {
      "text/plain": [
       "<Figure size 640x480 with 0 Axes>"
      ]
     },
     "metadata": {},
     "output_type": "display_data"
    }
   ],
   "source": [
    "plt.savefig('out.pdf')"
   ]
  },
  {
   "cell_type": "code",
   "execution_count": 11,
   "metadata": {},
   "outputs": [
    {
     "name": "stdout",
     "output_type": "stream",
     "text": [
      "(343,)\n"
     ]
    }
   ],
   "source": [
    "# make predictions on the test data\n",
    "y_pred = classifier.predict(X_test)\n",
    "print(y_pred.shape)"
   ]
  },
  {
   "cell_type": "code",
   "execution_count": 13,
   "metadata": {},
   "outputs": [
    {
     "name": "stdout",
     "output_type": "stream",
     "text": [
      "[[197   1]\n",
      " [  3 142]]\n",
      "              precision    recall  f1-score   support\n",
      "\n",
      "           0       0.98      0.99      0.99       198\n",
      "           1       0.99      0.98      0.99       145\n",
      "\n",
      "    accuracy                           0.99       343\n",
      "   macro avg       0.99      0.99      0.99       343\n",
      "weighted avg       0.99      0.99      0.99       343\n",
      "\n",
      "0.9883381924198251\n"
     ]
    }
   ],
   "source": [
    "# Evaluating the Algorithm\n",
    "from sklearn.metrics import classification_report, confusion_matrix, accuracy_score  \n",
    "print(confusion_matrix(y_test, y_pred))  \n",
    "print(classification_report(y_test, y_pred))\n",
    "print(accuracy_score(y_test, y_pred))\n",
    "\n",
    "# Remember : for evaluating classification-based ML algorithm, use  \n",
    "# confusion_matrix, classification_report and accuracy_score.\n",
    "\n",
    "# And for evaluating regression-based ML algorithm, use Mean Squared Error(MSE) \n",
    "# or RMSE (Root Mean Squared Error) or R2 Score."
   ]
  },
  {
   "cell_type": "markdown",
   "metadata": {
    "colab_type": "text",
    "id": "-tBVpS6lkx-r"
   },
   "source": [
    "<b><font color='green'>Analysis</font></b> : From the confusion matrix, you can see that out of 343 test instances, our algorithm misclassified only 4. This is approx 99% accuracy. "
   ]
  }
 ],
 "metadata": {
  "colab": {
   "collapsed_sections": [],
   "name": "7_Decision_(CART)_trees",
   "provenance": []
  },
  "kernelspec": {
   "display_name": "Python 3 (ipykernel)",
   "language": "python",
   "name": "python3"
  },
  "language_info": {
   "codemirror_mode": {
    "name": "ipython",
    "version": 3
   },
   "file_extension": ".py",
   "mimetype": "text/x-python",
   "name": "python",
   "nbconvert_exporter": "python",
   "pygments_lexer": "ipython3",
   "version": "3.12.4"
  }
 },
 "nbformat": 4,
 "nbformat_minor": 4
}
