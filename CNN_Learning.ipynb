{
  "nbformat": 4,
  "nbformat_minor": 0,
  "metadata": {
    "colab": {
      "provenance": []
    },
    "kernelspec": {
      "name": "python3",
      "display_name": "Python 3"
    },
    "language_info": {
      "name": "python"
    }
  },
  "cells": [
    {
      "cell_type": "code",
      "execution_count": 1,
      "metadata": {
        "id": "8JZV36Vl7Eu1"
      },
      "outputs": [],
      "source": [
        "import tensorflow as tf\n",
        "#TensorFlow is an open-source framework for machine learning(ML) and artificial intelligence(AI)\n",
        "#that was developed by Google Brain. TensorFlow supports a wide range of applications,\n",
        "#from natural language processing (NLP) and computer vision (CV) to time series forecasting\n",
        "#and reinforcement learning"
      ]
    },
    {
      "cell_type": "code",
      "source": [
        "(train_data,train_label),(test_data,test_label)=tf.keras.datasets.mnist.load_data()\n",
        "#Keras is a high-level API for building neural networks that runs on top of TensorFlow,\n",
        "#simplifying model development\n",
        "#The keras.datasets module provide a few toy datasets (already-vectorized, in Numpy format)\n",
        "#that can be used for debugging a model or creating simple code examples\n",
        "#mnist dataset contains 60,000 28x28 grayscale images of the 10 digits,\n",
        "#along with a test set of 10,000 images"
      ],
      "metadata": {
        "id": "n0vzkDcKmS81",
        "colab": {
          "base_uri": "https://localhost:8080/"
        },
        "outputId": "b2d07253-def6-4be4-96c9-c39fd6eaf8e5"
      },
      "execution_count": 2,
      "outputs": [
        {
          "output_type": "stream",
          "name": "stdout",
          "text": [
            "Downloading data from https://storage.googleapis.com/tensorflow/tf-keras-datasets/mnist.npz\n",
            "\u001b[1m11490434/11490434\u001b[0m \u001b[32m━━━━━━━━━━━━━━━━━━━━\u001b[0m\u001b[37m\u001b[0m \u001b[1m0s\u001b[0m 0us/step\n"
          ]
        }
      ]
    },
    {
      "cell_type": "markdown",
      "source": [],
      "metadata": {
        "id": "myIpomh87ZbW"
      }
    },
    {
      "cell_type": "code",
      "source": [
        "print(train_data.shape)\n",
        "print(train_label.shape)\n",
        "print(type(train_data))\n",
        "print(type(train_label))\n",
        "print(test_data.shape)\n",
        "print(test_label.shape)\n",
        "print(type(test_data))\n",
        "print(type(test_label))"
      ],
      "metadata": {
        "colab": {
          "base_uri": "https://localhost:8080/"
        },
        "id": "lCJO9zcz2fWB",
        "outputId": "32104eb1-3e8d-4e8f-da8b-e0e0f1d541c1"
      },
      "execution_count": 3,
      "outputs": [
        {
          "output_type": "stream",
          "name": "stdout",
          "text": [
            "(60000, 28, 28)\n",
            "(60000,)\n",
            "<class 'numpy.ndarray'>\n",
            "<class 'numpy.ndarray'>\n",
            "(10000, 28, 28)\n",
            "(10000,)\n",
            "<class 'numpy.ndarray'>\n",
            "<class 'numpy.ndarray'>\n"
          ]
        }
      ]
    },
    {
      "cell_type": "code",
      "source": [
        "train_data[2]"
      ],
      "metadata": {
        "colab": {
          "base_uri": "https://localhost:8080/",
          "height": 68
        },
        "id": "sZjWgpSt29IM",
        "outputId": "3ff8bd20-8c9c-41b1-fba7-f505a5c1534b",
        "collapsed": true
      },
      "execution_count": 4,
      "outputs": [
        {
          "output_type": "execute_result",
          "data": {
            "text/plain": [
              "array([[  0,   0,   0,   0,   0,   0,   0,   0,   0,   0,   0,   0,   0,\n",
              "          0,   0,   0,   0,   0,   0,   0,   0,   0,   0,   0,   0,   0,\n",
              "          0,   0],\n",
              "       [  0,   0,   0,   0,   0,   0,   0,   0,   0,   0,   0,   0,   0,\n",
              "          0,   0,   0,   0,   0,   0,   0,   0,   0,   0,   0,   0,   0,\n",
              "          0,   0],\n",
              "       [  0,   0,   0,   0,   0,   0,   0,   0,   0,   0,   0,   0,   0,\n",
              "          0,   0,   0,   0,   0,   0,   0,   0,   0,   0,   0,   0,   0,\n",
              "          0,   0],\n",
              "       [  0,   0,   0,   0,   0,   0,   0,   0,   0,   0,   0,   0,   0,\n",
              "          0,   0,   0,   0,   0,   0,   0,   0,   0,   0,   0,   0,   0,\n",
              "          0,   0],\n",
              "       [  0,   0,   0,   0,   0,   0,   0,   0,   0,   0,   0,   0,   0,\n",
              "          0,   0,   0,   0,   0,   0,   0,   0,   0,   0,   0,   0,   0,\n",
              "          0,   0],\n",
              "       [  0,   0,   0,   0,   0,   0,   0,   0,   0,   0,   0,   0,   0,\n",
              "          0,   0,   0,   0,   0,   0,   0,  67, 232,  39,   0,   0,   0,\n",
              "          0,   0],\n",
              "       [  0,   0,   0,   0,  62,  81,   0,   0,   0,   0,   0,   0,   0,\n",
              "          0,   0,   0,   0,   0,   0,   0, 120, 180,  39,   0,   0,   0,\n",
              "          0,   0],\n",
              "       [  0,   0,   0,   0, 126, 163,   0,   0,   0,   0,   0,   0,   0,\n",
              "          0,   0,   0,   0,   0,   0,   2, 153, 210,  40,   0,   0,   0,\n",
              "          0,   0],\n",
              "       [  0,   0,   0,   0, 220, 163,   0,   0,   0,   0,   0,   0,   0,\n",
              "          0,   0,   0,   0,   0,   0,  27, 254, 162,   0,   0,   0,   0,\n",
              "          0,   0],\n",
              "       [  0,   0,   0,   0, 222, 163,   0,   0,   0,   0,   0,   0,   0,\n",
              "          0,   0,   0,   0,   0,   0, 183, 254, 125,   0,   0,   0,   0,\n",
              "          0,   0],\n",
              "       [  0,   0,   0,  46, 245, 163,   0,   0,   0,   0,   0,   0,   0,\n",
              "          0,   0,   0,   0,   0,   0, 198, 254,  56,   0,   0,   0,   0,\n",
              "          0,   0],\n",
              "       [  0,   0,   0, 120, 254, 163,   0,   0,   0,   0,   0,   0,   0,\n",
              "          0,   0,   0,   0,   0,  23, 231, 254,  29,   0,   0,   0,   0,\n",
              "          0,   0],\n",
              "       [  0,   0,   0, 159, 254, 120,   0,   0,   0,   0,   0,   0,   0,\n",
              "          0,   0,   0,   0,   0, 163, 254, 216,  16,   0,   0,   0,   0,\n",
              "          0,   0],\n",
              "       [  0,   0,   0, 159, 254,  67,   0,   0,   0,   0,   0,   0,   0,\n",
              "          0,   0,  14,  86, 178, 248, 254,  91,   0,   0,   0,   0,   0,\n",
              "          0,   0],\n",
              "       [  0,   0,   0, 159, 254,  85,   0,   0,   0,  47,  49, 116, 144,\n",
              "        150, 241, 243, 234, 179, 241, 252,  40,   0,   0,   0,   0,   0,\n",
              "          0,   0],\n",
              "       [  0,   0,   0, 150, 253, 237, 207, 207, 207, 253, 254, 250, 240,\n",
              "        198, 143,  91,  28,   5, 233, 250,   0,   0,   0,   0,   0,   0,\n",
              "          0,   0],\n",
              "       [  0,   0,   0,   0, 119, 177, 177, 177, 177, 177,  98,  56,   0,\n",
              "          0,   0,   0,   0, 102, 254, 220,   0,   0,   0,   0,   0,   0,\n",
              "          0,   0],\n",
              "       [  0,   0,   0,   0,   0,   0,   0,   0,   0,   0,   0,   0,   0,\n",
              "          0,   0,   0,   0, 169, 254, 137,   0,   0,   0,   0,   0,   0,\n",
              "          0,   0],\n",
              "       [  0,   0,   0,   0,   0,   0,   0,   0,   0,   0,   0,   0,   0,\n",
              "          0,   0,   0,   0, 169, 254,  57,   0,   0,   0,   0,   0,   0,\n",
              "          0,   0],\n",
              "       [  0,   0,   0,   0,   0,   0,   0,   0,   0,   0,   0,   0,   0,\n",
              "          0,   0,   0,   0, 169, 254,  57,   0,   0,   0,   0,   0,   0,\n",
              "          0,   0],\n",
              "       [  0,   0,   0,   0,   0,   0,   0,   0,   0,   0,   0,   0,   0,\n",
              "          0,   0,   0,   0, 169, 255,  94,   0,   0,   0,   0,   0,   0,\n",
              "          0,   0],\n",
              "       [  0,   0,   0,   0,   0,   0,   0,   0,   0,   0,   0,   0,   0,\n",
              "          0,   0,   0,   0, 169, 254,  96,   0,   0,   0,   0,   0,   0,\n",
              "          0,   0],\n",
              "       [  0,   0,   0,   0,   0,   0,   0,   0,   0,   0,   0,   0,   0,\n",
              "          0,   0,   0,   0, 169, 254, 153,   0,   0,   0,   0,   0,   0,\n",
              "          0,   0],\n",
              "       [  0,   0,   0,   0,   0,   0,   0,   0,   0,   0,   0,   0,   0,\n",
              "          0,   0,   0,   0, 169, 255, 153,   0,   0,   0,   0,   0,   0,\n",
              "          0,   0],\n",
              "       [  0,   0,   0,   0,   0,   0,   0,   0,   0,   0,   0,   0,   0,\n",
              "          0,   0,   0,   0,  96, 254, 153,   0,   0,   0,   0,   0,   0,\n",
              "          0,   0],\n",
              "       [  0,   0,   0,   0,   0,   0,   0,   0,   0,   0,   0,   0,   0,\n",
              "          0,   0,   0,   0,   0,   0,   0,   0,   0,   0,   0,   0,   0,\n",
              "          0,   0],\n",
              "       [  0,   0,   0,   0,   0,   0,   0,   0,   0,   0,   0,   0,   0,\n",
              "          0,   0,   0,   0,   0,   0,   0,   0,   0,   0,   0,   0,   0,\n",
              "          0,   0],\n",
              "       [  0,   0,   0,   0,   0,   0,   0,   0,   0,   0,   0,   0,   0,\n",
              "          0,   0,   0,   0,   0,   0,   0,   0,   0,   0,   0,   0,   0,\n",
              "          0,   0]], dtype=uint8)"
            ],
            "text/html": [
              "<style>\n",
              "      .ndarray_repr .ndarray_raw_data {\n",
              "        display: none;\n",
              "      }\n",
              "      .ndarray_repr.show_array .ndarray_raw_data {\n",
              "        display: block;\n",
              "      }\n",
              "      .ndarray_repr.show_array .ndarray_image_preview {\n",
              "        display: none;\n",
              "      }\n",
              "      </style>\n",
              "      <div id=\"id-32a09f3d-2d54-4dee-8c75-8de204195c5e\" class=\"ndarray_repr\"><pre>ndarray (28, 28) <button style=\"padding: 0 2px;\">show data</button></pre><img src=\"data:image/png;base64,iVBORw0KGgoAAAANSUhEUgAAABwAAAAcCAAAAABXZoBIAAAA1ElEQVR4nGNgGArA+YU6AwMDAwMTAwMDg10gqqTpGQaEpEMQihyTohwjgndnMYqk9L9FSDqZUE2dw3AbIaknjirJz7AbIenFiSInrsjwFCGpznAVWbJH/NZnCIuFgYGBgeE0XIbPI8aNofkDsqQQAwODPpOzDFs00/eTP1nOQlUyMjAwTEv/8IiBQY/xz7drJ88cfPlEkI0BoTProRUDA8OjjddOMDAwMKSJ3mPACVb+64QxmbBIb8AnyYBHklEVj+R/JjySDJb4jMVj5/b/OB1IJQAAg3ksR3QPgSAAAAAASUVORK5CYII=\" class=\"ndarray_image_preview\" /><pre class=\"ndarray_raw_data\">array([[  0,   0,   0,   0,   0,   0,   0,   0,   0,   0,   0,   0,   0,\n",
              "          0,   0,   0,   0,   0,   0,   0,   0,   0,   0,   0,   0,   0,\n",
              "          0,   0],\n",
              "       [  0,   0,   0,   0,   0,   0,   0,   0,   0,   0,   0,   0,   0,\n",
              "          0,   0,   0,   0,   0,   0,   0,   0,   0,   0,   0,   0,   0,\n",
              "          0,   0],\n",
              "       [  0,   0,   0,   0,   0,   0,   0,   0,   0,   0,   0,   0,   0,\n",
              "          0,   0,   0,   0,   0,   0,   0,   0,   0,   0,   0,   0,   0,\n",
              "          0,   0],\n",
              "       [  0,   0,   0,   0,   0,   0,   0,   0,   0,   0,   0,   0,   0,\n",
              "          0,   0,   0,   0,   0,   0,   0,   0,   0,   0,   0,   0,   0,\n",
              "          0,   0],\n",
              "       [  0,   0,   0,   0,   0,   0,   0,   0,   0,   0,   0,   0,   0,\n",
              "          0,   0,   0,   0,   0,   0,   0,   0,   0,   0,   0,   0,   0,\n",
              "          0,   0],\n",
              "       [  0,   0,   0,   0,   0,   0,   0,   0,   0,   0,   0,   0,   0,\n",
              "          0,   0,   0,   0,   0,   0,   0,  67, 232,  39,   0,   0,   0,\n",
              "          0,   0],\n",
              "       [  0,   0,   0,   0,  62,  81,   0,   0,   0,   0,   0,   0,   0,\n",
              "          0,   0,   0,   0,   0,   0,   0, 120, 180,  39,   0,   0,   0,\n",
              "          0,   0],\n",
              "       [  0,   0,   0,   0, 126, 163,   0,   0,   0,   0,   0,   0,   0,\n",
              "          0,   0,   0,   0,   0,   0,   2, 153, 210,  40,   0,   0,   0,\n",
              "          0,   0],\n",
              "       [  0,   0,   0,   0, 220, 163,   0,   0,   0,   0,   0,   0,   0,\n",
              "          0,   0,   0,   0,   0,   0,  27, 254, 162,   0,   0,   0,   0,\n",
              "          0,   0],\n",
              "       [  0,   0,   0,   0, 222, 163,   0,   0,   0,   0,   0,   0,   0,\n",
              "          0,   0,   0,   0,   0,   0, 183, 254, 125,   0,   0,   0,   0,\n",
              "          0,   0],\n",
              "       [  0,   0,   0,  46, 245, 163,   0,   0,   0,   0,   0,   0,   0,\n",
              "          0,   0,   0,   0,   0,   0, 198, 254,  56,   0,   0,   0,   0,\n",
              "          0,   0],\n",
              "       [  0,   0,   0, 120, 254, 163,   0,   0,   0,   0,   0,   0,   0,\n",
              "          0,   0,   0,   0,   0,  23, 231, 254,  29,   0,   0,   0,   0,\n",
              "          0,   0],\n",
              "       [  0,   0,   0, 159, 254, 120,   0,   0,   0,   0,   0,   0,   0,\n",
              "          0,   0,   0,   0,   0, 163, 254, 216,  16,   0,   0,   0,   0,\n",
              "          0,   0],\n",
              "       [  0,   0,   0, 159, 254,  67,   0,   0,   0,   0,   0,   0,   0,\n",
              "          0,   0,  14,  86, 178, 248, 254,  91,   0,   0,   0,   0,   0,\n",
              "          0,   0],\n",
              "       [  0,   0,   0, 159, 254,  85,   0,   0,   0,  47,  49, 116, 144,\n",
              "        150, 241, 243, 234, 179, 241, 252,  40,   0,   0,   0,   0,   0,\n",
              "          0,   0],\n",
              "       [  0,   0,   0, 150, 253, 237, 207, 207, 207, 253, 254, 250, 240,\n",
              "        198, 143,  91,  28,   5, 233, 250,   0,   0,   0,   0,   0,   0,\n",
              "          0,   0],\n",
              "       [  0,   0,   0,   0, 119, 177, 177, 177, 177, 177,  98,  56,   0,\n",
              "          0,   0,   0,   0, 102, 254, 220,   0,   0,   0,   0,   0,   0,\n",
              "          0,   0],\n",
              "       [  0,   0,   0,   0,   0,   0,   0,   0,   0,   0,   0,   0,   0,\n",
              "          0,   0,   0,   0, 169, 254, 137,   0,   0,   0,   0,   0,   0,\n",
              "          0,   0],\n",
              "       [  0,   0,   0,   0,   0,   0,   0,   0,   0,   0,   0,   0,   0,\n",
              "          0,   0,   0,   0, 169, 254,  57,   0,   0,   0,   0,   0,   0,\n",
              "          0,   0],\n",
              "       [  0,   0,   0,   0,   0,   0,   0,   0,   0,   0,   0,   0,   0,\n",
              "          0,   0,   0,   0, 169, 254,  57,   0,   0,   0,   0,   0,   0,\n",
              "          0,   0],\n",
              "       [  0,   0,   0,   0,   0,   0,   0,   0,   0,   0,   0,   0,   0,\n",
              "          0,   0,   0,   0, 169, 255,  94,   0,   0,   0,   0,   0,   0,\n",
              "          0,   0],\n",
              "       [  0,   0,   0,   0,   0,   0,   0,   0,   0,   0,   0,   0,   0,\n",
              "          0,   0,   0,   0, 169, 254,  96,   0,   0,   0,   0,   0,   0,\n",
              "          0,   0],\n",
              "       [  0,   0,   0,   0,   0,   0,   0,   0,   0,   0,   0,   0,   0,\n",
              "          0,   0,   0,   0, 169, 254, 153,   0,   0,   0,   0,   0,   0,\n",
              "          0,   0],\n",
              "       [  0,   0,   0,   0,   0,   0,   0,   0,   0,   0,   0,   0,   0,\n",
              "          0,   0,   0,   0, 169, 255, 153,   0,   0,   0,   0,   0,   0,\n",
              "          0,   0],\n",
              "       [  0,   0,   0,   0,   0,   0,   0,   0,   0,   0,   0,   0,   0,\n",
              "          0,   0,   0,   0,  96, 254, 153,   0,   0,   0,   0,   0,   0,\n",
              "          0,   0],\n",
              "       [  0,   0,   0,   0,   0,   0,   0,   0,   0,   0,   0,   0,   0,\n",
              "          0,   0,   0,   0,   0,   0,   0,   0,   0,   0,   0,   0,   0,\n",
              "          0,   0],\n",
              "       [  0,   0,   0,   0,   0,   0,   0,   0,   0,   0,   0,   0,   0,\n",
              "          0,   0,   0,   0,   0,   0,   0,   0,   0,   0,   0,   0,   0,\n",
              "          0,   0],\n",
              "       [  0,   0,   0,   0,   0,   0,   0,   0,   0,   0,   0,   0,   0,\n",
              "          0,   0,   0,   0,   0,   0,   0,   0,   0,   0,   0,   0,   0,\n",
              "          0,   0]], dtype=uint8)</pre></div><script>\n",
              "      (() => {\n",
              "      const titles = ['show data', 'hide data'];\n",
              "      let index = 0\n",
              "      document.querySelector('#id-32a09f3d-2d54-4dee-8c75-8de204195c5e button').onclick = (e) => {\n",
              "        document.querySelector('#id-32a09f3d-2d54-4dee-8c75-8de204195c5e').classList.toggle('show_array');\n",
              "        index = (++index) % 2;\n",
              "        document.querySelector('#id-32a09f3d-2d54-4dee-8c75-8de204195c5e button').textContent = titles[index];\n",
              "        e.preventDefault();\n",
              "        e.stopPropagation();\n",
              "      }\n",
              "      })();\n",
              "    </script>"
            ]
          },
          "metadata": {},
          "execution_count": 4
        }
      ]
    },
    {
      "cell_type": "code",
      "source": [
        "import matplotlib.pyplot as plt\n",
        "def plot_img(i):\n",
        "    # plot the image and the target for sample i\n",
        "    plt.imshow(train_data[i])\n",
        "    plt.title(train_label[i])\n",
        "    plt.axis('off')\n",
        "  #The imshow() function in pyplot module of matplotlib library is used to\n",
        "  #display data as an image; i.e. on a 2D regular raster."
      ],
      "metadata": {
        "id": "tjmVe1108JDp"
      },
      "execution_count": 5,
      "outputs": []
    },
    {
      "cell_type": "code",
      "source": [
        "plot_img(2)"
      ],
      "metadata": {
        "colab": {
          "base_uri": "https://localhost:8080/",
          "height": 428
        },
        "id": "6SWCbU_F4eM1",
        "outputId": "9ce1ddda-37a7-49b5-fb7a-8367a0ffa2aa"
      },
      "execution_count": 6,
      "outputs": [
        {
          "output_type": "display_data",
          "data": {
            "text/plain": [
              "<Figure size 640x480 with 1 Axes>"
            ],
            "image/png": "[encoded data removed]"
          },
          "metadata": {}
        }
      ]
    },
    {
      "cell_type": "code",
      "source": [
        "plt.hist(train_data[2])"
      ],
      "metadata": {
        "colab": {
          "base_uri": "https://localhost:8080/",
          "height": 968
        },
        "id": "IakKRERT5V4p",
        "outputId": "a65b8af3-2051-4b20-da4e-12fb7d48932a"
      },
      "execution_count": 7,
      "outputs": [
        {
          "output_type": "execute_result",
          "data": {
            "text/plain": [
              "(array([[28.,  0.,  0.,  0.,  0.,  0.,  0.,  0.,  0.,  0.],\n",
              "        [28.,  0.,  0.,  0.,  0.,  0.,  0.,  0.,  0.,  0.],\n",
              "        [28.,  0.,  0.,  0.,  0.,  0.,  0.,  0.,  0.,  0.],\n",
              "        [22.,  1.,  0.,  0.,  1.,  1.,  3.,  0.,  0.,  0.],\n",
              "        [17.,  0.,  1.,  0.,  2.,  0.,  0.,  0.,  2.,  6.],\n",
              "        [17.,  0.,  1.,  2.,  1.,  0.,  6.,  0.,  0.,  1.],\n",
              "        [26.,  0.,  0.,  0.,  0.,  0.,  1.,  0.,  1.,  0.],\n",
              "        [26.,  0.,  0.,  0.,  0.,  0.,  1.,  0.,  1.,  0.],\n",
              "        [26.,  0.,  0.,  0.,  0.,  0.,  1.,  0.,  1.,  0.],\n",
              "        [25.,  1.,  0.,  0.,  0.,  0.,  1.,  0.,  0.,  1.],\n",
              "        [25.,  1.,  0.,  1.,  0.,  0.,  0.,  0.,  0.,  1.],\n",
              "        [25.,  0.,  1.,  0.,  1.,  0.,  0.,  0.,  0.,  1.],\n",
              "        [26.,  0.,  0.,  0.,  0.,  1.,  0.,  0.,  0.,  1.],\n",
              "        [26.,  0.,  0.,  0.,  0.,  1.,  0.,  1.,  0.,  0.],\n",
              "        [26.,  0.,  0.,  0.,  0.,  1.,  0.,  0.,  0.,  1.],\n",
              "        [26.,  0.,  0.,  1.,  0.,  0.,  0.,  0.,  0.,  1.],\n",
              "        [25.,  1.,  0.,  1.,  0.,  0.,  0.,  0.,  0.,  1.],\n",
              "        [17.,  0.,  0.,  1.,  1.,  0.,  8.,  1.,  0.,  0.],\n",
              "        [15.,  0.,  0.,  0.,  0.,  0.,  1.,  0.,  0., 12.],\n",
              "        [11.,  1.,  2.,  2.,  0.,  1.,  3.,  2.,  1.,  5.],\n",
              "        [18.,  1.,  1.,  1.,  1.,  0.,  1.,  0.,  1.,  4.],\n",
              "        [21.,  1.,  1.,  0.,  1.,  0.,  1.,  1.,  1.,  1.],\n",
              "        [25.,  3.,  0.,  0.,  0.,  0.,  0.,  0.,  0.,  0.],\n",
              "        [28.,  0.,  0.,  0.,  0.,  0.,  0.,  0.,  0.,  0.],\n",
              "        [28.,  0.,  0.,  0.,  0.,  0.,  0.,  0.,  0.,  0.],\n",
              "        [28.,  0.,  0.,  0.,  0.,  0.,  0.,  0.,  0.,  0.],\n",
              "        [28.,  0.,  0.,  0.,  0.,  0.,  0.,  0.,  0.,  0.],\n",
              "        [28.,  0.,  0.,  0.,  0.,  0.,  0.,  0.,  0.,  0.]]),\n",
              " array([  0. ,  25.5,  51. ,  76.5, 102. , 127.5, 153. , 178.5, 204. ,\n",
              "        229.5, 255. ]),\n",
              " <a list of 28 BarContainer objects>)"
            ]
          },
          "metadata": {},
          "execution_count": 7
        },
        {
          "output_type": "display_data",
          "data": {
            "text/plain": [
              "<Figure size 640x480 with 1 Axes>"
            ],
            "image/png": "[encoded data removed]"
          },
          "metadata": {}
        }
      ]
    },
    {
      "cell_type": "code",
      "source": [
        "#scaling train data\n",
        "import numpy as np\n",
        "train_data = train_data/255\n",
        "plt.hist(train_data[2])"
      ],
      "metadata": {
        "colab": {
          "base_uri": "https://localhost:8080/",
          "height": 951
        },
        "id": "yyyCSJ53JCto",
        "outputId": "b5b792df-0a74-48e2-8ee8-b26b4cffb360"
      },
      "execution_count": 8,
      "outputs": [
        {
          "output_type": "execute_result",
          "data": {
            "text/plain": [
              "(array([[28.,  0.,  0.,  0.,  0.,  0.,  0.,  0.,  0.,  0.],\n",
              "        [28.,  0.,  0.,  0.,  0.,  0.,  0.,  0.,  0.,  0.],\n",
              "        [28.,  0.,  0.,  0.,  0.,  0.,  0.,  0.,  0.,  0.],\n",
              "        [22.,  1.,  0.,  0.,  1.,  1.,  3.,  0.,  0.,  0.],\n",
              "        [17.,  0.,  1.,  0.,  2.,  0.,  0.,  0.,  2.,  6.],\n",
              "        [17.,  0.,  1.,  2.,  1.,  0.,  6.,  0.,  0.,  1.],\n",
              "        [26.,  0.,  0.,  0.,  0.,  0.,  1.,  0.,  1.,  0.],\n",
              "        [26.,  0.,  0.,  0.,  0.,  0.,  1.,  0.,  1.,  0.],\n",
              "        [26.,  0.,  0.,  0.,  0.,  0.,  1.,  0.,  1.,  0.],\n",
              "        [25.,  1.,  0.,  0.,  0.,  0.,  1.,  0.,  0.,  1.],\n",
              "        [25.,  1.,  0.,  1.,  0.,  0.,  0.,  0.,  0.,  1.],\n",
              "        [25.,  0.,  1.,  0.,  1.,  0.,  0.,  0.,  0.,  1.],\n",
              "        [26.,  0.,  0.,  0.,  0.,  1.,  0.,  0.,  0.,  1.],\n",
              "        [26.,  0.,  0.,  0.,  0.,  1.,  0.,  1.,  0.,  0.],\n",
              "        [26.,  0.,  0.,  0.,  0.,  1.,  0.,  0.,  0.,  1.],\n",
              "        [26.,  0.,  0.,  1.,  0.,  0.,  0.,  0.,  0.,  1.],\n",
              "        [25.,  1.,  0.,  1.,  0.,  0.,  0.,  0.,  0.,  1.],\n",
              "        [17.,  0.,  0.,  1.,  1.,  0.,  8.,  1.,  0.,  0.],\n",
              "        [15.,  0.,  0.,  0.,  0.,  0.,  1.,  0.,  0., 12.],\n",
              "        [11.,  1.,  2.,  2.,  0.,  4.,  0.,  2.,  1.,  5.],\n",
              "        [18.,  1.,  1.,  1.,  1.,  1.,  0.,  0.,  1.,  4.],\n",
              "        [21.,  1.,  1.,  0.,  1.,  0.,  1.,  1.,  1.,  1.],\n",
              "        [25.,  3.,  0.,  0.,  0.,  0.,  0.,  0.,  0.,  0.],\n",
              "        [28.,  0.,  0.,  0.,  0.,  0.,  0.,  0.,  0.,  0.],\n",
              "        [28.,  0.,  0.,  0.,  0.,  0.,  0.,  0.,  0.,  0.],\n",
              "        [28.,  0.,  0.,  0.,  0.,  0.,  0.,  0.,  0.,  0.],\n",
              "        [28.,  0.,  0.,  0.,  0.,  0.,  0.,  0.,  0.,  0.],\n",
              "        [28.,  0.,  0.,  0.,  0.,  0.,  0.,  0.,  0.,  0.]]),\n",
              " array([0. , 0.1, 0.2, 0.3, 0.4, 0.5, 0.6, 0.7, 0.8, 0.9, 1. ]),\n",
              " <a list of 28 BarContainer objects>)"
            ]
          },
          "metadata": {},
          "execution_count": 8
        },
        {
          "output_type": "display_data",
          "data": {
            "text/plain": [
              "<Figure size 640x480 with 1 Axes>"
            ],
            "image/png": "[encoded data removed]"
          },
          "metadata": {}
        }
      ]
    },
    {
      "cell_type": "code",
      "source": [
        "#scaled data\n",
        "train_data[2]"
      ],
      "metadata": {
        "colab": {
          "base_uri": "https://localhost:8080/"
        },
        "id": "WwCtGntIJlKY",
        "outputId": "f09aebf2-6247-4bdc-83b3-102c94509d6f"
      },
      "execution_count": 9,
      "outputs": [
        {
          "output_type": "execute_result",
          "data": {
            "text/plain": [
              "array([[0.        , 0.        , 0.        , 0.        , 0.        ,\n",
              "        0.        , 0.        , 0.        , 0.        , 0.        ,\n",
              "        0.        , 0.        , 0.        , 0.        , 0.        ,\n",
              "        0.        , 0.        , 0.        , 0.        , 0.        ,\n",
              "        0.        , 0.        , 0.        , 0.        , 0.        ,\n",
              "        0.        , 0.        , 0.        ],\n",
              "       [0.        , 0.        , 0.        , 0.        , 0.        ,\n",
              "        0.        , 0.        , 0.        , 0.        , 0.        ,\n",
              "        0.        , 0.        , 0.        , 0.        , 0.        ,\n",
              "        0.        , 0.        , 0.        , 0.        , 0.        ,\n",
              "        0.        , 0.        , 0.        , 0.        , 0.        ,\n",
              "        0.        , 0.        , 0.        ],\n",
              "       [0.        , 0.        , 0.        , 0.        , 0.        ,\n",
              "        0.        , 0.        , 0.        , 0.        , 0.        ,\n",
              "        0.        , 0.        , 0.        , 0.        , 0.        ,\n",
              "        0.        , 0.        , 0.        , 0.        , 0.        ,\n",
              "        0.        , 0.        , 0.        , 0.        , 0.        ,\n",
              "        0.        , 0.        , 0.        ],\n",
              "       [0.        , 0.        , 0.        , 0.        , 0.        ,\n",
              "        0.        , 0.        , 0.        , 0.        , 0.        ,\n",
              "        0.        , 0.        , 0.        , 0.        , 0.        ,\n",
              "        0.        , 0.        , 0.        , 0.        , 0.        ,\n",
              "        0.        , 0.        , 0.        , 0.        , 0.        ,\n",
              "        0.        , 0.        , 0.        ],\n",
              "       [0.        , 0.        , 0.        , 0.        , 0.        ,\n",
              "        0.        , 0.        , 0.        , 0.        , 0.        ,\n",
              "        0.        , 0.        , 0.        , 0.        , 0.        ,\n",
              "        0.        , 0.        , 0.        , 0.        , 0.        ,\n",
              "        0.        , 0.        , 0.        , 0.        , 0.        ,\n",
              "        0.        , 0.        , 0.        ],\n",
              "       [0.        , 0.        , 0.        , 0.        , 0.        ,\n",
              "        0.        , 0.        , 0.        , 0.        , 0.        ,\n",
              "        0.        , 0.        , 0.        , 0.        , 0.        ,\n",
              "        0.        , 0.        , 0.        , 0.        , 0.        ,\n",
              "        0.2627451 , 0.90980392, 0.15294118, 0.        , 0.        ,\n",
              "        0.        , 0.        , 0.        ],\n",
              "       [0.        , 0.        , 0.        , 0.        , 0.24313725,\n",
              "        0.31764706, 0.        , 0.        , 0.        , 0.        ,\n",
              "        0.        , 0.        , 0.        , 0.        , 0.        ,\n",
              "        0.        , 0.        , 0.        , 0.        , 0.        ,\n",
              "        0.47058824, 0.70588235, 0.15294118, 0.        , 0.        ,\n",
              "        0.        , 0.        , 0.        ],\n",
              "       [0.        , 0.        , 0.        , 0.        , 0.49411765,\n",
              "        0.63921569, 0.        , 0.        , 0.        , 0.        ,\n",
              "        0.        , 0.        , 0.        , 0.        , 0.        ,\n",
              "        0.        , 0.        , 0.        , 0.        , 0.00784314,\n",
              "        0.6       , 0.82352941, 0.15686275, 0.        , 0.        ,\n",
              "        0.        , 0.        , 0.        ],\n",
              "       [0.        , 0.        , 0.        , 0.        , 0.8627451 ,\n",
              "        0.63921569, 0.        , 0.        , 0.        , 0.        ,\n",
              "        0.        , 0.        , 0.        , 0.        , 0.        ,\n",
              "        0.        , 0.        , 0.        , 0.        , 0.10588235,\n",
              "        0.99607843, 0.63529412, 0.        , 0.        , 0.        ,\n",
              "        0.        , 0.        , 0.        ],\n",
              "       [0.        , 0.        , 0.        , 0.        , 0.87058824,\n",
              "        0.63921569, 0.        , 0.        , 0.        , 0.        ,\n",
              "        0.        , 0.        , 0.        , 0.        , 0.        ,\n",
              "        0.        , 0.        , 0.        , 0.        , 0.71764706,\n",
              "        0.99607843, 0.49019608, 0.        , 0.        , 0.        ,\n",
              "        0.        , 0.        , 0.        ],\n",
              "       [0.        , 0.        , 0.        , 0.18039216, 0.96078431,\n",
              "        0.63921569, 0.        , 0.        , 0.        , 0.        ,\n",
              "        0.        , 0.        , 0.        , 0.        , 0.        ,\n",
              "        0.        , 0.        , 0.        , 0.        , 0.77647059,\n",
              "        0.99607843, 0.21960784, 0.        , 0.        , 0.        ,\n",
              "        0.        , 0.        , 0.        ],\n",
              "       [0.        , 0.        , 0.        , 0.47058824, 0.99607843,\n",
              "        0.63921569, 0.        , 0.        , 0.        , 0.        ,\n",
              "        0.        , 0.        , 0.        , 0.        , 0.        ,\n",
              "        0.        , 0.        , 0.        , 0.09019608, 0.90588235,\n",
              "        0.99607843, 0.11372549, 0.        , 0.        , 0.        ,\n",
              "        0.        , 0.        , 0.        ],\n",
              "       [0.        , 0.        , 0.        , 0.62352941, 0.99607843,\n",
              "        0.47058824, 0.        , 0.        , 0.        , 0.        ,\n",
              "        0.        , 0.        , 0.        , 0.        , 0.        ,\n",
              "        0.        , 0.        , 0.        , 0.63921569, 0.99607843,\n",
              "        0.84705882, 0.0627451 , 0.        , 0.        , 0.        ,\n",
              "        0.        , 0.        , 0.        ],\n",
              "       [0.        , 0.        , 0.        , 0.62352941, 0.99607843,\n",
              "        0.2627451 , 0.        , 0.        , 0.        , 0.        ,\n",
              "        0.        , 0.        , 0.        , 0.        , 0.        ,\n",
              "        0.05490196, 0.3372549 , 0.69803922, 0.97254902, 0.99607843,\n",
              "        0.35686275, 0.        , 0.        , 0.        , 0.        ,\n",
              "        0.        , 0.        , 0.        ],\n",
              "       [0.        , 0.        , 0.        , 0.62352941, 0.99607843,\n",
              "        0.33333333, 0.        , 0.        , 0.        , 0.18431373,\n",
              "        0.19215686, 0.45490196, 0.56470588, 0.58823529, 0.94509804,\n",
              "        0.95294118, 0.91764706, 0.70196078, 0.94509804, 0.98823529,\n",
              "        0.15686275, 0.        , 0.        , 0.        , 0.        ,\n",
              "        0.        , 0.        , 0.        ],\n",
              "       [0.        , 0.        , 0.        , 0.58823529, 0.99215686,\n",
              "        0.92941176, 0.81176471, 0.81176471, 0.81176471, 0.99215686,\n",
              "        0.99607843, 0.98039216, 0.94117647, 0.77647059, 0.56078431,\n",
              "        0.35686275, 0.10980392, 0.01960784, 0.91372549, 0.98039216,\n",
              "        0.        , 0.        , 0.        , 0.        , 0.        ,\n",
              "        0.        , 0.        , 0.        ],\n",
              "       [0.        , 0.        , 0.        , 0.        , 0.46666667,\n",
              "        0.69411765, 0.69411765, 0.69411765, 0.69411765, 0.69411765,\n",
              "        0.38431373, 0.21960784, 0.        , 0.        , 0.        ,\n",
              "        0.        , 0.        , 0.4       , 0.99607843, 0.8627451 ,\n",
              "        0.        , 0.        , 0.        , 0.        , 0.        ,\n",
              "        0.        , 0.        , 0.        ],\n",
              "       [0.        , 0.        , 0.        , 0.        , 0.        ,\n",
              "        0.        , 0.        , 0.        , 0.        , 0.        ,\n",
              "        0.        , 0.        , 0.        , 0.        , 0.        ,\n",
              "        0.        , 0.        , 0.6627451 , 0.99607843, 0.5372549 ,\n",
              "        0.        , 0.        , 0.        , 0.        , 0.        ,\n",
              "        0.        , 0.        , 0.        ],\n",
              "       [0.        , 0.        , 0.        , 0.        , 0.        ,\n",
              "        0.        , 0.        , 0.        , 0.        , 0.        ,\n",
              "        0.        , 0.        , 0.        , 0.        , 0.        ,\n",
              "        0.        , 0.        , 0.6627451 , 0.99607843, 0.22352941,\n",
              "        0.        , 0.        , 0.        , 0.        , 0.        ,\n",
              "        0.        , 0.        , 0.        ],\n",
              "       [0.        , 0.        , 0.        , 0.        , 0.        ,\n",
              "        0.        , 0.        , 0.        , 0.        , 0.        ,\n",
              "        0.        , 0.        , 0.        , 0.        , 0.        ,\n",
              "        0.        , 0.        , 0.6627451 , 0.99607843, 0.22352941,\n",
              "        0.        , 0.        , 0.        , 0.        , 0.        ,\n",
              "        0.        , 0.        , 0.        ],\n",
              "       [0.        , 0.        , 0.        , 0.        , 0.        ,\n",
              "        0.        , 0.        , 0.        , 0.        , 0.        ,\n",
              "        0.        , 0.        , 0.        , 0.        , 0.        ,\n",
              "        0.        , 0.        , 0.6627451 , 1.        , 0.36862745,\n",
              "        0.        , 0.        , 0.        , 0.        , 0.        ,\n",
              "        0.        , 0.        , 0.        ],\n",
              "       [0.        , 0.        , 0.        , 0.        , 0.        ,\n",
              "        0.        , 0.        , 0.        , 0.        , 0.        ,\n",
              "        0.        , 0.        , 0.        , 0.        , 0.        ,\n",
              "        0.        , 0.        , 0.6627451 , 0.99607843, 0.37647059,\n",
              "        0.        , 0.        , 0.        , 0.        , 0.        ,\n",
              "        0.        , 0.        , 0.        ],\n",
              "       [0.        , 0.        , 0.        , 0.        , 0.        ,\n",
              "        0.        , 0.        , 0.        , 0.        , 0.        ,\n",
              "        0.        , 0.        , 0.        , 0.        , 0.        ,\n",
              "        0.        , 0.        , 0.6627451 , 0.99607843, 0.6       ,\n",
              "        0.        , 0.        , 0.        , 0.        , 0.        ,\n",
              "        0.        , 0.        , 0.        ],\n",
              "       [0.        , 0.        , 0.        , 0.        , 0.        ,\n",
              "        0.        , 0.        , 0.        , 0.        , 0.        ,\n",
              "        0.        , 0.        , 0.        , 0.        , 0.        ,\n",
              "        0.        , 0.        , 0.6627451 , 1.        , 0.6       ,\n",
              "        0.        , 0.        , 0.        , 0.        , 0.        ,\n",
              "        0.        , 0.        , 0.        ],\n",
              "       [0.        , 0.        , 0.        , 0.        , 0.        ,\n",
              "        0.        , 0.        , 0.        , 0.        , 0.        ,\n",
              "        0.        , 0.        , 0.        , 0.        , 0.        ,\n",
              "        0.        , 0.        , 0.37647059, 0.99607843, 0.6       ,\n",
              "        0.        , 0.        , 0.        , 0.        , 0.        ,\n",
              "        0.        , 0.        , 0.        ],\n",
              "       [0.        , 0.        , 0.        , 0.        , 0.        ,\n",
              "        0.        , 0.        , 0.        , 0.        , 0.        ,\n",
              "        0.        , 0.        , 0.        , 0.        , 0.        ,\n",
              "        0.        , 0.        , 0.        , 0.        , 0.        ,\n",
              "        0.        , 0.        , 0.        , 0.        , 0.        ,\n",
              "        0.        , 0.        , 0.        ],\n",
              "       [0.        , 0.        , 0.        , 0.        , 0.        ,\n",
              "        0.        , 0.        , 0.        , 0.        , 0.        ,\n",
              "        0.        , 0.        , 0.        , 0.        , 0.        ,\n",
              "        0.        , 0.        , 0.        , 0.        , 0.        ,\n",
              "        0.        , 0.        , 0.        , 0.        , 0.        ,\n",
              "        0.        , 0.        , 0.        ],\n",
              "       [0.        , 0.        , 0.        , 0.        , 0.        ,\n",
              "        0.        , 0.        , 0.        , 0.        , 0.        ,\n",
              "        0.        , 0.        , 0.        , 0.        , 0.        ,\n",
              "        0.        , 0.        , 0.        , 0.        , 0.        ,\n",
              "        0.        , 0.        , 0.        , 0.        , 0.        ,\n",
              "        0.        , 0.        , 0.        ]])"
            ]
          },
          "metadata": {},
          "execution_count": 9
        }
      ]
    },
    {
      "cell_type": "code",
      "source": [
        "#scaling test data\n",
        "test_data = test_data/255"
      ],
      "metadata": {
        "id": "eoF067AFKawp"
      },
      "execution_count": 10,
      "outputs": []
    },
    {
      "cell_type": "code",
      "source": [
        "# prompt: logic to apply one hot encoding for train_label\n",
        "from tensorflow.keras.utils import to_categorical\n",
        "\n",
        "# Apply one-hot encoding to train_label\n",
        "train_label_new = to_categorical(train_label)\n",
        "test_label_new = to_categorical(test_label)\n",
        "print(train_label.shape) # Verify the shape after one-hot encoding\n",
        "print(train_label_new.shape) # Verify the shape after one-hot encoding\n",
        "print(train_label_new[0]) # Print an example of the one-hot encoded label\n",
        "print(test_label.shape) # Verify the shape after one-hot encoding\n",
        "print(test_label_new.shape) # Verify the shape after one-hot encoding\n",
        "print(test_label_new[0]) # Print an example of the one-hot encoded label\n"
      ],
      "metadata": {
        "colab": {
          "base_uri": "https://localhost:8080/"
        },
        "id": "v4xqH1JyLsOG",
        "outputId": "dd8ca023-f212-441d-bfa4-3a69fa62eb04"
      },
      "execution_count": 11,
      "outputs": [
        {
          "output_type": "stream",
          "name": "stdout",
          "text": [
            "(60000,)\n",
            "(60000, 10)\n",
            "[0. 0. 0. 0. 0. 1. 0. 0. 0. 0.]\n",
            "(10000,)\n",
            "(10000, 10)\n",
            "[0. 0. 0. 0. 0. 0. 0. 1. 0. 0.]\n"
          ]
        }
      ]
    },
    {
      "cell_type": "markdown",
      "source": [
        "-------------------------------------------------------------------------------------------------------------------This is an example----------------------------------------------------------------------------"
      ],
      "metadata": {
        "id": "sxhUwtS48_bD"
      }
    },
    {
      "cell_type": "code",
      "source": [
        "import numpy as np\n",
        "import seaborn as sns\n",
        "\n",
        "# building the image of a zero:\n",
        "zero = np.array([[0,0,0,1,0,0,0,0],\n",
        "                 [0,1,2,3,2,1,0,0],\n",
        "                 [0,4,3,1,3,2,0,0],\n",
        "                 [1,5,2,0,0,5,1,0],\n",
        "                 [2,4,0,0,0,6,2,0],\n",
        "                 [1,3,0,0,0,4,1,0],\n",
        "                 [0,2,3,2,1,3,0,0],\n",
        "                 [0,0,3,4,3,1,0,0]])\n",
        "sns.heatmap(zero, annot=True)"
      ],
      "metadata": {
        "colab": {
          "base_uri": "https://localhost:8080/",
          "height": 452
        },
        "id": "QS5VAyDvWmK9",
        "outputId": "ae7b779d-5695-4e16-d12a-78caa4516455"
      },
      "execution_count": 12,
      "outputs": [
        {
          "output_type": "execute_result",
          "data": {
            "text/plain": [
              "<Axes: >"
            ]
          },
          "metadata": {},
          "execution_count": 12
        },
        {
          "output_type": "display_data",
          "data": {
            "text/plain": [
              "<Figure size 640x480 with 2 Axes>"
            ],
            "image/png": "[encoded data removed]"
          },
          "metadata": {}
        }
      ]
    },
    {
      "cell_type": "code",
      "source": [
        "from skimage.util import view_as_blocks\n",
        "pooling_window_shape = (2,2)\n",
        "view = view_as_blocks(zero, pooling_window_shape)\n",
        "view"
      ],
      "metadata": {
        "colab": {
          "base_uri": "https://localhost:8080/"
        },
        "id": "6T-odSoxWcjv",
        "outputId": "c29a44af-277a-4ca2-a550-e1692eeb96d6"
      },
      "execution_count": 13,
      "outputs": [
        {
          "output_type": "execute_result",
          "data": {
            "text/plain": [
              "array([[[[0, 0],\n",
              "         [0, 1]],\n",
              "\n",
              "        [[0, 1],\n",
              "         [2, 3]],\n",
              "\n",
              "        [[0, 0],\n",
              "         [2, 1]],\n",
              "\n",
              "        [[0, 0],\n",
              "         [0, 0]]],\n",
              "\n",
              "\n",
              "       [[[0, 4],\n",
              "         [1, 5]],\n",
              "\n",
              "        [[3, 1],\n",
              "         [2, 0]],\n",
              "\n",
              "        [[3, 2],\n",
              "         [0, 5]],\n",
              "\n",
              "        [[0, 0],\n",
              "         [1, 0]]],\n",
              "\n",
              "\n",
              "       [[[2, 4],\n",
              "         [1, 3]],\n",
              "\n",
              "        [[0, 0],\n",
              "         [0, 0]],\n",
              "\n",
              "        [[0, 6],\n",
              "         [0, 4]],\n",
              "\n",
              "        [[2, 0],\n",
              "         [1, 0]]],\n",
              "\n",
              "\n",
              "       [[[0, 2],\n",
              "         [0, 0]],\n",
              "\n",
              "        [[3, 2],\n",
              "         [3, 4]],\n",
              "\n",
              "        [[1, 3],\n",
              "         [3, 1]],\n",
              "\n",
              "        [[0, 0],\n",
              "         [0, 0]]]])"
            ]
          },
          "metadata": {},
          "execution_count": 13
        }
      ]
    },
    {
      "cell_type": "code",
      "source": [
        "view.shape[0]"
      ],
      "metadata": {
        "colab": {
          "base_uri": "https://localhost:8080/"
        },
        "id": "ltTMNQ_1W6av",
        "outputId": "2f6560f3-4076-42f7-fe9e-2dfe7f361388"
      },
      "execution_count": 14,
      "outputs": [
        {
          "output_type": "execute_result",
          "data": {
            "text/plain": [
              "4"
            ]
          },
          "metadata": {},
          "execution_count": 14
        }
      ]
    },
    {
      "cell_type": "code",
      "source": [
        "print(view[0])\n",
        "print(view.shape[0])"
      ],
      "metadata": {
        "colab": {
          "base_uri": "https://localhost:8080/"
        },
        "id": "hroXpKeICTZh",
        "outputId": "187143ec-db44-4420-acc3-7e2d93b4fc85"
      },
      "execution_count": 15,
      "outputs": [
        {
          "output_type": "stream",
          "name": "stdout",
          "text": [
            "[[[0 0]\n",
            "  [0 1]]\n",
            "\n",
            " [[0 1]\n",
            "  [2 3]]\n",
            "\n",
            " [[0 0]\n",
            "  [2 1]]\n",
            "\n",
            " [[0 0]\n",
            "  [0 0]]]\n",
            "4\n"
          ]
        }
      ]
    },
    {
      "cell_type": "code",
      "source": [
        "flatten_view = view.reshape(view.shape[0], view.shape[1], -1)\n",
        "flatten_view"
      ],
      "metadata": {
        "colab": {
          "base_uri": "https://localhost:8080/"
        },
        "id": "3zsuudy6YuEM",
        "outputId": "cbfef43a-bfbc-4b87-a8ef-be1ddfb42cec"
      },
      "execution_count": 16,
      "outputs": [
        {
          "output_type": "execute_result",
          "data": {
            "text/plain": [
              "array([[[0, 0, 0, 1],\n",
              "        [0, 1, 2, 3],\n",
              "        [0, 0, 2, 1],\n",
              "        [0, 0, 0, 0]],\n",
              "\n",
              "       [[0, 4, 1, 5],\n",
              "        [3, 1, 2, 0],\n",
              "        [3, 2, 0, 5],\n",
              "        [0, 0, 1, 0]],\n",
              "\n",
              "       [[2, 4, 1, 3],\n",
              "        [0, 0, 0, 0],\n",
              "        [0, 6, 0, 4],\n",
              "        [2, 0, 1, 0]],\n",
              "\n",
              "       [[0, 2, 0, 0],\n",
              "        [3, 2, 3, 4],\n",
              "        [1, 3, 3, 1],\n",
              "        [0, 0, 0, 0]]])"
            ]
          },
          "metadata": {},
          "execution_count": 16
        }
      ]
    },
    {
      "cell_type": "code",
      "source": [
        "flatten_view[0,0,3]"
      ],
      "metadata": {
        "colab": {
          "base_uri": "https://localhost:8080/"
        },
        "id": "BcEEZLtAZus5",
        "outputId": "32fee51a-27fb-4702-9691-956b233cc62d"
      },
      "execution_count": 17,
      "outputs": [
        {
          "output_type": "execute_result",
          "data": {
            "text/plain": [
              "1"
            ]
          },
          "metadata": {},
          "execution_count": 17
        }
      ]
    },
    {
      "cell_type": "code",
      "source": [
        "mean_view = np.mean(flatten_view,axis=2)\n",
        "mean_view"
      ],
      "metadata": {
        "colab": {
          "base_uri": "https://localhost:8080/"
        },
        "id": "aMCPsJb0Y5TF",
        "outputId": "1e0d0faf-8c77-4b65-a13a-4055a5f1d079"
      },
      "execution_count": 18,
      "outputs": [
        {
          "output_type": "execute_result",
          "data": {
            "text/plain": [
              "array([[0.25, 1.5 , 0.75, 0.  ],\n",
              "       [2.5 , 1.5 , 2.5 , 0.25],\n",
              "       [2.5 , 0.  , 2.5 , 0.75],\n",
              "       [0.5 , 3.  , 2.  , 0.  ]])"
            ]
          },
          "metadata": {},
          "execution_count": 18
        }
      ]
    },
    {
      "cell_type": "code",
      "source": [
        "max_view = np.max(flatten_view, axis=2)\n",
        "max_view"
      ],
      "metadata": {
        "colab": {
          "base_uri": "https://localhost:8080/"
        },
        "id": "WErJjRc7Y_1N",
        "outputId": "e4f333cf-0819-4fa8-fa70-a9ad55a0bc8d"
      },
      "execution_count": 19,
      "outputs": [
        {
          "output_type": "execute_result",
          "data": {
            "text/plain": [
              "array([[1, 3, 2, 0],\n",
              "       [5, 3, 5, 1],\n",
              "       [4, 0, 6, 2],\n",
              "       [2, 4, 3, 0]])"
            ]
          },
          "metadata": {},
          "execution_count": 19
        }
      ]
    },
    {
      "cell_type": "markdown",
      "source": [
        "--------------------------------------------------------------------------------------------Example ends here------------------------------------"
      ],
      "metadata": {
        "id": "ayARKhCf9Fzw"
      }
    },
    {
      "cell_type": "code",
      "source": [
        "from keras import models\n",
        "from keras import layers\n",
        "#Models module\n",
        "#-provides functionalities to define the structure of your neural network\n",
        "#-primarily used to create either a Sequential model (for stacking layers linearly)\n",
        "# or a Model using the Functional API (for more complex architectures).\n",
        "#Layers module\n",
        "#-helps build layers in the neural networklike dense layers, SoftMax layer etc"
      ],
      "metadata": {
        "id": "JRom_ulAv-d1"
      },
      "execution_count": 20,
      "outputs": []
    },
    {
      "cell_type": "code",
      "source": [
        "#model1=models.Sequential()\n",
        "#instantiates the Sequential class from keras.models and names it as model1"
      ],
      "metadata": {
        "id": "HnKHaHyPxfH4"
      },
      "execution_count": 21,
      "outputs": []
    },
    {
      "cell_type": "code",
      "source": [
        "#model1.add(layers.Conv2D(10, 4, input_shape=(28,28,1), activation='relu') )\n",
        "#Adds a convolutional layer to handle a 2D tensor as input with the parameters\n",
        "# Number of filters = 10\n",
        "# Filter shape = 4*4\n",
        "# input_shape = 28*28*1 - here 1 is the number of channels. channel last. batch size\n",
        "#               is optional as denotes the number of input images.It comes first"
      ],
      "metadata": {
        "id": "SO3NF6fr2Wye"
      },
      "execution_count": 22,
      "outputs": []
    },
    {
      "cell_type": "code",
      "source": [
        "#model1.summary()\n",
        "#Now the model has a single convolutional layer"
      ],
      "metadata": {
        "id": "tEZjxWJhx00S"
      },
      "execution_count": 23,
      "outputs": []
    },
    {
      "cell_type": "code",
      "source": [
        "#model1.add( layers.Flatten() )\n",
        "#This adds a flatten layer after the convolutional layer. This is needed to flatten a multi-\n",
        "#dimensional input to a single dimension to be fed into an ANN also known as the dense layer.\n",
        "#This is similar to the input layer in an ANN"
      ],
      "metadata": {
        "id": "_v3Xy1No0ZnP"
      },
      "execution_count": 24,
      "outputs": []
    },
    {
      "cell_type": "code",
      "source": [
        "#model1.summary()\n",
        "#Here we can see the dense layer is added to the model called model1"
      ],
      "metadata": {
        "id": "tXFHigmW22EA"
      },
      "execution_count": 25,
      "outputs": []
    },
    {
      "cell_type": "code",
      "source": [
        "#model1.add( layers.Dense(100, activation='relu') )\n",
        "#This adds a single dense layer with 100 neurons after the flatten layer.\n",
        "#This corresponds to hidden layer in an ANN"
      ],
      "metadata": {
        "id": "8Wp7Ekev3DpC"
      },
      "execution_count": 26,
      "outputs": []
    },
    {
      "cell_type": "code",
      "source": [
        "#model1.summary()"
      ],
      "metadata": {
        "id": "jE_5lzXI3Qdy"
      },
      "execution_count": 27,
      "outputs": []
    },
    {
      "cell_type": "code",
      "source": [
        "#model1.add( layers.Dense(10, activation='softmax') )\n",
        "#Adds a SoftMax layer which is the output layer\n",
        "#SoftMax converts raw inputs from the dense layer to class probablities adding up to 1\n",
        "#(e.g.50% 4, 30% 7, 20% 1). Model chooses the class with the highest probability as the\n",
        "#output class. Particularly suited for multi-class classification problems"
      ],
      "metadata": {
        "id": "bTb2ttgt3oD4"
      },
      "execution_count": 28,
      "outputs": []
    },
    {
      "cell_type": "code",
      "source": [
        "#model1.summary()\n",
        "#Here we can see a model with 4 layers - convolution, flatten,dense and softmax\n",
        "#Here we have more than 600K parameters to optimise"
      ],
      "metadata": {
        "id": "10QNs_RH3rf2"
      },
      "execution_count": 29,
      "outputs": []
    },
    {
      "cell_type": "code",
      "source": [
        "from keras.optimizers import RMSprop\n",
        "#RMSprop is an optimization algorithm used to train neural networks.\n",
        "#Adaptive Learning Rates: RMSprop automatically adjusts the learning rate for each weight in the\n",
        "#network. This helps the network converge faster and avoid getting stuck in local minima\n",
        "#Handling Gradient Explosions: It helps prevent the gradients from becoming too large and\n",
        "#unstable\n",
        "#RMSprop is a popular choice because it often leads to faster convergence and\n",
        "#better performance compared to other optimizers."
      ],
      "metadata": {
        "id": "RDmWsJ-Spmtr"
      },
      "execution_count": 30,
      "outputs": []
    },
    {
      "cell_type": "code",
      "source": [
        "#model1.compile(loss='categorical_crossentropy',optimizer=RMSprop(),metrics=['acc'])\n",
        "#Prepares model for training.Configures the loss function, optimization function and metric\n",
        "#for evaluation\n",
        "#categorical_crossentropy is a loss function used for multi-class classification problems\n",
        "#acc-short form for accuracy gives the % of correctly classified inputs\n"
      ],
      "metadata": {
        "id": "v4z_4zJIt-kO"
      },
      "execution_count": 31,
      "outputs": []
    },
    {
      "cell_type": "code",
      "source": [
        "print(train_data.shape)\n",
        "print(test_data.shape)"
      ],
      "metadata": {
        "colab": {
          "base_uri": "https://localhost:8080/"
        },
        "id": "jjQTFUE_vAnv",
        "outputId": "38177cdf-a4a7-4d11-ce3a-872321b9bf17"
      },
      "execution_count": 32,
      "outputs": [
        {
          "output_type": "stream",
          "name": "stdout",
          "text": [
            "(60000, 28, 28)\n",
            "(10000, 28, 28)\n"
          ]
        }
      ]
    },
    {
      "cell_type": "code",
      "source": [
        "kx_train = train_data.reshape(len(train_data),28,28,1)\n",
        "kx_test = test_data.reshape(len(test_data),28,28,1)\n",
        "print(kx_train.shape)\n",
        "print(kx_test.shape)\n",
        "#this line is restructuring the train_data to be a 4-dimensional array:\n",
        "#(number of images, image height, image width, number of channels).\n",
        "#This format is what the CNN expects as input"
      ],
      "metadata": {
        "colab": {
          "base_uri": "https://localhost:8080/"
        },
        "id": "7Xw73VfvwNYM",
        "outputId": "0e7514d7-20dc-4dd1-a133-dceb1169a7b8"
      },
      "execution_count": 33,
      "outputs": [
        {
          "output_type": "stream",
          "name": "stdout",
          "text": [
            "(60000, 28, 28, 1)\n",
            "(10000, 28, 28, 1)\n"
          ]
        }
      ]
    },
    {
      "cell_type": "code",
      "source": [
        "print(train_label.shape)\n",
        "print(test_label.shape)\n",
        "print(kx_train.shape)\n",
        "print(kx_test.shape)\n",
        "print(train_label_new.shape)\n",
        "print(test_label_new.shape)"
      ],
      "metadata": {
        "colab": {
          "base_uri": "https://localhost:8080/"
        },
        "id": "Q1SovtalzueN",
        "outputId": "205c0b14-07a4-4bb2-dc2e-9f172ee3e88b"
      },
      "execution_count": 34,
      "outputs": [
        {
          "output_type": "stream",
          "name": "stdout",
          "text": [
            "(60000,)\n",
            "(10000,)\n",
            "(60000, 28, 28, 1)\n",
            "(10000, 28, 28, 1)\n",
            "(60000, 10)\n",
            "(10000, 10)\n"
          ]
        }
      ]
    },
    {
      "cell_type": "code",
      "source": [
        "#history = model1.fit(kx_train, train_label_new, validation_data=(kx_test,test_label_new),\n",
        "#                   batch_size=50, epochs=10)\n",
        "#batch_size controls how many images the model processes at once before updating its\n",
        "#internal parameters. Processing in batches is more efficient than looking at each\n",
        "#image individually. A batch_size of 50 means the model will look at 50 images at a time\n",
        "#epochs: This determines how many times the model iterates over the entire training dataset.\n",
        "#One epoch means the model has seen every training image once. Setting epochs to 10 means the\n",
        "#model will go through the entire training dataset 10 times"
      ],
      "metadata": {
        "id": "TaUQQC8Nx3H7"
      },
      "execution_count": 35,
      "outputs": []
    },
    {
      "cell_type": "markdown",
      "source": [
        "# Hyperparameter Tuning"
      ],
      "metadata": {
        "id": "F6tXaKw2IF6g"
      }
    },
    {
      "cell_type": "code",
      "source": [
        "#create a user defined function that plots training and test accuracy for each epoch\n",
        "#of the training cycle\n",
        "#history is an object that stores the training history of the model , including metrics like\n",
        "#accuracy\n",
        "#miny - optional parameter that sets the minimum value of the y plot initialised to none\n",
        "def plot_accuracy(history, miny=None):\n",
        "  acc = history.history['acc']\n",
        "  test_acc = history.history['val_acc']\n",
        "  epochs = range(len(acc))\n",
        "  plt.plot(epochs, acc,color='green')# training accuracy\n",
        "  plt.plot(epochs, test_acc,color='brown')# test accuracy\n",
        "  if miny:\n",
        "    plt.ylim(miny, 1.0)\n",
        "  plt.title('accuracy')\n",
        "  plt.figure()"
      ],
      "metadata": {
        "id": "cDTLqACzIKIE"
      },
      "execution_count": 36,
      "outputs": []
    },
    {
      "cell_type": "code",
      "source": [
        "#plot_accuracy(history)"
      ],
      "metadata": {
        "id": "6THMlKYmMDbE"
      },
      "execution_count": 37,
      "outputs": []
    },
    {
      "cell_type": "markdown",
      "source": [
        "We see that the accuracy on the training sample continuously improves: the network gets better and better at recognizing the digits of this sample, because it's trained to do so.\n",
        "\n",
        "But the accuracy on the testing sample, which is not used for training, plateaus very early at about 98.5%. Training further will not help.\n",
        "\n",
        "That's a clear sign of overfitting. And the more complex the network, the easier it is for it to learn the specific examples of the training sample.\n",
        "\n",
        "*So our first step should not be to make the network more complex, but to solve this overfitting problem. *\n",
        "\n",
        "To do that, we'll create a new instance of our network, in which we will introduce a dropout layer, just before the dense sub-network:"
      ],
      "metadata": {
        "id": "T8smf1BSM2HE"
      }
    },
    {
      "cell_type": "code",
      "source": [
        "#model_do = models.Sequential()\n",
        "#model_do.add( layers.Conv2D(10, 4, input_shape=(28,28,1), activation='relu') )\n",
        "#model_do.add( layers.Flatten() )\n",
        "#model_do.add( layers.Dropout(rate=0.5) )\n",
        "#model_do.add( layers.Dense(100, activation='relu') )\n",
        "#model_do.add( layers.Dense(10, activation='softmax') )\n",
        "#model_do.summary()"
      ],
      "metadata": {
        "id": "XIiUJg-2M3q0"
      },
      "execution_count": 38,
      "outputs": []
    },
    {
      "cell_type": "code",
      "source": [
        "#The dropout layer has the same output shape as the flatten layer just before.\n",
        "#It will drop 50% of the values from flatten, chosen on a random basis.\n",
        "#Let's compile, fit, and then check the performance.\n",
        "#model_do.compile(loss='categorical_crossentropy',\n",
        "#              optimizer=RMSprop(),\n",
        "#              metrics=['acc'])"
      ],
      "metadata": {
        "colab": {
          "base_uri": "https://localhost:8080/",
          "height": 106
        },
        "id": "H2p6qBUxNjJ2",
        "outputId": "512b80fc-1111-4b5e-9d07-59ff2b5bb38d"
      },
      "execution_count": 39,
      "outputs": [
        {
          "output_type": "error",
          "ename": "IndentationError",
          "evalue": "unexpected indent (<ipython-input-39-fcb037a0df94>, line 5)",
          "traceback": [
            "\u001b[0;36m  File \u001b[0;32m\"<ipython-input-39-fcb037a0df94>\"\u001b[0;36m, line \u001b[0;32m5\u001b[0m\n\u001b[0;31m    optimizer=RMSprop(),\u001b[0m\n\u001b[0m    ^\u001b[0m\n\u001b[0;31mIndentationError\u001b[0m\u001b[0;31m:\u001b[0m unexpected indent\n"
          ]
        }
      ]
    },
    {
      "cell_type": "code",
      "source": [
        "\n",
        "#history_do = model_do.fit(kx_train, train_label_new, validation_data=(kx_test,test_label_new),\n",
        "#                   batch_size=50, epochs=10)"
      ],
      "metadata": {
        "id": "mmAZc4xhNHkN"
      },
      "execution_count": 40,
      "outputs": []
    },
    {
      "cell_type": "code",
      "source": [
        "#plot_accuracy(history_do)"
      ],
      "metadata": {
        "id": "GK6kSLxtPpaJ"
      },
      "execution_count": 41,
      "outputs": []
    },
    {
      "cell_type": "code",
      "source": [
        "#Making the network more complex by increasing the number of neurons in the hidden layer\n",
        "#model_do_200 = models.Sequential()\n",
        "#model_do_200.add( layers.Conv2D(10, 4, input_shape=(28,28,1), activation='relu') )\n",
        "#model_do_200.add( layers.Flatten() )\n",
        "#model_do_200.add( layers.Dropout(rate=0.5) )\n",
        "#model_do_200.add( layers.Dense(200, activation='relu') )\n",
        "#model_do_200.add( layers.Dense(10, activation='softmax') )\n",
        "#model_do_200.summary()\n",
        "\n"
      ],
      "metadata": {
        "id": "TL7-ckHQedYX"
      },
      "execution_count": 42,
      "outputs": []
    },
    {
      "cell_type": "code",
      "source": [
        "#model_do_200.compile(loss='categorical_crossentropy',\n",
        "#              optimizer=RMSprop(),\n",
        "#              metrics=['acc'])\n",
        "\n",
        "#history_do_200 = model_do_200.fit(kx_train, train_label_new, validation_data=(kx_test,test_label_new),\n",
        "                   # batch_size=50, epochs=10)"
      ],
      "metadata": {
        "id": "u7W3ccZwe558"
      },
      "execution_count": 43,
      "outputs": []
    },
    {
      "cell_type": "code",
      "source": [
        "#plot_accuracy(history_do_200)"
      ],
      "metadata": {
        "id": "mxedq4jAgs-z"
      },
      "execution_count": 44,
      "outputs": []
    },
    {
      "cell_type": "markdown",
      "source": [],
      "metadata": {
        "id": "AyY4I_m8hq1y"
      }
    },
    {
      "cell_type": "markdown",
      "source": [
        "We can tune it further with the below approaches\n",
        "\n",
        "1) Reduce the number of neurons in the dense layer to 50\n",
        "\n",
        "2) Intead of using one layer of neurons with\n",
        "100 neurons, use 2 layers with 50 neuron each.\n",
        "\n",
        "These approaches can have negligible improvements. Popular method to improve accuracy significantly is by using snacked convolution layers\n"
      ],
      "metadata": {
        "id": "ZBYWmWX8hSbT"
      }
    },
    {
      "cell_type": "code",
      "source": [
        "models_2c = models.Sequential()\n",
        "models_2c.add(layers.Conv2D(10, 4, input_shape=(28,28,1), activation='relu') )\n",
        "models_2c.add(layers.MaxPooling2D(2))\n",
        "models_2c.add(layers.Conv2D(20, 4, activation='relu') )\n",
        "models_2c.add(layers.Flatten() )\n",
        "models_2c.add(layers.Dropout(rate=0.5) )\n",
        "models_2c.add(layers.Dense(100, activation='relu') )\n",
        "models_2c.add(layers.Dense(10, activation='softmax') )\n",
        "models_2c.summary()"
      ],
      "metadata": {
        "colab": {
          "base_uri": "https://localhost:8080/",
          "height": 429
        },
        "id": "CvXaq_fssYvY",
        "outputId": "16dcc593-208a-4f8c-a430-42fc0f958eab"
      },
      "execution_count": 45,
      "outputs": [
        {
          "output_type": "stream",
          "name": "stderr",
          "text": [
            "/usr/local/lib/python3.11/dist-packages/keras/src/layers/convolutional/base_conv.py:107: UserWarning: Do not pass an `input_shape`/`input_dim` argument to a layer. When using Sequential models, prefer using an `Input(shape)` object as the first layer in the model instead.\n",
            "  super().__init__(activity_regularizer=activity_regularizer, **kwargs)\n"
          ]
        },
        {
          "output_type": "display_data",
          "data": {
            "text/plain": [
              "\u001b[1mModel: \"sequential\"\u001b[0m\n"
            ],
            "text/html": [
              "<pre style=\"white-space:pre;overflow-x:auto;line-height:normal;font-family:Menlo,'DejaVu Sans Mono',consolas,'Courier New',monospace\"><span style=\"font-weight: bold\">Model: \"sequential\"</span>\n",
              "</pre>\n"
            ]
          },
          "metadata": {}
        },
        {
          "output_type": "display_data",
          "data": {
            "text/plain": [
              "┏━━━━━━━━━━━━━━━━━━━━━━━━━━━━━━━━━━━━━━┳━━━━━━━━━━━━━━━━━━━━━━━━━━━━━┳━━━━━━━━━━━━━━━━━┓\n",
              "┃\u001b[1m \u001b[0m\u001b[1mLayer (type)                        \u001b[0m\u001b[1m \u001b[0m┃\u001b[1m \u001b[0m\u001b[1mOutput Shape               \u001b[0m\u001b[1m \u001b[0m┃\u001b[1m \u001b[0m\u001b[1m        Param #\u001b[0m\u001b[1m \u001b[0m┃\n",
              "┡━━━━━━━━━━━━━━━━━━━━━━━━━━━━━━━━━━━━━━╇━━━━━━━━━━━━━━━━━━━━━━━━━━━━━╇━━━━━━━━━━━━━━━━━┩\n",
              "│ conv2d (\u001b[38;5;33mConv2D\u001b[0m)                      │ (\u001b[38;5;45mNone\u001b[0m, \u001b[38;5;34m25\u001b[0m, \u001b[38;5;34m25\u001b[0m, \u001b[38;5;34m10\u001b[0m)          │             \u001b[38;5;34m170\u001b[0m │\n",
              "├──────────────────────────────────────┼─────────────────────────────┼─────────────────┤\n",
              "│ max_pooling2d (\u001b[38;5;33mMaxPooling2D\u001b[0m)         │ (\u001b[38;5;45mNone\u001b[0m, \u001b[38;5;34m12\u001b[0m, \u001b[38;5;34m12\u001b[0m, \u001b[38;5;34m10\u001b[0m)          │               \u001b[38;5;34m0\u001b[0m │\n",
              "├──────────────────────────────────────┼─────────────────────────────┼─────────────────┤\n",
              "│ conv2d_1 (\u001b[38;5;33mConv2D\u001b[0m)                    │ (\u001b[38;5;45mNone\u001b[0m, \u001b[38;5;34m9\u001b[0m, \u001b[38;5;34m9\u001b[0m, \u001b[38;5;34m20\u001b[0m)            │           \u001b[38;5;34m3,220\u001b[0m │\n",
              "├──────────────────────────────────────┼─────────────────────────────┼─────────────────┤\n",
              "│ flatten (\u001b[38;5;33mFlatten\u001b[0m)                    │ (\u001b[38;5;45mNone\u001b[0m, \u001b[38;5;34m1620\u001b[0m)                │               \u001b[38;5;34m0\u001b[0m │\n",
              "├──────────────────────────────────────┼─────────────────────────────┼─────────────────┤\n",
              "│ dropout (\u001b[38;5;33mDropout\u001b[0m)                    │ (\u001b[38;5;45mNone\u001b[0m, \u001b[38;5;34m1620\u001b[0m)                │               \u001b[38;5;34m0\u001b[0m │\n",
              "├──────────────────────────────────────┼─────────────────────────────┼─────────────────┤\n",
              "│ dense (\u001b[38;5;33mDense\u001b[0m)                        │ (\u001b[38;5;45mNone\u001b[0m, \u001b[38;5;34m100\u001b[0m)                 │         \u001b[38;5;34m162,100\u001b[0m │\n",
              "├──────────────────────────────────────┼─────────────────────────────┼─────────────────┤\n",
              "│ dense_1 (\u001b[38;5;33mDense\u001b[0m)                      │ (\u001b[38;5;45mNone\u001b[0m, \u001b[38;5;34m10\u001b[0m)                  │           \u001b[38;5;34m1,010\u001b[0m │\n",
              "└──────────────────────────────────────┴─────────────────────────────┴─────────────────┘\n"
            ],
            "text/html": [
              "<pre style=\"white-space:pre;overflow-x:auto;line-height:normal;font-family:Menlo,'DejaVu Sans Mono',consolas,'Courier New',monospace\">┏━━━━━━━━━━━━━━━━━━━━━━━━━━━━━━━━━━━━━━┳━━━━━━━━━━━━━━━━━━━━━━━━━━━━━┳━━━━━━━━━━━━━━━━━┓\n",
              "┃<span style=\"font-weight: bold\"> Layer (type)                         </span>┃<span style=\"font-weight: bold\"> Output Shape                </span>┃<span style=\"font-weight: bold\">         Param # </span>┃\n",
              "┡━━━━━━━━━━━━━━━━━━━━━━━━━━━━━━━━━━━━━━╇━━━━━━━━━━━━━━━━━━━━━━━━━━━━━╇━━━━━━━━━━━━━━━━━┩\n",
              "│ conv2d (<span style=\"color: #0087ff; text-decoration-color: #0087ff\">Conv2D</span>)                      │ (<span style=\"color: #00d7ff; text-decoration-color: #00d7ff\">None</span>, <span style=\"color: #00af00; text-decoration-color: #00af00\">25</span>, <span style=\"color: #00af00; text-decoration-color: #00af00\">25</span>, <span style=\"color: #00af00; text-decoration-color: #00af00\">10</span>)          │             <span style=\"color: #00af00; text-decoration-color: #00af00\">170</span> │\n",
              "├──────────────────────────────────────┼─────────────────────────────┼─────────────────┤\n",
              "│ max_pooling2d (<span style=\"color: #0087ff; text-decoration-color: #0087ff\">MaxPooling2D</span>)         │ (<span style=\"color: #00d7ff; text-decoration-color: #00d7ff\">None</span>, <span style=\"color: #00af00; text-decoration-color: #00af00\">12</span>, <span style=\"color: #00af00; text-decoration-color: #00af00\">12</span>, <span style=\"color: #00af00; text-decoration-color: #00af00\">10</span>)          │               <span style=\"color: #00af00; text-decoration-color: #00af00\">0</span> │\n",
              "├──────────────────────────────────────┼─────────────────────────────┼─────────────────┤\n",
              "│ conv2d_1 (<span style=\"color: #0087ff; text-decoration-color: #0087ff\">Conv2D</span>)                    │ (<span style=\"color: #00d7ff; text-decoration-color: #00d7ff\">None</span>, <span style=\"color: #00af00; text-decoration-color: #00af00\">9</span>, <span style=\"color: #00af00; text-decoration-color: #00af00\">9</span>, <span style=\"color: #00af00; text-decoration-color: #00af00\">20</span>)            │           <span style=\"color: #00af00; text-decoration-color: #00af00\">3,220</span> │\n",
              "├──────────────────────────────────────┼─────────────────────────────┼─────────────────┤\n",
              "│ flatten (<span style=\"color: #0087ff; text-decoration-color: #0087ff\">Flatten</span>)                    │ (<span style=\"color: #00d7ff; text-decoration-color: #00d7ff\">None</span>, <span style=\"color: #00af00; text-decoration-color: #00af00\">1620</span>)                │               <span style=\"color: #00af00; text-decoration-color: #00af00\">0</span> │\n",
              "├──────────────────────────────────────┼─────────────────────────────┼─────────────────┤\n",
              "│ dropout (<span style=\"color: #0087ff; text-decoration-color: #0087ff\">Dropout</span>)                    │ (<span style=\"color: #00d7ff; text-decoration-color: #00d7ff\">None</span>, <span style=\"color: #00af00; text-decoration-color: #00af00\">1620</span>)                │               <span style=\"color: #00af00; text-decoration-color: #00af00\">0</span> │\n",
              "├──────────────────────────────────────┼─────────────────────────────┼─────────────────┤\n",
              "│ dense (<span style=\"color: #0087ff; text-decoration-color: #0087ff\">Dense</span>)                        │ (<span style=\"color: #00d7ff; text-decoration-color: #00d7ff\">None</span>, <span style=\"color: #00af00; text-decoration-color: #00af00\">100</span>)                 │         <span style=\"color: #00af00; text-decoration-color: #00af00\">162,100</span> │\n",
              "├──────────────────────────────────────┼─────────────────────────────┼─────────────────┤\n",
              "│ dense_1 (<span style=\"color: #0087ff; text-decoration-color: #0087ff\">Dense</span>)                      │ (<span style=\"color: #00d7ff; text-decoration-color: #00d7ff\">None</span>, <span style=\"color: #00af00; text-decoration-color: #00af00\">10</span>)                  │           <span style=\"color: #00af00; text-decoration-color: #00af00\">1,010</span> │\n",
              "└──────────────────────────────────────┴─────────────────────────────┴─────────────────┘\n",
              "</pre>\n"
            ]
          },
          "metadata": {}
        },
        {
          "output_type": "display_data",
          "data": {
            "text/plain": [
              "\u001b[1m Total params: \u001b[0m\u001b[38;5;34m166,500\u001b[0m (650.39 KB)\n"
            ],
            "text/html": [
              "<pre style=\"white-space:pre;overflow-x:auto;line-height:normal;font-family:Menlo,'DejaVu Sans Mono',consolas,'Courier New',monospace\"><span style=\"font-weight: bold\"> Total params: </span><span style=\"color: #00af00; text-decoration-color: #00af00\">166,500</span> (650.39 KB)\n",
              "</pre>\n"
            ]
          },
          "metadata": {}
        },
        {
          "output_type": "display_data",
          "data": {
            "text/plain": [
              "\u001b[1m Trainable params: \u001b[0m\u001b[38;5;34m166,500\u001b[0m (650.39 KB)\n"
            ],
            "text/html": [
              "<pre style=\"white-space:pre;overflow-x:auto;line-height:normal;font-family:Menlo,'DejaVu Sans Mono',consolas,'Courier New',monospace\"><span style=\"font-weight: bold\"> Trainable params: </span><span style=\"color: #00af00; text-decoration-color: #00af00\">166,500</span> (650.39 KB)\n",
              "</pre>\n"
            ]
          },
          "metadata": {}
        },
        {
          "output_type": "display_data",
          "data": {
            "text/plain": [
              "\u001b[1m Non-trainable params: \u001b[0m\u001b[38;5;34m0\u001b[0m (0.00 B)\n"
            ],
            "text/html": [
              "<pre style=\"white-space:pre;overflow-x:auto;line-height:normal;font-family:Menlo,'DejaVu Sans Mono',consolas,'Courier New',monospace\"><span style=\"font-weight: bold\"> Non-trainable params: </span><span style=\"color: #00af00; text-decoration-color: #00af00\">0</span> (0.00 B)\n",
              "</pre>\n"
            ]
          },
          "metadata": {}
        }
      ]
    },
    {
      "cell_type": "code",
      "source": [
        "models_2c.compile(loss='categorical_crossentropy',\n",
        "              optimizer=RMSprop(),\n",
        "              metrics=['acc'])\n",
        "\n",
        "history_2c = models_2c.fit(kx_train, train_label_new, validation_data=(kx_test,test_label_new),\n",
        "                    batch_size=50, epochs=10)"
      ],
      "metadata": {
        "colab": {
          "base_uri": "https://localhost:8080/"
        },
        "id": "v27yPppmHhF-",
        "outputId": "278ee1f7-4b8a-48b2-8fc8-5663e3827134"
      },
      "execution_count": 47,
      "outputs": [
        {
          "output_type": "stream",
          "name": "stdout",
          "text": [
            "Epoch 1/10\n",
            "\u001b[1m1200/1200\u001b[0m \u001b[32m━━━━━━━━━━━━━━━━━━━━\u001b[0m\u001b[37m\u001b[0m \u001b[1m35s\u001b[0m 28ms/step - acc: 0.8828 - loss: 0.3746 - val_acc: 0.9784 - val_loss: 0.0628\n",
            "Epoch 2/10\n",
            "\u001b[1m1200/1200\u001b[0m \u001b[32m━━━━━━━━━━━━━━━━━━━━\u001b[0m\u001b[37m\u001b[0m \u001b[1m41s\u001b[0m 34ms/step - acc: 0.9719 - loss: 0.0919 - val_acc: 0.9843 - val_loss: 0.0484\n",
            "Epoch 3/10\n",
            "\u001b[1m1200/1200\u001b[0m \u001b[32m━━━━━━━━━━━━━━━━━━━━\u001b[0m\u001b[37m\u001b[0m \u001b[1m33s\u001b[0m 27ms/step - acc: 0.9791 - loss: 0.0659 - val_acc: 0.9892 - val_loss: 0.0333\n",
            "Epoch 4/10\n",
            "\u001b[1m1200/1200\u001b[0m \u001b[32m━━━━━━━━━━━━━━━━━━━━\u001b[0m\u001b[37m\u001b[0m \u001b[1m33s\u001b[0m 28ms/step - acc: 0.9830 - loss: 0.0550 - val_acc: 0.9898 - val_loss: 0.0335\n",
            "Epoch 5/10\n",
            "\u001b[1m1200/1200\u001b[0m \u001b[32m━━━━━━━━━━━━━━━━━━━━\u001b[0m\u001b[37m\u001b[0m \u001b[1m52s\u001b[0m 37ms/step - acc: 0.9859 - loss: 0.0461 - val_acc: 0.9914 - val_loss: 0.0272\n",
            "Epoch 6/10\n",
            "\u001b[1m1200/1200\u001b[0m \u001b[32m━━━━━━━━━━━━━━━━━━━━\u001b[0m\u001b[37m\u001b[0m \u001b[1m67s\u001b[0m 24ms/step - acc: 0.9872 - loss: 0.0412 - val_acc: 0.9911 - val_loss: 0.0287\n",
            "Epoch 7/10\n",
            "\u001b[1m1200/1200\u001b[0m \u001b[32m━━━━━━━━━━━━━━━━━━━━\u001b[0m\u001b[37m\u001b[0m \u001b[1m43s\u001b[0m 26ms/step - acc: 0.9894 - loss: 0.0348 - val_acc: 0.9902 - val_loss: 0.0302\n",
            "Epoch 8/10\n",
            "\u001b[1m1200/1200\u001b[0m \u001b[32m━━━━━━━━━━━━━━━━━━━━\u001b[0m\u001b[37m\u001b[0m \u001b[1m40s\u001b[0m 25ms/step - acc: 0.9900 - loss: 0.0343 - val_acc: 0.9913 - val_loss: 0.0270\n",
            "Epoch 9/10\n",
            "\u001b[1m1200/1200\u001b[0m \u001b[32m━━━━━━━━━━━━━━━━━━━━\u001b[0m\u001b[37m\u001b[0m \u001b[1m31s\u001b[0m 26ms/step - acc: 0.9909 - loss: 0.0300 - val_acc: 0.9922 - val_loss: 0.0265\n",
            "Epoch 10/10\n",
            "\u001b[1m1200/1200\u001b[0m \u001b[32m━━━━━━━━━━━━━━━━━━━━\u001b[0m\u001b[37m\u001b[0m \u001b[1m40s\u001b[0m 25ms/step - acc: 0.9904 - loss: 0.0316 - val_acc: 0.9883 - val_loss: 0.0407\n"
          ]
        }
      ]
    },
    {
      "cell_type": "markdown",
      "source": [
        "There is a best model configuration in the class notes. Not trying that. Please refer to class notes\n"
      ],
      "metadata": {
        "id": "03fsJ1gnH-Sc"
      }
    },
    {
      "cell_type": "code",
      "source": [
        "preds = models_2c.predict(kx_test)\n",
        "#This is to choose the digit with maximum probability from the 10 predicted classes\n",
        "#These predictions are in the form of probabilities for each of the 10 possible digits\n",
        "#(0-9).\n"
      ],
      "metadata": {
        "colab": {
          "base_uri": "https://localhost:8080/"
        },
        "id": "Setyja38ICIm",
        "outputId": "5b408f26-1a2d-432d-b7ce-bb67ace36f8a"
      },
      "execution_count": 48,
      "outputs": [
        {
          "output_type": "stream",
          "name": "stdout",
          "text": [
            "\u001b[1m313/313\u001b[0m \u001b[32m━━━━━━━━━━━━━━━━━━━━\u001b[0m\u001b[37m\u001b[0m \u001b[1m2s\u001b[0m 7ms/step\n"
          ]
        }
      ]
    },
    {
      "cell_type": "code",
      "source": [
        "print(preds.shape)\n",
        "print(preds[0])\n",
        "print(np.argmax(preds[0]))\n",
        "print(test_label_new.shape)\n",
        "print(test_label_new[0])\n",
        "print(test_label.shape)\n",
        "print(test_label[0])"
      ],
      "metadata": {
        "colab": {
          "base_uri": "https://localhost:8080/"
        },
        "id": "F5Qgvw64JeFr",
        "outputId": "70a61986-0ff3-4349-af99-2282827bc691"
      },
      "execution_count": 54,
      "outputs": [
        {
          "output_type": "stream",
          "name": "stdout",
          "text": [
            "(10000, 10)\n",
            "[9.7024984e-12 7.4070340e-13 1.1882145e-08 2.6028790e-08 7.5771454e-14\n",
            " 4.4228138e-10 2.8550390e-17 9.9999911e-01 1.6180031e-11 8.6794205e-07]\n",
            "7\n",
            "(10000, 10)\n",
            "[0. 0. 0. 0. 0. 0. 0. 1. 0. 0.]\n",
            "(10000,)\n",
            "7\n"
          ]
        }
      ]
    },
    {
      "cell_type": "code",
      "source": [
        "pred_digits = np.argmax(preds, axis=1)\n",
        "pred_digits.shape\n",
        "#This function from the NumPy library is used to find the index of the maximum value within an\n",
        "# array. In this case, it's used to determine the digit with the highest predicted probability.\n"
      ],
      "metadata": {
        "colab": {
          "base_uri": "https://localhost:8080/"
        },
        "id": "4dh7HGKhJZ6R",
        "outputId": "6fca072e-1c97-400a-f20c-944a4d91e920"
      },
      "execution_count": 59,
      "outputs": [
        {
          "output_type": "execute_result",
          "data": {
            "text/plain": [
              "(10000,)"
            ]
          },
          "metadata": {},
          "execution_count": 59
        }
      ]
    },
    {
      "cell_type": "code",
      "source": [
        "test_label_new"
      ],
      "metadata": {
        "colab": {
          "base_uri": "https://localhost:8080/"
        },
        "id": "sGGwD2h-Swr3",
        "outputId": "64dca573-9892-453a-c2bc-ad259b55fde2"
      },
      "execution_count": 60,
      "outputs": [
        {
          "output_type": "execute_result",
          "data": {
            "text/plain": [
              "array([[0., 0., 0., ..., 1., 0., 0.],\n",
              "       [0., 0., 1., ..., 0., 0., 0.],\n",
              "       [0., 1., 0., ..., 0., 0., 0.],\n",
              "       ...,\n",
              "       [0., 0., 0., ..., 0., 0., 0.],\n",
              "       [0., 0., 0., ..., 0., 0., 0.],\n",
              "       [0., 0., 0., ..., 0., 0., 0.]])"
            ]
          },
          "metadata": {},
          "execution_count": 60
        }
      ]
    },
    {
      "cell_type": "code",
      "source": [
        "y_digits = np.argmax(test_label_new, axis=1)\n",
        "#remember, test_label_new is in one-hot encoded form so the np.argmax function will retun\n",
        "#the index of 1 which is the digt between 0 and 1\n",
        "print(pred_digits)\n",
        "print(y_digits)"
      ],
      "metadata": {
        "colab": {
          "base_uri": "https://localhost:8080/"
        },
        "id": "tEx-tLMbPT__",
        "outputId": "1fddb3ad-ae8b-4a11-d652-3d51c4090407"
      },
      "execution_count": 62,
      "outputs": [
        {
          "output_type": "stream",
          "name": "stdout",
          "text": [
            "[7 2 1 ... 4 5 6]\n",
            "[7 2 1 ... 4 5 6]\n"
          ]
        }
      ]
    },
    {
      "cell_type": "code",
      "source": [
        "test_data.shape"
      ],
      "metadata": {
        "colab": {
          "base_uri": "https://localhost:8080/"
        },
        "id": "-C3m1dDlT6bQ",
        "outputId": "f08443b9-ffed-49a0-d28b-d3715a3993b0"
      },
      "execution_count": 64,
      "outputs": [
        {
          "output_type": "execute_result",
          "data": {
            "text/plain": [
              "(10000, 28, 28)"
            ]
          },
          "metadata": {},
          "execution_count": 64
        }
      ]
    },
    {
      "cell_type": "code",
      "source": [
        "mispred_img = test_data[pred_digits!=y_digits]\n",
        "#test_data is the array of 10000 28*28 images. The condition 'pred_digits!=y_digits' is applied to each element in\n",
        "#the test_data array and only those elements for which the condition returns true is selected.\n",
        "#Above code effectively selects only the pixel array for the misclassified digits\n",
        "mispred_true = y_digits[pred_digits!=y_digits]\n",
        "#Same thing is done on the y_digits array. Only misclassified y digits are selected.Here we are\n",
        "#dealinng with actual digits instead of array of pixel values\n",
        "mispred_pred = pred_digits[pred_digits!=y_digits]\n",
        "#Same thing is done on the pred_digits array. Only misclassified predictions are selected.\n",
        "#Here we are dealinng with predicted digits\n",
        "print ('number of misclassified digits:', mispred_img.shape[0])"
      ],
      "metadata": {
        "colab": {
          "base_uri": "https://localhost:8080/"
        },
        "id": "Jjvc9oYfTdOQ",
        "outputId": "31ff6de4-db14-4edd-a26d-b02148962a07"
      },
      "execution_count": 68,
      "outputs": [
        {
          "output_type": "stream",
          "name": "stdout",
          "text": [
            "number of misclassified digits: 117\n"
          ]
        }
      ]
    },
    {
      "cell_type": "code",
      "source": [
        "import pandas as pd\n",
        "comparedf = pd.DataFrame({'true': mispred_true, 'pred': mispred_pred})"
      ],
      "metadata": {
        "id": "vl2pmqL7VdwT"
      },
      "execution_count": 70,
      "outputs": []
    },
    {
      "cell_type": "code",
      "source": [
        "comparedf"
      ],
      "metadata": {
        "colab": {
          "base_uri": "https://localhost:8080/",
          "height": 424
        },
        "id": "WvF7uFJSXHuT",
        "outputId": "4135b210-3c2a-4937-a08f-a90d245577cb"
      },
      "execution_count": 71,
      "outputs": [
        {
          "output_type": "execute_result",
          "data": {
            "text/plain": [
              "     true  pred\n",
              "0       9     5\n",
              "1       4     9\n",
              "2       4     2\n",
              "3       2     7\n",
              "4       6     0\n",
              "..    ...   ...\n",
              "112     8     5\n",
              "113     4     9\n",
              "114     2     7\n",
              "115     2     7\n",
              "116     4     9\n",
              "\n",
              "[117 rows x 2 columns]"
            ],
            "text/html": [
              "\n",
              "  <div id=\"df-c13ddf8c-5659-49e6-b9ce-3d9a0a4b395b\" class=\"colab-df-container\">\n",
              "    <div>\n",
              "<style scoped>\n",
              "    .dataframe tbody tr th:only-of-type {\n",
              "        vertical-align: middle;\n",
              "    }\n",
              "\n",
              "    .dataframe tbody tr th {\n",
              "        vertical-align: top;\n",
              "    }\n",
              "\n",
              "    .dataframe thead th {\n",
              "        text-align: right;\n",
              "    }\n",
              "</style>\n",
              "<table border=\"1\" class=\"dataframe\">\n",
              "  <thead>\n",
              "    <tr style=\"text-align: right;\">\n",
              "      <th></th>\n",
              "      <th>true</th>\n",
              "      <th>pred</th>\n",
              "    </tr>\n",
              "  </thead>\n",
              "  <tbody>\n",
              "    <tr>\n",
              "      <th>0</th>\n",
              "      <td>9</td>\n",
              "      <td>5</td>\n",
              "    </tr>\n",
              "    <tr>\n",
              "      <th>1</th>\n",
              "      <td>4</td>\n",
              "      <td>9</td>\n",
              "    </tr>\n",
              "    <tr>\n",
              "      <th>2</th>\n",
              "      <td>4</td>\n",
              "      <td>2</td>\n",
              "    </tr>\n",
              "    <tr>\n",
              "      <th>3</th>\n",
              "      <td>2</td>\n",
              "      <td>7</td>\n",
              "    </tr>\n",
              "    <tr>\n",
              "      <th>4</th>\n",
              "      <td>6</td>\n",
              "      <td>0</td>\n",
              "    </tr>\n",
              "    <tr>\n",
              "      <th>...</th>\n",
              "      <td>...</td>\n",
              "      <td>...</td>\n",
              "    </tr>\n",
              "    <tr>\n",
              "      <th>112</th>\n",
              "      <td>8</td>\n",
              "      <td>5</td>\n",
              "    </tr>\n",
              "    <tr>\n",
              "      <th>113</th>\n",
              "      <td>4</td>\n",
              "      <td>9</td>\n",
              "    </tr>\n",
              "    <tr>\n",
              "      <th>114</th>\n",
              "      <td>2</td>\n",
              "      <td>7</td>\n",
              "    </tr>\n",
              "    <tr>\n",
              "      <th>115</th>\n",
              "      <td>2</td>\n",
              "      <td>7</td>\n",
              "    </tr>\n",
              "    <tr>\n",
              "      <th>116</th>\n",
              "      <td>4</td>\n",
              "      <td>9</td>\n",
              "    </tr>\n",
              "  </tbody>\n",
              "</table>\n",
              "<p>117 rows × 2 columns</p>\n",
              "</div>\n",
              "    <div class=\"colab-df-buttons\">\n",
              "\n",
              "  <div class=\"colab-df-container\">\n",
              "    <button class=\"colab-df-convert\" onclick=\"convertToInteractive('df-c13ddf8c-5659-49e6-b9ce-3d9a0a4b395b')\"\n",
              "            title=\"Convert this dataframe to an interactive table.\"\n",
              "            style=\"display:none;\">\n",
              "\n",
              "  <svg xmlns=\"http://www.w3.org/2000/svg\" height=\"24px\" viewBox=\"0 -960 960 960\">\n",
              "    <path d=\"M120-120v-720h720v720H120Zm60-500h600v-160H180v160Zm220 220h160v-160H400v160Zm0 220h160v-160H400v160ZM180-400h160v-160H180v160Zm440 0h160v-160H620v160ZM180-180h160v-160H180v160Zm440 0h160v-160H620v160Z\"/>\n",
              "  </svg>\n",
              "    </button>\n",
              "\n",
              "  <style>\n",
              "    .colab-df-container {\n",
              "      display:flex;\n",
              "      gap: 12px;\n",
              "    }\n",
              "\n",
              "    .colab-df-convert {\n",
              "      background-color: #E8F0FE;\n",
              "      border: none;\n",
              "      border-radius: 50%;\n",
              "      cursor: pointer;\n",
              "      display: none;\n",
              "      fill: #1967D2;\n",
              "      height: 32px;\n",
              "      padding: 0 0 0 0;\n",
              "      width: 32px;\n",
              "    }\n",
              "\n",
              "    .colab-df-convert:hover {\n",
              "      background-color: #E2EBFA;\n",
              "      box-shadow: 0px 1px 2px rgba(60, 64, 67, 0.3), 0px 1px 3px 1px rgba(60, 64, 67, 0.15);\n",
              "      fill: #174EA6;\n",
              "    }\n",
              "\n",
              "    .colab-df-buttons div {\n",
              "      margin-bottom: 4px;\n",
              "    }\n",
              "\n",
              "    [theme=dark] .colab-df-convert {\n",
              "      background-color: #3B4455;\n",
              "      fill: #D2E3FC;\n",
              "    }\n",
              "\n",
              "    [theme=dark] .colab-df-convert:hover {\n",
              "      background-color: #434B5C;\n",
              "      box-shadow: 0px 1px 3px 1px rgba(0, 0, 0, 0.15);\n",
              "      filter: drop-shadow(0px 1px 2px rgba(0, 0, 0, 0.3));\n",
              "      fill: #FFFFFF;\n",
              "    }\n",
              "  </style>\n",
              "\n",
              "    <script>\n",
              "      const buttonEl =\n",
              "        document.querySelector('#df-c13ddf8c-5659-49e6-b9ce-3d9a0a4b395b button.colab-df-convert');\n",
              "      buttonEl.style.display =\n",
              "        google.colab.kernel.accessAllowed ? 'block' : 'none';\n",
              "\n",
              "      async function convertToInteractive(key) {\n",
              "        const element = document.querySelector('#df-c13ddf8c-5659-49e6-b9ce-3d9a0a4b395b');\n",
              "        const dataTable =\n",
              "          await google.colab.kernel.invokeFunction('convertToInteractive',\n",
              "                                                    [key], {});\n",
              "        if (!dataTable) return;\n",
              "\n",
              "        const docLinkHtml = 'Like what you see? Visit the ' +\n",
              "          '<a target=\"_blank\" href=https://colab.research.google.com/notebooks/data_table.ipynb>data table notebook</a>'\n",
              "          + ' to learn more about interactive tables.';\n",
              "        element.innerHTML = '';\n",
              "        dataTable['output_type'] = 'display_data';\n",
              "        await google.colab.output.renderOutput(dataTable, element);\n",
              "        const docLink = document.createElement('div');\n",
              "        docLink.innerHTML = docLinkHtml;\n",
              "        element.appendChild(docLink);\n",
              "      }\n",
              "    </script>\n",
              "  </div>\n",
              "\n",
              "\n",
              "<div id=\"df-cb2b58da-f54b-4c1e-9cfd-5b2418411518\">\n",
              "  <button class=\"colab-df-quickchart\" onclick=\"quickchart('df-cb2b58da-f54b-4c1e-9cfd-5b2418411518')\"\n",
              "            title=\"Suggest charts\"\n",
              "            style=\"display:none;\">\n",
              "\n",
              "<svg xmlns=\"http://www.w3.org/2000/svg\" height=\"24px\"viewBox=\"0 0 24 24\"\n",
              "     width=\"24px\">\n",
              "    <g>\n",
              "        <path d=\"M19 3H5c-1.1 0-2 .9-2 2v14c0 1.1.9 2 2 2h14c1.1 0 2-.9 2-2V5c0-1.1-.9-2-2-2zM9 17H7v-7h2v7zm4 0h-2V7h2v10zm4 0h-2v-4h2v4z\"/>\n",
              "    </g>\n",
              "</svg>\n",
              "  </button>\n",
              "\n",
              "<style>\n",
              "  .colab-df-quickchart {\n",
              "      --bg-color: #E8F0FE;\n",
              "      --fill-color: #1967D2;\n",
              "      --hover-bg-color: #E2EBFA;\n",
              "      --hover-fill-color: #174EA6;\n",
              "      --disabled-fill-color: #AAA;\n",
              "      --disabled-bg-color: #DDD;\n",
              "  }\n",
              "\n",
              "  [theme=dark] .colab-df-quickchart {\n",
              "      --bg-color: #3B4455;\n",
              "      --fill-color: #D2E3FC;\n",
              "      --hover-bg-color: #434B5C;\n",
              "      --hover-fill-color: #FFFFFF;\n",
              "      --disabled-bg-color: #3B4455;\n",
              "      --disabled-fill-color: #666;\n",
              "  }\n",
              "\n",
              "  .colab-df-quickchart {\n",
              "    background-color: var(--bg-color);\n",
              "    border: none;\n",
              "    border-radius: 50%;\n",
              "    cursor: pointer;\n",
              "    display: none;\n",
              "    fill: var(--fill-color);\n",
              "    height: 32px;\n",
              "    padding: 0;\n",
              "    width: 32px;\n",
              "  }\n",
              "\n",
              "  .colab-df-quickchart:hover {\n",
              "    background-color: var(--hover-bg-color);\n",
              "    box-shadow: 0 1px 2px rgba(60, 64, 67, 0.3), 0 1px 3px 1px rgba(60, 64, 67, 0.15);\n",
              "    fill: var(--button-hover-fill-color);\n",
              "  }\n",
              "\n",
              "  .colab-df-quickchart-complete:disabled,\n",
              "  .colab-df-quickchart-complete:disabled:hover {\n",
              "    background-color: var(--disabled-bg-color);\n",
              "    fill: var(--disabled-fill-color);\n",
              "    box-shadow: none;\n",
              "  }\n",
              "\n",
              "  .colab-df-spinner {\n",
              "    border: 2px solid var(--fill-color);\n",
              "    border-color: transparent;\n",
              "    border-bottom-color: var(--fill-color);\n",
              "    animation:\n",
              "      spin 1s steps(1) infinite;\n",
              "  }\n",
              "\n",
              "  @keyframes spin {\n",
              "    0% {\n",
              "      border-color: transparent;\n",
              "      border-bottom-color: var(--fill-color);\n",
              "      border-left-color: var(--fill-color);\n",
              "    }\n",
              "    20% {\n",
              "      border-color: transparent;\n",
              "      border-left-color: var(--fill-color);\n",
              "      border-top-color: var(--fill-color);\n",
              "    }\n",
              "    30% {\n",
              "      border-color: transparent;\n",
              "      border-left-color: var(--fill-color);\n",
              "      border-top-color: var(--fill-color);\n",
              "      border-right-color: var(--fill-color);\n",
              "    }\n",
              "    40% {\n",
              "      border-color: transparent;\n",
              "      border-right-color: var(--fill-color);\n",
              "      border-top-color: var(--fill-color);\n",
              "    }\n",
              "    60% {\n",
              "      border-color: transparent;\n",
              "      border-right-color: var(--fill-color);\n",
              "    }\n",
              "    80% {\n",
              "      border-color: transparent;\n",
              "      border-right-color: var(--fill-color);\n",
              "      border-bottom-color: var(--fill-color);\n",
              "    }\n",
              "    90% {\n",
              "      border-color: transparent;\n",
              "      border-bottom-color: var(--fill-color);\n",
              "    }\n",
              "  }\n",
              "</style>\n",
              "\n",
              "  <script>\n",
              "    async function quickchart(key) {\n",
              "      const quickchartButtonEl =\n",
              "        document.querySelector('#' + key + ' button');\n",
              "      quickchartButtonEl.disabled = true;  // To prevent multiple clicks.\n",
              "      quickchartButtonEl.classList.add('colab-df-spinner');\n",
              "      try {\n",
              "        const charts = await google.colab.kernel.invokeFunction(\n",
              "            'suggestCharts', [key], {});\n",
              "      } catch (error) {\n",
              "        console.error('Error during call to suggestCharts:', error);\n",
              "      }\n",
              "      quickchartButtonEl.classList.remove('colab-df-spinner');\n",
              "      quickchartButtonEl.classList.add('colab-df-quickchart-complete');\n",
              "    }\n",
              "    (() => {\n",
              "      let quickchartButtonEl =\n",
              "        document.querySelector('#df-cb2b58da-f54b-4c1e-9cfd-5b2418411518 button');\n",
              "      quickchartButtonEl.style.display =\n",
              "        google.colab.kernel.accessAllowed ? 'block' : 'none';\n",
              "    })();\n",
              "  </script>\n",
              "</div>\n",
              "\n",
              "  <div id=\"id_87409f0c-e1af-487a-b127-a632b0dcb9cb\">\n",
              "    <style>\n",
              "      .colab-df-generate {\n",
              "        background-color: #E8F0FE;\n",
              "        border: none;\n",
              "        border-radius: 50%;\n",
              "        cursor: pointer;\n",
              "        display: none;\n",
              "        fill: #1967D2;\n",
              "        height: 32px;\n",
              "        padding: 0 0 0 0;\n",
              "        width: 32px;\n",
              "      }\n",
              "\n",
              "      .colab-df-generate:hover {\n",
              "        background-color: #E2EBFA;\n",
              "        box-shadow: 0px 1px 2px rgba(60, 64, 67, 0.3), 0px 1px 3px 1px rgba(60, 64, 67, 0.15);\n",
              "        fill: #174EA6;\n",
              "      }\n",
              "\n",
              "      [theme=dark] .colab-df-generate {\n",
              "        background-color: #3B4455;\n",
              "        fill: #D2E3FC;\n",
              "      }\n",
              "\n",
              "      [theme=dark] .colab-df-generate:hover {\n",
              "        background-color: #434B5C;\n",
              "        box-shadow: 0px 1px 3px 1px rgba(0, 0, 0, 0.15);\n",
              "        filter: drop-shadow(0px 1px 2px rgba(0, 0, 0, 0.3));\n",
              "        fill: #FFFFFF;\n",
              "      }\n",
              "    </style>\n",
              "    <button class=\"colab-df-generate\" onclick=\"generateWithVariable('comparedf')\"\n",
              "            title=\"Generate code using this dataframe.\"\n",
              "            style=\"display:none;\">\n",
              "\n",
              "  <svg xmlns=\"http://www.w3.org/2000/svg\" height=\"24px\"viewBox=\"0 0 24 24\"\n",
              "       width=\"24px\">\n",
              "    <path d=\"M7,19H8.4L18.45,9,17,7.55,7,17.6ZM5,21V16.75L18.45,3.32a2,2,0,0,1,2.83,0l1.4,1.43a1.91,1.91,0,0,1,.58,1.4,1.91,1.91,0,0,1-.58,1.4L9.25,21ZM18.45,9,17,7.55Zm-12,3A5.31,5.31,0,0,0,4.9,8.1,5.31,5.31,0,0,0,1,6.5,5.31,5.31,0,0,0,4.9,4.9,5.31,5.31,0,0,0,6.5,1,5.31,5.31,0,0,0,8.1,4.9,5.31,5.31,0,0,0,12,6.5,5.46,5.46,0,0,0,6.5,12Z\"/>\n",
              "  </svg>\n",
              "    </button>\n",
              "    <script>\n",
              "      (() => {\n",
              "      const buttonEl =\n",
              "        document.querySelector('#id_87409f0c-e1af-487a-b127-a632b0dcb9cb button.colab-df-generate');\n",
              "      buttonEl.style.display =\n",
              "        google.colab.kernel.accessAllowed ? 'block' : 'none';\n",
              "\n",
              "      buttonEl.onclick = () => {\n",
              "        google.colab.notebook.generateWithVariable('comparedf');\n",
              "      }\n",
              "      })();\n",
              "    </script>\n",
              "  </div>\n",
              "\n",
              "    </div>\n",
              "  </div>\n"
            ],
            "application/vnd.google.colaboratory.intrinsic+json": {
              "type": "dataframe",
              "variable_name": "comparedf",
              "summary": "{\n  \"name\": \"comparedf\",\n  \"rows\": 117,\n  \"fields\": [\n    {\n      \"column\": \"true\",\n      \"properties\": {\n        \"dtype\": \"number\",\n        \"std\": 2,\n        \"min\": 0,\n        \"max\": 9,\n        \"num_unique_values\": 10,\n        \"samples\": [\n          0,\n          4,\n          8\n        ],\n        \"semantic_type\": \"\",\n        \"description\": \"\"\n      }\n    },\n    {\n      \"column\": \"pred\",\n      \"properties\": {\n        \"dtype\": \"number\",\n        \"std\": 2,\n        \"min\": 0,\n        \"max\": 9,\n        \"num_unique_values\": 10,\n        \"samples\": [\n          1,\n          9,\n          3\n        ],\n        \"semantic_type\": \"\",\n        \"description\": \"\"\n      }\n    }\n  ]\n}"
            }
          },
          "metadata": {},
          "execution_count": 71
        }
      ]
    },
    {
      "cell_type": "code",
      "source": [
        "#prompt: plot data in mispred_img as images and show the actual labels from mispred_true\n",
        "#and predicted labels from mispred_pred. Adjust image sizes so that labels can be read\n",
        "\n",
        "import matplotlib.pyplot as plt\n",
        "\n",
        "# Assuming mispred_img, mispred_true, and mispred_pred are defined as in the provided code\n",
        "\n",
        "# Function to display misclassified images with labels\n",
        "def plot_misclassified_images(images, true_labels, predicted_labels):\n",
        "    fig, axes = plt.subplots(nrows=5, ncols=5, figsize=(10, 10)) # Adjust figsize for label readability\n",
        "    for i, ax in enumerate(axes.flat):\n",
        "        if i < len(images):\n",
        "            ax.imshow(images[i], cmap='gray')\n",
        "            ax.set_title(f\"True: {true_labels[i]}\\nPred: {predicted_labels[i]}\", fontsize=10) # Adjust fontsize\n",
        "            ax.axis('off')\n",
        "        else:\n",
        "            ax.axis('off') # Hide empty subplots\n",
        "    plt.tight_layout(rect=[0, 0, 1, 0.95]) # Adjust layout to prevent label overlap\n",
        "    plt.show()\n",
        "\n",
        "\n",
        "plot_misclassified_images(mispred_img, mispred_true, mispred_pred)\n"
      ],
      "metadata": {
        "colab": {
          "base_uri": "https://localhost:8080/",
          "height": 765
        },
        "id": "BgBF4NdLXPz-",
        "outputId": "dd06108a-315d-4fcc-fc85-5188ae2a28fc"
      },
      "execution_count": 73,
      "outputs": [
        {
          "output_type": "display_data",
          "data": {
            "text/plain": [
              "<Figure size 1000x1000 with 25 Axes>"
            ],
            "image/png": "[encoded data removed]"
          },
          "metadata": {}
        }
      ]
    },
    {
      "cell_type": "code",
      "source": [
        " pip install Pillow"
      ],
      "metadata": {
        "colab": {
          "base_uri": "https://localhost:8080/"
        },
        "id": "tulKcLi8ZXnN",
        "outputId": "43924e53-df63-433f-cc39-c34073e8e307"
      },
      "execution_count": 74,
      "outputs": [
        {
          "output_type": "stream",
          "name": "stdout",
          "text": [
            "Requirement already satisfied: Pillow in /usr/local/lib/python3.11/dist-packages (11.1.0)\n"
          ]
        }
      ]
    },
    {
      "cell_type": "code",
      "source": [
        "from PIL import Image"
      ],
      "metadata": {
        "id": "c_r4tasZZ8Xj"
      },
      "execution_count": 78,
      "outputs": []
    },
    {
      "cell_type": "code",
      "source": [
        " from google.colab import drive\n",
        " drive.mount('/content/drive')"
      ],
      "metadata": {
        "colab": {
          "base_uri": "https://localhost:8080/"
        },
        "id": "77nYySdwatcg",
        "outputId": "107c02be-332b-41af-f475-a83d31ca1aa2"
      },
      "execution_count": 81,
      "outputs": [
        {
          "output_type": "stream",
          "name": "stdout",
          "text": [
            "Mounted at /content/drive\n"
          ]
        }
      ]
    },
    {
      "cell_type": "code",
      "source": [
        "myimage = Image.open(\"/content/drive/My Drive/Colab Notebooks/my_image.jpg\")"
      ],
      "metadata": {
        "id": "5zYf-JK3Zb0R"
      },
      "execution_count": 85,
      "outputs": []
    },
    {
      "cell_type": "code",
      "source": [
        "# prompt: show the size of myimage\n",
        "myimage.size\n"
      ],
      "metadata": {
        "colab": {
          "base_uri": "https://localhost:8080/"
        },
        "id": "x8IkPMGFbvvl",
        "outputId": "63c7fa96-2e4c-41b4-c238-934c07d7c109"
      },
      "execution_count": 86,
      "outputs": [
        {
          "output_type": "execute_result",
          "data": {
            "text/plain": [
              "(5712, 4284)"
            ]
          },
          "metadata": {},
          "execution_count": 86
        }
      ]
    },
    {
      "cell_type": "code",
      "source": [
        "# prompt 1: resize image to 28*28\n",
        "# prompt 2: change the orientation of the resized image by rotating 90 degrees clockwise\n",
        "\n",
        "def resize_image(image_path, new_size=(28, 28)):\n",
        "  \"\"\"Resizes an image to the specified dimensions.\n",
        "\n",
        "  Args:\n",
        "      image_path: Path to the image file.\n",
        "      new_size: Tuple (width, height) of the desired size.\n",
        "\n",
        "  Returns:\n",
        "      A PIL Image object with the new size, or None if an error occurs.\n",
        "  \"\"\"\n",
        "  try:\n",
        "    img = Image.open(image_path)\n",
        "    img = img.resize(new_size)\n",
        "    img = img.rotate(-90)  # Rotate 90 degrees clockwise\n",
        "    return img\n",
        "  except FileNotFoundError:\n",
        "    print(f\"Error: Image file not found at {image_path}\")\n",
        "    return None\n",
        "  except Exception as e:\n",
        "    print(f\"An error occurred: {e}\")\n",
        "    return None\n",
        "\n",
        "# Example usage:\n",
        "resized_image = resize_image(\"/content/drive/My Drive/Colab Notebooks/my_image.jpg\")\n",
        "\n"
      ],
      "metadata": {
        "id": "AwdpnB9Ab2Pt"
      },
      "execution_count": 94,
      "outputs": []
    },
    {
      "cell_type": "code",
      "source": [
        "resized_image"
      ],
      "metadata": {
        "colab": {
          "base_uri": "https://localhost:8080/",
          "height": 45
        },
        "id": "WLMUyWnJcWVu",
        "outputId": "793a53f8-38de-4fba-e8ba-300cee880908"
      },
      "execution_count": 95,
      "outputs": [
        {
          "output_type": "execute_result",
          "data": {
            "text/plain": [
              "<PIL.Image.Image image mode=RGB size=28x28>"
            ],
            "image/png": "[encoded data removed]",
            "image/jpeg": "[encoded data removed]"
          },
          "metadata": {},
          "execution_count": 95
        }
      ]
    },
    {
      "cell_type": "code",
      "source": [
        "# prompt: convert the image into gray scale\n",
        "\n",
        "# Convert the image to grayscale\n",
        "if resized_image:\n",
        "    gray_image = resized_image.convert(\"L\")\n",
        "    gray_image\n"
      ],
      "metadata": {
        "id": "FW6r1mcSdFCP"
      },
      "execution_count": 96,
      "outputs": []
    },
    {
      "cell_type": "code",
      "source": [
        "gray_image"
      ],
      "metadata": {
        "colab": {
          "base_uri": "https://localhost:8080/",
          "height": 45
        },
        "id": "lW4YT0uTdPg_",
        "outputId": "fb0a5b96-08ce-4312-9029-def8f2940f7d"
      },
      "execution_count": 97,
      "outputs": [
        {
          "output_type": "execute_result",
          "data": {
            "text/plain": [
              "<PIL.Image.Image image mode=L size=28x28>"
            ],
            "image/png": "[encoded data removed]",
            "image/jpeg": "[encoded data removed]"
          },
          "metadata": {},
          "execution_count": 97
        }
      ]
    },
    {
      "cell_type": "code",
      "source": [
        "# prompt: convert the gray_image to a numpy array\n",
        "\n",
        "# Convert the PIL Image to a NumPy array\n",
        "gray_image_np = np.array(gray_image)\n",
        "print(gray_image_np)\n",
        "gray_image_np.shape\n"
      ],
      "metadata": {
        "colab": {
          "base_uri": "https://localhost:8080/"
        },
        "id": "gXBO6DHkdbDa",
        "outputId": "0d1fb218-a2cd-44a8-ea83-9d4119255db5"
      },
      "execution_count": 99,
      "outputs": [
        {
          "output_type": "stream",
          "name": "stdout",
          "text": [
            "[[209 205 206 210 208 208 207 210 208 209 208 207 210 211 209 208 209 212\n",
            "  210 214 215 215 215 215 213 198 178 166]\n",
            " [211 211 210 210 209 208 208 208 206 208 208 207 208 210 210 209 207 207\n",
            "  208 209 210 210 206 207 206 199 180 164]\n",
            " [204 204 204 204 203 203 204 204 204 206 206 203 207 209 213 213 212 214\n",
            "  215 215 215 213 214 211 212 208 188 169]\n",
            " [197 195 195 194 194 195 195 194 193 196 193 193 197 199 206 205 205 206\n",
            "  204 204 208 206 206 206 208 210 194 176]\n",
            " [195 195 194 195 195 196 196 195 194 196 194 194 196 200 208 207 209 210\n",
            "  211 210 211 210 208 209 210 209 196 176]\n",
            " [183 183 183 184 185 185 185 185 185 182 181 183 185 187 200 197 203 205\n",
            "  205 210 210 211 209 209 214 213 206 188]\n",
            " [178 178 179 179 179 180 178 178 177 175 174 173 174 178 191 197 199 200\n",
            "  200 202 199 200 201 202 206 206 204 188]\n",
            " [172 174 174 175 175 175 174 173 171 172 171 171 173 175 182 191 199 205\n",
            "  205 206 206 206 208 212 211 211 210 199]\n",
            " [161 162 160 161 160 159 158 158 156 156 155 157 138 109 116 128 126 148\n",
            "  190 201 200 203 204 206 206 206 207 204]\n",
            " [158 158 155 155 155 152 152 152 151 151 152 137  79 131 166 188 184 119\n",
            "  115 190 200 203 204 204 205 207 208 205]\n",
            " [148 148 146 145 142 142 142 142 141 141 143 131 118 146 159 181 201 156\n",
            "   95 176 201 202 203 204 207 210 212 209]\n",
            " [140 139 137 134 133 133 132 132 131 130 130 132 132 134 150 172 182 121\n",
            "  103 183 196 196 197 199 201 202 203 204]\n",
            " [136 134 132 131 130 130 129 127 126 126 126 126 124 108 112 115  97  80\n",
            "  157 200 199 201 201 202 206 208 209 211]\n",
            " [121 119 119 118 116 116 115 114 112 111 111 113 100  53  57  70 100 104\n",
            "  130 186 193 195 196 196 199 202 203 205]\n",
            " [115 114 115 113 112 111 110 109 108 106 104 105 106 106 121 144 172 175\n",
            "   97 159 196 196 197 199 200 203 205 206]\n",
            " [111 111 110 108 107 106 106 104 103 100  99  99 100 101 115 137 160 182\n",
            "  111 137 197 194 198 200 202 202 205 207]\n",
            " [107 106 105 104 101 100  99  98  97  95  96  96  94  95 110 131 152 169\n",
            "  105 139 192 190 192 194 197 198 200 202]\n",
            " [110 108 107 107 104 103 101 100  99  98  85  90  99  99 115 138 158 131\n",
            "   93 177 198 197 199 202 203 206 208 209]\n",
            " [104 103 101 100  97  95  95  94  93  93  56  35  70  83  95 104  93  87\n",
            "  151 189 189 190 192 194 197 200 202 202]\n",
            " [103 102 100  99  98  96  95  95  94  93  89  55  32  36  47  68 112 162\n",
            "  184 188 190 193 196 199 201 203 204 204]\n",
            " [103 101 100  99  98  97  96  95  94  92  93  93  86  85 104 131 153 168\n",
            "  182 189 191 194 198 200 202 203 203 204]\n",
            " [ 95  94  93  93  92  90  90  90  89  87  87  87  88  89 104 124 144 161\n",
            "  176 182 186 188 192 193 195 196 198 199]\n",
            " [ 98  97  95  95  94  94  93  93  92  91  91  91  90  92 107 130 150 168\n",
            "  184 190 193 196 197 199 200 202 204 206]\n",
            " [ 93  92  91  90  88  88  87  87  86  86  86  86  85  87 102 124 144 161\n",
            "  176 182 184 187 188 191 193 194 195 197]\n",
            " [ 91  90  89  88  86  85  86  85  84  84  85  84  84  85  99 122 144 162\n",
            "  177 184 186 189 191 193 195 197 199 202]\n",
            " [ 92  90  89  88  86  85  85  84  84  84  84  83  83  83  90 114 137 158\n",
            "  175 182 185 187 189 191 193 195 198 201]\n",
            " [ 88  86  85  83  81  80  79  78  77  77  77  78  77  77  79  99 124 146\n",
            "  164 174 178 181 183 186 189 192 195 197]\n",
            " [ 91  90  88  87  85  82  80  80  80  80  80  80  80  80  80  94 121 143\n",
            "  162 175 181 186 189 193 195 198 200 203]]\n"
          ]
        },
        {
          "output_type": "execute_result",
          "data": {
            "text/plain": [
              "(28, 28)"
            ]
          },
          "metadata": {},
          "execution_count": 99
        }
      ]
    },
    {
      "cell_type": "code",
      "source": [
        "# prompt: scale the gray image by dividing by 255\n",
        "\n",
        "# Scale the grayscale image by dividing by 255\n",
        "scaled_gray_image_np = gray_image_np / 255.0\n",
        "print(scaled_gray_image_np)\n",
        "print(scaled_gray_image_np.shape)\n"
      ],
      "metadata": {
        "colab": {
          "base_uri": "https://localhost:8080/"
        },
        "id": "ugV3yQz8dpQc",
        "outputId": "ffb7b328-d66e-46c2-e228-410ba5fa3d91"
      },
      "execution_count": 101,
      "outputs": [
        {
          "output_type": "stream",
          "name": "stdout",
          "text": [
            "[[0.81960784 0.80392157 0.80784314 0.82352941 0.81568627 0.81568627\n",
            "  0.81176471 0.82352941 0.81568627 0.81960784 0.81568627 0.81176471\n",
            "  0.82352941 0.82745098 0.81960784 0.81568627 0.81960784 0.83137255\n",
            "  0.82352941 0.83921569 0.84313725 0.84313725 0.84313725 0.84313725\n",
            "  0.83529412 0.77647059 0.69803922 0.65098039]\n",
            " [0.82745098 0.82745098 0.82352941 0.82352941 0.81960784 0.81568627\n",
            "  0.81568627 0.81568627 0.80784314 0.81568627 0.81568627 0.81176471\n",
            "  0.81568627 0.82352941 0.82352941 0.81960784 0.81176471 0.81176471\n",
            "  0.81568627 0.81960784 0.82352941 0.82352941 0.80784314 0.81176471\n",
            "  0.80784314 0.78039216 0.70588235 0.64313725]\n",
            " [0.8        0.8        0.8        0.8        0.79607843 0.79607843\n",
            "  0.8        0.8        0.8        0.80784314 0.80784314 0.79607843\n",
            "  0.81176471 0.81960784 0.83529412 0.83529412 0.83137255 0.83921569\n",
            "  0.84313725 0.84313725 0.84313725 0.83529412 0.83921569 0.82745098\n",
            "  0.83137255 0.81568627 0.7372549  0.6627451 ]\n",
            " [0.77254902 0.76470588 0.76470588 0.76078431 0.76078431 0.76470588\n",
            "  0.76470588 0.76078431 0.75686275 0.76862745 0.75686275 0.75686275\n",
            "  0.77254902 0.78039216 0.80784314 0.80392157 0.80392157 0.80784314\n",
            "  0.8        0.8        0.81568627 0.80784314 0.80784314 0.80784314\n",
            "  0.81568627 0.82352941 0.76078431 0.69019608]\n",
            " [0.76470588 0.76470588 0.76078431 0.76470588 0.76470588 0.76862745\n",
            "  0.76862745 0.76470588 0.76078431 0.76862745 0.76078431 0.76078431\n",
            "  0.76862745 0.78431373 0.81568627 0.81176471 0.81960784 0.82352941\n",
            "  0.82745098 0.82352941 0.82745098 0.82352941 0.81568627 0.81960784\n",
            "  0.82352941 0.81960784 0.76862745 0.69019608]\n",
            " [0.71764706 0.71764706 0.71764706 0.72156863 0.7254902  0.7254902\n",
            "  0.7254902  0.7254902  0.7254902  0.71372549 0.70980392 0.71764706\n",
            "  0.7254902  0.73333333 0.78431373 0.77254902 0.79607843 0.80392157\n",
            "  0.80392157 0.82352941 0.82352941 0.82745098 0.81960784 0.81960784\n",
            "  0.83921569 0.83529412 0.80784314 0.7372549 ]\n",
            " [0.69803922 0.69803922 0.70196078 0.70196078 0.70196078 0.70588235\n",
            "  0.69803922 0.69803922 0.69411765 0.68627451 0.68235294 0.67843137\n",
            "  0.68235294 0.69803922 0.74901961 0.77254902 0.78039216 0.78431373\n",
            "  0.78431373 0.79215686 0.78039216 0.78431373 0.78823529 0.79215686\n",
            "  0.80784314 0.80784314 0.8        0.7372549 ]\n",
            " [0.6745098  0.68235294 0.68235294 0.68627451 0.68627451 0.68627451\n",
            "  0.68235294 0.67843137 0.67058824 0.6745098  0.67058824 0.67058824\n",
            "  0.67843137 0.68627451 0.71372549 0.74901961 0.78039216 0.80392157\n",
            "  0.80392157 0.80784314 0.80784314 0.80784314 0.81568627 0.83137255\n",
            "  0.82745098 0.82745098 0.82352941 0.78039216]\n",
            " [0.63137255 0.63529412 0.62745098 0.63137255 0.62745098 0.62352941\n",
            "  0.61960784 0.61960784 0.61176471 0.61176471 0.60784314 0.61568627\n",
            "  0.54117647 0.42745098 0.45490196 0.50196078 0.49411765 0.58039216\n",
            "  0.74509804 0.78823529 0.78431373 0.79607843 0.8        0.80784314\n",
            "  0.80784314 0.80784314 0.81176471 0.8       ]\n",
            " [0.61960784 0.61960784 0.60784314 0.60784314 0.60784314 0.59607843\n",
            "  0.59607843 0.59607843 0.59215686 0.59215686 0.59607843 0.5372549\n",
            "  0.30980392 0.51372549 0.65098039 0.7372549  0.72156863 0.46666667\n",
            "  0.45098039 0.74509804 0.78431373 0.79607843 0.8        0.8\n",
            "  0.80392157 0.81176471 0.81568627 0.80392157]\n",
            " [0.58039216 0.58039216 0.57254902 0.56862745 0.55686275 0.55686275\n",
            "  0.55686275 0.55686275 0.55294118 0.55294118 0.56078431 0.51372549\n",
            "  0.4627451  0.57254902 0.62352941 0.70980392 0.78823529 0.61176471\n",
            "  0.37254902 0.69019608 0.78823529 0.79215686 0.79607843 0.8\n",
            "  0.81176471 0.82352941 0.83137255 0.81960784]\n",
            " [0.54901961 0.54509804 0.5372549  0.5254902  0.52156863 0.52156863\n",
            "  0.51764706 0.51764706 0.51372549 0.50980392 0.50980392 0.51764706\n",
            "  0.51764706 0.5254902  0.58823529 0.6745098  0.71372549 0.4745098\n",
            "  0.40392157 0.71764706 0.76862745 0.76862745 0.77254902 0.78039216\n",
            "  0.78823529 0.79215686 0.79607843 0.8       ]\n",
            " [0.53333333 0.5254902  0.51764706 0.51372549 0.50980392 0.50980392\n",
            "  0.50588235 0.49803922 0.49411765 0.49411765 0.49411765 0.49411765\n",
            "  0.48627451 0.42352941 0.43921569 0.45098039 0.38039216 0.31372549\n",
            "  0.61568627 0.78431373 0.78039216 0.78823529 0.78823529 0.79215686\n",
            "  0.80784314 0.81568627 0.81960784 0.82745098]\n",
            " [0.4745098  0.46666667 0.46666667 0.4627451  0.45490196 0.45490196\n",
            "  0.45098039 0.44705882 0.43921569 0.43529412 0.43529412 0.44313725\n",
            "  0.39215686 0.20784314 0.22352941 0.2745098  0.39215686 0.40784314\n",
            "  0.50980392 0.72941176 0.75686275 0.76470588 0.76862745 0.76862745\n",
            "  0.78039216 0.79215686 0.79607843 0.80392157]\n",
            " [0.45098039 0.44705882 0.45098039 0.44313725 0.43921569 0.43529412\n",
            "  0.43137255 0.42745098 0.42352941 0.41568627 0.40784314 0.41176471\n",
            "  0.41568627 0.41568627 0.4745098  0.56470588 0.6745098  0.68627451\n",
            "  0.38039216 0.62352941 0.76862745 0.76862745 0.77254902 0.78039216\n",
            "  0.78431373 0.79607843 0.80392157 0.80784314]\n",
            " [0.43529412 0.43529412 0.43137255 0.42352941 0.41960784 0.41568627\n",
            "  0.41568627 0.40784314 0.40392157 0.39215686 0.38823529 0.38823529\n",
            "  0.39215686 0.39607843 0.45098039 0.5372549  0.62745098 0.71372549\n",
            "  0.43529412 0.5372549  0.77254902 0.76078431 0.77647059 0.78431373\n",
            "  0.79215686 0.79215686 0.80392157 0.81176471]\n",
            " [0.41960784 0.41568627 0.41176471 0.40784314 0.39607843 0.39215686\n",
            "  0.38823529 0.38431373 0.38039216 0.37254902 0.37647059 0.37647059\n",
            "  0.36862745 0.37254902 0.43137255 0.51372549 0.59607843 0.6627451\n",
            "  0.41176471 0.54509804 0.75294118 0.74509804 0.75294118 0.76078431\n",
            "  0.77254902 0.77647059 0.78431373 0.79215686]\n",
            " [0.43137255 0.42352941 0.41960784 0.41960784 0.40784314 0.40392157\n",
            "  0.39607843 0.39215686 0.38823529 0.38431373 0.33333333 0.35294118\n",
            "  0.38823529 0.38823529 0.45098039 0.54117647 0.61960784 0.51372549\n",
            "  0.36470588 0.69411765 0.77647059 0.77254902 0.78039216 0.79215686\n",
            "  0.79607843 0.80784314 0.81568627 0.81960784]\n",
            " [0.40784314 0.40392157 0.39607843 0.39215686 0.38039216 0.37254902\n",
            "  0.37254902 0.36862745 0.36470588 0.36470588 0.21960784 0.1372549\n",
            "  0.2745098  0.3254902  0.37254902 0.40784314 0.36470588 0.34117647\n",
            "  0.59215686 0.74117647 0.74117647 0.74509804 0.75294118 0.76078431\n",
            "  0.77254902 0.78431373 0.79215686 0.79215686]\n",
            " [0.40392157 0.4        0.39215686 0.38823529 0.38431373 0.37647059\n",
            "  0.37254902 0.37254902 0.36862745 0.36470588 0.34901961 0.21568627\n",
            "  0.1254902  0.14117647 0.18431373 0.26666667 0.43921569 0.63529412\n",
            "  0.72156863 0.7372549  0.74509804 0.75686275 0.76862745 0.78039216\n",
            "  0.78823529 0.79607843 0.8        0.8       ]\n",
            " [0.40392157 0.39607843 0.39215686 0.38823529 0.38431373 0.38039216\n",
            "  0.37647059 0.37254902 0.36862745 0.36078431 0.36470588 0.36470588\n",
            "  0.3372549  0.33333333 0.40784314 0.51372549 0.6        0.65882353\n",
            "  0.71372549 0.74117647 0.74901961 0.76078431 0.77647059 0.78431373\n",
            "  0.79215686 0.79607843 0.79607843 0.8       ]\n",
            " [0.37254902 0.36862745 0.36470588 0.36470588 0.36078431 0.35294118\n",
            "  0.35294118 0.35294118 0.34901961 0.34117647 0.34117647 0.34117647\n",
            "  0.34509804 0.34901961 0.40784314 0.48627451 0.56470588 0.63137255\n",
            "  0.69019608 0.71372549 0.72941176 0.7372549  0.75294118 0.75686275\n",
            "  0.76470588 0.76862745 0.77647059 0.78039216]\n",
            " [0.38431373 0.38039216 0.37254902 0.37254902 0.36862745 0.36862745\n",
            "  0.36470588 0.36470588 0.36078431 0.35686275 0.35686275 0.35686275\n",
            "  0.35294118 0.36078431 0.41960784 0.50980392 0.58823529 0.65882353\n",
            "  0.72156863 0.74509804 0.75686275 0.76862745 0.77254902 0.78039216\n",
            "  0.78431373 0.79215686 0.8        0.80784314]\n",
            " [0.36470588 0.36078431 0.35686275 0.35294118 0.34509804 0.34509804\n",
            "  0.34117647 0.34117647 0.3372549  0.3372549  0.3372549  0.3372549\n",
            "  0.33333333 0.34117647 0.4        0.48627451 0.56470588 0.63137255\n",
            "  0.69019608 0.71372549 0.72156863 0.73333333 0.7372549  0.74901961\n",
            "  0.75686275 0.76078431 0.76470588 0.77254902]\n",
            " [0.35686275 0.35294118 0.34901961 0.34509804 0.3372549  0.33333333\n",
            "  0.3372549  0.33333333 0.32941176 0.32941176 0.33333333 0.32941176\n",
            "  0.32941176 0.33333333 0.38823529 0.47843137 0.56470588 0.63529412\n",
            "  0.69411765 0.72156863 0.72941176 0.74117647 0.74901961 0.75686275\n",
            "  0.76470588 0.77254902 0.78039216 0.79215686]\n",
            " [0.36078431 0.35294118 0.34901961 0.34509804 0.3372549  0.33333333\n",
            "  0.33333333 0.32941176 0.32941176 0.32941176 0.32941176 0.3254902\n",
            "  0.3254902  0.3254902  0.35294118 0.44705882 0.5372549  0.61960784\n",
            "  0.68627451 0.71372549 0.7254902  0.73333333 0.74117647 0.74901961\n",
            "  0.75686275 0.76470588 0.77647059 0.78823529]\n",
            " [0.34509804 0.3372549  0.33333333 0.3254902  0.31764706 0.31372549\n",
            "  0.30980392 0.30588235 0.30196078 0.30196078 0.30196078 0.30588235\n",
            "  0.30196078 0.30196078 0.30980392 0.38823529 0.48627451 0.57254902\n",
            "  0.64313725 0.68235294 0.69803922 0.70980392 0.71764706 0.72941176\n",
            "  0.74117647 0.75294118 0.76470588 0.77254902]\n",
            " [0.35686275 0.35294118 0.34509804 0.34117647 0.33333333 0.32156863\n",
            "  0.31372549 0.31372549 0.31372549 0.31372549 0.31372549 0.31372549\n",
            "  0.31372549 0.31372549 0.31372549 0.36862745 0.4745098  0.56078431\n",
            "  0.63529412 0.68627451 0.70980392 0.72941176 0.74117647 0.75686275\n",
            "  0.76470588 0.77647059 0.78431373 0.79607843]]\n",
            "(28, 28)\n"
          ]
        }
      ]
    },
    {
      "cell_type": "code",
      "source": [
        "# prompt: reshape scaled_gray_image to be given as input to models_2c. create a new copy so as to retain the scaled_gray_image\n",
        "\n",
        "# Create a copy of the scaled grayscale image\n",
        "reshaped_image = scaled_gray_image_np.copy()\n",
        "\n",
        "# Reshape the image to match the input shape of models_2c\n",
        "reshaped_image = reshaped_image.reshape(1, 28, 28, 1)\n",
        "\n",
        "reshaped_image.shape\n"
      ],
      "metadata": {
        "colab": {
          "base_uri": "https://localhost:8080/"
        },
        "id": "313iigf1ePa_",
        "outputId": "d37428df-898e-490a-a9ae-f4f2bbb246af"
      },
      "execution_count": 103,
      "outputs": [
        {
          "output_type": "execute_result",
          "data": {
            "text/plain": [
              "(1, 28, 28, 1)"
            ]
          },
          "metadata": {},
          "execution_count": 103
        }
      ]
    },
    {
      "cell_type": "code",
      "source": [
        "myprediction = models_2c.predict(reshaped_image)"
      ],
      "metadata": {
        "colab": {
          "base_uri": "https://localhost:8080/"
        },
        "id": "QTrxukqxelne",
        "outputId": "95ee4d3e-3d7c-4356-9584-0ebe23159f92"
      },
      "execution_count": 105,
      "outputs": [
        {
          "output_type": "stream",
          "name": "stdout",
          "text": [
            "\u001b[1m1/1\u001b[0m \u001b[32m━━━━━━━━━━━━━━━━━━━━\u001b[0m\u001b[37m\u001b[0m \u001b[1m0s\u001b[0m 38ms/step\n"
          ]
        }
      ]
    },
    {
      "cell_type": "code",
      "source": [
        "myprediction"
      ],
      "metadata": {
        "colab": {
          "base_uri": "https://localhost:8080/"
        },
        "id": "Pun62dHkesHv",
        "outputId": "514b3a44-600b-4f6a-9ccb-0197cfa2fb11"
      },
      "execution_count": 106,
      "outputs": [
        {
          "output_type": "execute_result",
          "data": {
            "text/plain": [
              "array([[0.042284  , 0.10811273, 0.03301305, 0.09068685, 0.19751431,\n",
              "        0.08128063, 0.06095776, 0.12297875, 0.13978839, 0.12338349]],\n",
              "      dtype=float32)"
            ]
          },
          "metadata": {},
          "execution_count": 106
        }
      ]
    },
    {
      "cell_type": "code",
      "source": [
        "# prompt: plot scaled_gray_image_np as an image\n",
        "\n",
        "plt.imshow(scaled_gray_image_np, cmap='gray')\n",
        "plt.show()\n"
      ],
      "metadata": {
        "colab": {
          "base_uri": "https://localhost:8080/",
          "height": 430
        },
        "id": "TPqRpcApfWRP",
        "outputId": "ef6b24a6-57a7-46b4-cdb4-d62a3b646387"
      },
      "execution_count": 107,
      "outputs": [
        {
          "output_type": "display_data",
          "data": {
            "text/plain": [
              "<Figure size 640x480 with 1 Axes>"
            ],
            "image/png": "[encoded data removed]"
          },
          "metadata": {}
        }
      ]
    }
  ]
}